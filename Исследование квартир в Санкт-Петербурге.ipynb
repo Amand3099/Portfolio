{
 "cells": [
  {
   "cell_type": "markdown",
   "metadata": {
    "toc": true
   },
   "source": [
    "<h1>Содержание<span class=\"tocSkip\"></span></h1>\n",
    "<div class=\"toc\"><ul class=\"toc-item\"><li><span><a href=\"#Изучение-данных-из-файла\" data-toc-modified-id=\"Изучение-данных-из-файла-1\"><span class=\"toc-item-num\">1&nbsp;&nbsp;</span>Изучение данных из файла</a></span><ul class=\"toc-item\"><li><span><a href=\"#Вывод\" data-toc-modified-id=\"Вывод-1.1\"><span class=\"toc-item-num\">1.1&nbsp;&nbsp;</span>Вывод</a></span></li></ul></li><li><span><a href=\"#Предобработка-данных\" data-toc-modified-id=\"Предобработка-данных-2\"><span class=\"toc-item-num\">2&nbsp;&nbsp;</span>Предобработка данных</a></span><ul class=\"toc-item\"><li><span><a href=\"#Вывод\" data-toc-modified-id=\"Вывод-2.1\"><span class=\"toc-item-num\">2.1&nbsp;&nbsp;</span>Вывод</a></span></li></ul></li><li><span><a href=\"#Расчёты-и-добавление-результатов-в-таблицу\" data-toc-modified-id=\"Расчёты-и-добавление-результатов-в-таблицу-3\"><span class=\"toc-item-num\">3&nbsp;&nbsp;</span>Расчёты и добавление результатов в таблицу</a></span><ul class=\"toc-item\"><li><span><a href=\"#Вывод\" data-toc-modified-id=\"Вывод-3.1\"><span class=\"toc-item-num\">3.1&nbsp;&nbsp;</span>Вывод</a></span></li></ul></li><li><span><a href=\"#Исследовательский-анализ-данных\" data-toc-modified-id=\"Исследовательский-анализ-данных-4\"><span class=\"toc-item-num\">4&nbsp;&nbsp;</span>Исследовательский анализ данных</a></span><ul class=\"toc-item\"><li><span><a href=\"#Вывод\" data-toc-modified-id=\"Вывод-4.1\"><span class=\"toc-item-num\">4.1&nbsp;&nbsp;</span>Вывод</a></span></li></ul></li><li><span><a href=\"#Общий-вывод\" data-toc-modified-id=\"Общий-вывод-5\"><span class=\"toc-item-num\">5&nbsp;&nbsp;</span>Общий вывод</a></span></li></ul></div>"
   ]
  },
  {
   "cell_type": "markdown",
   "metadata": {},
   "source": [
    "# Исследование объявлений о продаже квартир\n",
    "\n",
    "В вашем распоряжении данные сервиса Яндекc Недвижимость — архив объявлений о продаже квартир в Санкт-Петербурге и соседних населённых пунктах за несколько лет. Нужно научиться определять рыночную стоимость объектов недвижимости. Ваша задача — установить параметры. Это позволит построить автоматизированную систему: она отследит аномалии и мошенническую деятельность. \n",
    "\n",
    "По каждой квартире на продажу доступны два вида данных. Первые вписаны пользователем, вторые получены автоматически на основе картографических данных. Например, расстояние до центра, аэропорта, ближайшего парка и водоёма. "
   ]
  },
  {
   "cell_type": "markdown",
   "metadata": {},
   "source": [
    "## Изучение данных из файла"
   ]
  },
  {
   "cell_type": "code",
   "execution_count": 1,
   "metadata": {},
   "outputs": [],
   "source": [
    "import pandas as pd #импорт библиотеки pandas\n",
    "import warnings #отключение варнингов\n",
    "warnings.filterwarnings(\"ignore\")"
   ]
  },
  {
   "cell_type": "code",
   "execution_count": 2,
   "metadata": {},
   "outputs": [
    {
     "data": {
      "text/html": [
       "<div>\n",
       "<style scoped>\n",
       "    .dataframe tbody tr th:only-of-type {\n",
       "        vertical-align: middle;\n",
       "    }\n",
       "\n",
       "    .dataframe tbody tr th {\n",
       "        vertical-align: top;\n",
       "    }\n",
       "\n",
       "    .dataframe thead th {\n",
       "        text-align: right;\n",
       "    }\n",
       "</style>\n",
       "<table border=\"1\" class=\"dataframe\">\n",
       "  <thead>\n",
       "    <tr style=\"text-align: right;\">\n",
       "      <th></th>\n",
       "      <th>total_images\\tlast_price\\ttotal_area\\tfirst_day_exposition\\trooms\\tceiling_height\\tfloors_total\\tliving_area\\tfloor\\tis_apartment\\tstudio\\topen_plan\\tkitchen_area\\tbalcony\\tlocality_name\\tairports_nearest\\tcityCenters_nearest\\tparks_around3000\\tparks_nearest\\tponds_around3000\\tponds_nearest\\tdays_exposition</th>\n",
       "    </tr>\n",
       "  </thead>\n",
       "  <tbody>\n",
       "    <tr>\n",
       "      <th>0</th>\n",
       "      <td>20\\t13000000.0\\t108.0\\t2019-03-07T00:00:00\\t3\\...</td>\n",
       "    </tr>\n",
       "    <tr>\n",
       "      <th>1</th>\n",
       "      <td>7\\t3350000.0\\t40.4\\t2018-12-04T00:00:00\\t1\\t\\t...</td>\n",
       "    </tr>\n",
       "    <tr>\n",
       "      <th>2</th>\n",
       "      <td>10\\t5196000.0\\t56.0\\t2015-08-20T00:00:00\\t2\\t\\...</td>\n",
       "    </tr>\n",
       "    <tr>\n",
       "      <th>3</th>\n",
       "      <td>0\\t64900000.0\\t159.0\\t2015-07-24T00:00:00\\t3\\t...</td>\n",
       "    </tr>\n",
       "    <tr>\n",
       "      <th>4</th>\n",
       "      <td>2\\t10000000.0\\t100.0\\t2018-06-19T00:00:00\\t2\\t...</td>\n",
       "    </tr>\n",
       "    <tr>\n",
       "      <th>5</th>\n",
       "      <td>10\\t2890000.0\\t30.4\\t2018-09-10T00:00:00\\t1\\t\\...</td>\n",
       "    </tr>\n",
       "    <tr>\n",
       "      <th>6</th>\n",
       "      <td>6\\t3700000.0\\t37.3\\t2017-11-02T00:00:00\\t1\\t\\t...</td>\n",
       "    </tr>\n",
       "    <tr>\n",
       "      <th>7</th>\n",
       "      <td>5\\t7915000.0\\t71.6\\t2019-04-18T00:00:00\\t2\\t\\t...</td>\n",
       "    </tr>\n",
       "    <tr>\n",
       "      <th>8</th>\n",
       "      <td>20\\t2900000.0\\t33.16\\t2018-05-23T00:00:00\\t1\\t...</td>\n",
       "    </tr>\n",
       "    <tr>\n",
       "      <th>9</th>\n",
       "      <td>18\\t5400000.0\\t61.0\\t2017-02-26T00:00:00\\t3\\t2...</td>\n",
       "    </tr>\n",
       "  </tbody>\n",
       "</table>\n",
       "</div>"
      ],
      "text/plain": [
       "  total_images\\tlast_price\\ttotal_area\\tfirst_day_exposition\\trooms\\tceiling_height\\tfloors_total\\tliving_area\\tfloor\\tis_apartment\\tstudio\\topen_plan\\tkitchen_area\\tbalcony\\tlocality_name\\tairports_nearest\\tcityCenters_nearest\\tparks_around3000\\tparks_nearest\\tponds_around3000\\tponds_nearest\\tdays_exposition\n",
       "0  20\\t13000000.0\\t108.0\\t2019-03-07T00:00:00\\t3\\...                                                                                                                                                                                                                                                                  \n",
       "1  7\\t3350000.0\\t40.4\\t2018-12-04T00:00:00\\t1\\t\\t...                                                                                                                                                                                                                                                                  \n",
       "2  10\\t5196000.0\\t56.0\\t2015-08-20T00:00:00\\t2\\t\\...                                                                                                                                                                                                                                                                  \n",
       "3  0\\t64900000.0\\t159.0\\t2015-07-24T00:00:00\\t3\\t...                                                                                                                                                                                                                                                                  \n",
       "4  2\\t10000000.0\\t100.0\\t2018-06-19T00:00:00\\t2\\t...                                                                                                                                                                                                                                                                  \n",
       "5  10\\t2890000.0\\t30.4\\t2018-09-10T00:00:00\\t1\\t\\...                                                                                                                                                                                                                                                                  \n",
       "6  6\\t3700000.0\\t37.3\\t2017-11-02T00:00:00\\t1\\t\\t...                                                                                                                                                                                                                                                                  \n",
       "7  5\\t7915000.0\\t71.6\\t2019-04-18T00:00:00\\t2\\t\\t...                                                                                                                                                                                                                                                                  \n",
       "8  20\\t2900000.0\\t33.16\\t2018-05-23T00:00:00\\t1\\t...                                                                                                                                                                                                                                                                  \n",
       "9  18\\t5400000.0\\t61.0\\t2017-02-26T00:00:00\\t3\\t2...                                                                                                                                                                                                                                                                  "
      ]
     },
     "metadata": {},
     "output_type": "display_data"
    },
    {
     "name": "stdout",
     "output_type": "stream",
     "text": [
      "<class 'pandas.core.frame.DataFrame'>\n",
      "RangeIndex: 23699 entries, 0 to 23698\n",
      "Data columns (total 1 columns):\n",
      " #   Column                                                                                                                                                                                                                                                                                           Non-Null Count  Dtype \n",
      "---  ------                                                                                                                                                                                                                                                                                           --------------  ----- \n",
      " 0   total_images\tlast_price\ttotal_area\tfirst_day_exposition\trooms\tceiling_height\tfloors_total\tliving_area\tfloor\tis_apartment\tstudio\topen_plan\tkitchen_area\tbalcony\tlocality_name\tairports_nearest\tcityCenters_nearest\tparks_around3000\tparks_nearest\tponds_around3000\tponds_nearest\tdays_exposition  23699 non-null  object\n",
      "dtypes: object(1)\n",
      "memory usage: 185.3+ KB\n"
     ]
    }
   ],
   "source": [
    "df = pd.read_csv('/datasets/real_estate_data.csv') #чтение файла с данными и сохранение в df\n",
    "display(df.head(10)) #вывод на экран первых 10 строк таблицы df\n",
    "df.info() #получение общей информации о таблице df"
   ]
  },
  {
   "cell_type": "markdown",
   "metadata": {},
   "source": [
    "Исходные данные представлены в форме таблицы с одним столбцом, в названии которого — названия столбцов, разделенные символами \"\\t\", внутри самого столбца — значения столбцов, также разделенные символами \"\\t\". Тип данных в столбце — `object`. Следует разделить этот столбец на несколько и привести таблицу к соответствующему виду.\n"
   ]
  },
  {
   "cell_type": "code",
   "execution_count": 3,
   "metadata": {},
   "outputs": [
    {
     "data": {
      "text/html": [
       "<div>\n",
       "<style scoped>\n",
       "    .dataframe tbody tr th:only-of-type {\n",
       "        vertical-align: middle;\n",
       "    }\n",
       "\n",
       "    .dataframe tbody tr th {\n",
       "        vertical-align: top;\n",
       "    }\n",
       "\n",
       "    .dataframe thead th {\n",
       "        text-align: right;\n",
       "    }\n",
       "</style>\n",
       "<table border=\"1\" class=\"dataframe\">\n",
       "  <thead>\n",
       "    <tr style=\"text-align: right;\">\n",
       "      <th></th>\n",
       "      <th>total_images</th>\n",
       "      <th>last_price</th>\n",
       "      <th>total_area</th>\n",
       "      <th>first_day_exposition</th>\n",
       "      <th>rooms</th>\n",
       "      <th>ceiling_height</th>\n",
       "      <th>floors_total</th>\n",
       "      <th>living_area</th>\n",
       "      <th>floor</th>\n",
       "      <th>is_apartment</th>\n",
       "      <th>...</th>\n",
       "      <th>kitchen_area</th>\n",
       "      <th>balcony</th>\n",
       "      <th>locality_name</th>\n",
       "      <th>airports_nearest</th>\n",
       "      <th>cityCenters_nearest</th>\n",
       "      <th>parks_around3000</th>\n",
       "      <th>parks_nearest</th>\n",
       "      <th>ponds_around3000</th>\n",
       "      <th>ponds_nearest</th>\n",
       "      <th>days_exposition</th>\n",
       "    </tr>\n",
       "  </thead>\n",
       "  <tbody>\n",
       "    <tr>\n",
       "      <th>0</th>\n",
       "      <td>20</td>\n",
       "      <td>13000000.0</td>\n",
       "      <td>108.00</td>\n",
       "      <td>2019-03-07T00:00:00</td>\n",
       "      <td>3</td>\n",
       "      <td>2.70</td>\n",
       "      <td>16.0</td>\n",
       "      <td>51.00</td>\n",
       "      <td>8</td>\n",
       "      <td>NaN</td>\n",
       "      <td>...</td>\n",
       "      <td>25.00</td>\n",
       "      <td>NaN</td>\n",
       "      <td>Санкт-Петербург</td>\n",
       "      <td>18863.0</td>\n",
       "      <td>16028.0</td>\n",
       "      <td>1.0</td>\n",
       "      <td>482.0</td>\n",
       "      <td>2.0</td>\n",
       "      <td>755.0</td>\n",
       "      <td>NaN</td>\n",
       "    </tr>\n",
       "    <tr>\n",
       "      <th>1</th>\n",
       "      <td>7</td>\n",
       "      <td>3350000.0</td>\n",
       "      <td>40.40</td>\n",
       "      <td>2018-12-04T00:00:00</td>\n",
       "      <td>1</td>\n",
       "      <td>NaN</td>\n",
       "      <td>11.0</td>\n",
       "      <td>18.60</td>\n",
       "      <td>1</td>\n",
       "      <td>NaN</td>\n",
       "      <td>...</td>\n",
       "      <td>11.00</td>\n",
       "      <td>2.0</td>\n",
       "      <td>посёлок Шушары</td>\n",
       "      <td>12817.0</td>\n",
       "      <td>18603.0</td>\n",
       "      <td>0.0</td>\n",
       "      <td>NaN</td>\n",
       "      <td>0.0</td>\n",
       "      <td>NaN</td>\n",
       "      <td>81.0</td>\n",
       "    </tr>\n",
       "    <tr>\n",
       "      <th>2</th>\n",
       "      <td>10</td>\n",
       "      <td>5196000.0</td>\n",
       "      <td>56.00</td>\n",
       "      <td>2015-08-20T00:00:00</td>\n",
       "      <td>2</td>\n",
       "      <td>NaN</td>\n",
       "      <td>5.0</td>\n",
       "      <td>34.30</td>\n",
       "      <td>4</td>\n",
       "      <td>NaN</td>\n",
       "      <td>...</td>\n",
       "      <td>8.30</td>\n",
       "      <td>0.0</td>\n",
       "      <td>Санкт-Петербург</td>\n",
       "      <td>21741.0</td>\n",
       "      <td>13933.0</td>\n",
       "      <td>1.0</td>\n",
       "      <td>90.0</td>\n",
       "      <td>2.0</td>\n",
       "      <td>574.0</td>\n",
       "      <td>558.0</td>\n",
       "    </tr>\n",
       "    <tr>\n",
       "      <th>3</th>\n",
       "      <td>0</td>\n",
       "      <td>64900000.0</td>\n",
       "      <td>159.00</td>\n",
       "      <td>2015-07-24T00:00:00</td>\n",
       "      <td>3</td>\n",
       "      <td>NaN</td>\n",
       "      <td>14.0</td>\n",
       "      <td>NaN</td>\n",
       "      <td>9</td>\n",
       "      <td>NaN</td>\n",
       "      <td>...</td>\n",
       "      <td>NaN</td>\n",
       "      <td>0.0</td>\n",
       "      <td>Санкт-Петербург</td>\n",
       "      <td>28098.0</td>\n",
       "      <td>6800.0</td>\n",
       "      <td>2.0</td>\n",
       "      <td>84.0</td>\n",
       "      <td>3.0</td>\n",
       "      <td>234.0</td>\n",
       "      <td>424.0</td>\n",
       "    </tr>\n",
       "    <tr>\n",
       "      <th>4</th>\n",
       "      <td>2</td>\n",
       "      <td>10000000.0</td>\n",
       "      <td>100.00</td>\n",
       "      <td>2018-06-19T00:00:00</td>\n",
       "      <td>2</td>\n",
       "      <td>3.03</td>\n",
       "      <td>14.0</td>\n",
       "      <td>32.00</td>\n",
       "      <td>13</td>\n",
       "      <td>NaN</td>\n",
       "      <td>...</td>\n",
       "      <td>41.00</td>\n",
       "      <td>NaN</td>\n",
       "      <td>Санкт-Петербург</td>\n",
       "      <td>31856.0</td>\n",
       "      <td>8098.0</td>\n",
       "      <td>2.0</td>\n",
       "      <td>112.0</td>\n",
       "      <td>1.0</td>\n",
       "      <td>48.0</td>\n",
       "      <td>121.0</td>\n",
       "    </tr>\n",
       "    <tr>\n",
       "      <th>5</th>\n",
       "      <td>10</td>\n",
       "      <td>2890000.0</td>\n",
       "      <td>30.40</td>\n",
       "      <td>2018-09-10T00:00:00</td>\n",
       "      <td>1</td>\n",
       "      <td>NaN</td>\n",
       "      <td>12.0</td>\n",
       "      <td>14.40</td>\n",
       "      <td>5</td>\n",
       "      <td>NaN</td>\n",
       "      <td>...</td>\n",
       "      <td>9.10</td>\n",
       "      <td>NaN</td>\n",
       "      <td>городской посёлок Янино-1</td>\n",
       "      <td>NaN</td>\n",
       "      <td>NaN</td>\n",
       "      <td>NaN</td>\n",
       "      <td>NaN</td>\n",
       "      <td>NaN</td>\n",
       "      <td>NaN</td>\n",
       "      <td>55.0</td>\n",
       "    </tr>\n",
       "    <tr>\n",
       "      <th>6</th>\n",
       "      <td>6</td>\n",
       "      <td>3700000.0</td>\n",
       "      <td>37.30</td>\n",
       "      <td>2017-11-02T00:00:00</td>\n",
       "      <td>1</td>\n",
       "      <td>NaN</td>\n",
       "      <td>26.0</td>\n",
       "      <td>10.60</td>\n",
       "      <td>6</td>\n",
       "      <td>NaN</td>\n",
       "      <td>...</td>\n",
       "      <td>14.40</td>\n",
       "      <td>1.0</td>\n",
       "      <td>посёлок Парголово</td>\n",
       "      <td>52996.0</td>\n",
       "      <td>19143.0</td>\n",
       "      <td>0.0</td>\n",
       "      <td>NaN</td>\n",
       "      <td>0.0</td>\n",
       "      <td>NaN</td>\n",
       "      <td>155.0</td>\n",
       "    </tr>\n",
       "    <tr>\n",
       "      <th>7</th>\n",
       "      <td>5</td>\n",
       "      <td>7915000.0</td>\n",
       "      <td>71.60</td>\n",
       "      <td>2019-04-18T00:00:00</td>\n",
       "      <td>2</td>\n",
       "      <td>NaN</td>\n",
       "      <td>24.0</td>\n",
       "      <td>NaN</td>\n",
       "      <td>22</td>\n",
       "      <td>NaN</td>\n",
       "      <td>...</td>\n",
       "      <td>18.90</td>\n",
       "      <td>2.0</td>\n",
       "      <td>Санкт-Петербург</td>\n",
       "      <td>23982.0</td>\n",
       "      <td>11634.0</td>\n",
       "      <td>0.0</td>\n",
       "      <td>NaN</td>\n",
       "      <td>0.0</td>\n",
       "      <td>NaN</td>\n",
       "      <td>NaN</td>\n",
       "    </tr>\n",
       "    <tr>\n",
       "      <th>8</th>\n",
       "      <td>20</td>\n",
       "      <td>2900000.0</td>\n",
       "      <td>33.16</td>\n",
       "      <td>2018-05-23T00:00:00</td>\n",
       "      <td>1</td>\n",
       "      <td>NaN</td>\n",
       "      <td>27.0</td>\n",
       "      <td>15.43</td>\n",
       "      <td>26</td>\n",
       "      <td>NaN</td>\n",
       "      <td>...</td>\n",
       "      <td>8.81</td>\n",
       "      <td>NaN</td>\n",
       "      <td>посёлок Мурино</td>\n",
       "      <td>NaN</td>\n",
       "      <td>NaN</td>\n",
       "      <td>NaN</td>\n",
       "      <td>NaN</td>\n",
       "      <td>NaN</td>\n",
       "      <td>NaN</td>\n",
       "      <td>189.0</td>\n",
       "    </tr>\n",
       "    <tr>\n",
       "      <th>9</th>\n",
       "      <td>18</td>\n",
       "      <td>5400000.0</td>\n",
       "      <td>61.00</td>\n",
       "      <td>2017-02-26T00:00:00</td>\n",
       "      <td>3</td>\n",
       "      <td>2.50</td>\n",
       "      <td>9.0</td>\n",
       "      <td>43.60</td>\n",
       "      <td>7</td>\n",
       "      <td>NaN</td>\n",
       "      <td>...</td>\n",
       "      <td>6.50</td>\n",
       "      <td>2.0</td>\n",
       "      <td>Санкт-Петербург</td>\n",
       "      <td>50898.0</td>\n",
       "      <td>15008.0</td>\n",
       "      <td>0.0</td>\n",
       "      <td>NaN</td>\n",
       "      <td>0.0</td>\n",
       "      <td>NaN</td>\n",
       "      <td>289.0</td>\n",
       "    </tr>\n",
       "  </tbody>\n",
       "</table>\n",
       "<p>10 rows × 22 columns</p>\n",
       "</div>"
      ],
      "text/plain": [
       "   total_images  last_price  total_area first_day_exposition  rooms  \\\n",
       "0            20  13000000.0      108.00  2019-03-07T00:00:00      3   \n",
       "1             7   3350000.0       40.40  2018-12-04T00:00:00      1   \n",
       "2            10   5196000.0       56.00  2015-08-20T00:00:00      2   \n",
       "3             0  64900000.0      159.00  2015-07-24T00:00:00      3   \n",
       "4             2  10000000.0      100.00  2018-06-19T00:00:00      2   \n",
       "5            10   2890000.0       30.40  2018-09-10T00:00:00      1   \n",
       "6             6   3700000.0       37.30  2017-11-02T00:00:00      1   \n",
       "7             5   7915000.0       71.60  2019-04-18T00:00:00      2   \n",
       "8            20   2900000.0       33.16  2018-05-23T00:00:00      1   \n",
       "9            18   5400000.0       61.00  2017-02-26T00:00:00      3   \n",
       "\n",
       "   ceiling_height  floors_total  living_area  floor is_apartment  ...  \\\n",
       "0            2.70          16.0        51.00      8          NaN  ...   \n",
       "1             NaN          11.0        18.60      1          NaN  ...   \n",
       "2             NaN           5.0        34.30      4          NaN  ...   \n",
       "3             NaN          14.0          NaN      9          NaN  ...   \n",
       "4            3.03          14.0        32.00     13          NaN  ...   \n",
       "5             NaN          12.0        14.40      5          NaN  ...   \n",
       "6             NaN          26.0        10.60      6          NaN  ...   \n",
       "7             NaN          24.0          NaN     22          NaN  ...   \n",
       "8             NaN          27.0        15.43     26          NaN  ...   \n",
       "9            2.50           9.0        43.60      7          NaN  ...   \n",
       "\n",
       "   kitchen_area  balcony              locality_name  airports_nearest  \\\n",
       "0         25.00      NaN            Санкт-Петербург           18863.0   \n",
       "1         11.00      2.0             посёлок Шушары           12817.0   \n",
       "2          8.30      0.0            Санкт-Петербург           21741.0   \n",
       "3           NaN      0.0            Санкт-Петербург           28098.0   \n",
       "4         41.00      NaN            Санкт-Петербург           31856.0   \n",
       "5          9.10      NaN  городской посёлок Янино-1               NaN   \n",
       "6         14.40      1.0          посёлок Парголово           52996.0   \n",
       "7         18.90      2.0            Санкт-Петербург           23982.0   \n",
       "8          8.81      NaN             посёлок Мурино               NaN   \n",
       "9          6.50      2.0            Санкт-Петербург           50898.0   \n",
       "\n",
       "  cityCenters_nearest  parks_around3000  parks_nearest  ponds_around3000  \\\n",
       "0             16028.0               1.0          482.0               2.0   \n",
       "1             18603.0               0.0            NaN               0.0   \n",
       "2             13933.0               1.0           90.0               2.0   \n",
       "3              6800.0               2.0           84.0               3.0   \n",
       "4              8098.0               2.0          112.0               1.0   \n",
       "5                 NaN               NaN            NaN               NaN   \n",
       "6             19143.0               0.0            NaN               0.0   \n",
       "7             11634.0               0.0            NaN               0.0   \n",
       "8                 NaN               NaN            NaN               NaN   \n",
       "9             15008.0               0.0            NaN               0.0   \n",
       "\n",
       "   ponds_nearest  days_exposition  \n",
       "0          755.0              NaN  \n",
       "1            NaN             81.0  \n",
       "2          574.0            558.0  \n",
       "3          234.0            424.0  \n",
       "4           48.0            121.0  \n",
       "5            NaN             55.0  \n",
       "6            NaN            155.0  \n",
       "7            NaN              NaN  \n",
       "8            NaN            189.0  \n",
       "9            NaN            289.0  \n",
       "\n",
       "[10 rows x 22 columns]"
      ]
     },
     "metadata": {},
     "output_type": "display_data"
    },
    {
     "name": "stdout",
     "output_type": "stream",
     "text": [
      "<class 'pandas.core.frame.DataFrame'>\n",
      "RangeIndex: 23699 entries, 0 to 23698\n",
      "Data columns (total 22 columns):\n",
      " #   Column                Non-Null Count  Dtype  \n",
      "---  ------                --------------  -----  \n",
      " 0   total_images          23699 non-null  int64  \n",
      " 1   last_price            23699 non-null  float64\n",
      " 2   total_area            23699 non-null  float64\n",
      " 3   first_day_exposition  23699 non-null  object \n",
      " 4   rooms                 23699 non-null  int64  \n",
      " 5   ceiling_height        14504 non-null  float64\n",
      " 6   floors_total          23613 non-null  float64\n",
      " 7   living_area           21796 non-null  float64\n",
      " 8   floor                 23699 non-null  int64  \n",
      " 9   is_apartment          2775 non-null   object \n",
      " 10  studio                23699 non-null  bool   \n",
      " 11  open_plan             23699 non-null  bool   \n",
      " 12  kitchen_area          21421 non-null  float64\n",
      " 13  balcony               12180 non-null  float64\n",
      " 14  locality_name         23650 non-null  object \n",
      " 15  airports_nearest      18157 non-null  float64\n",
      " 16  cityCenters_nearest   18180 non-null  float64\n",
      " 17  parks_around3000      18181 non-null  float64\n",
      " 18  parks_nearest         8079 non-null   float64\n",
      " 19  ponds_around3000      18181 non-null  float64\n",
      " 20  ponds_nearest         9110 non-null   float64\n",
      " 21  days_exposition       20518 non-null  float64\n",
      "dtypes: bool(2), float64(14), int64(3), object(3)\n",
      "memory usage: 3.7+ MB\n"
     ]
    },
    {
     "data": {
      "text/html": [
       "<div>\n",
       "<style scoped>\n",
       "    .dataframe tbody tr th:only-of-type {\n",
       "        vertical-align: middle;\n",
       "    }\n",
       "\n",
       "    .dataframe tbody tr th {\n",
       "        vertical-align: top;\n",
       "    }\n",
       "\n",
       "    .dataframe thead th {\n",
       "        text-align: right;\n",
       "    }\n",
       "</style>\n",
       "<table border=\"1\" class=\"dataframe\">\n",
       "  <thead>\n",
       "    <tr style=\"text-align: right;\">\n",
       "      <th></th>\n",
       "      <th>total_images</th>\n",
       "      <th>last_price</th>\n",
       "      <th>total_area</th>\n",
       "      <th>rooms</th>\n",
       "      <th>ceiling_height</th>\n",
       "      <th>floors_total</th>\n",
       "      <th>living_area</th>\n",
       "      <th>floor</th>\n",
       "      <th>kitchen_area</th>\n",
       "      <th>balcony</th>\n",
       "      <th>airports_nearest</th>\n",
       "      <th>cityCenters_nearest</th>\n",
       "      <th>parks_around3000</th>\n",
       "      <th>parks_nearest</th>\n",
       "      <th>ponds_around3000</th>\n",
       "      <th>ponds_nearest</th>\n",
       "      <th>days_exposition</th>\n",
       "    </tr>\n",
       "  </thead>\n",
       "  <tbody>\n",
       "    <tr>\n",
       "      <th>count</th>\n",
       "      <td>23699.000000</td>\n",
       "      <td>2.369900e+04</td>\n",
       "      <td>23699.000000</td>\n",
       "      <td>23699.000000</td>\n",
       "      <td>14504.000000</td>\n",
       "      <td>23613.000000</td>\n",
       "      <td>21796.000000</td>\n",
       "      <td>23699.000000</td>\n",
       "      <td>21421.000000</td>\n",
       "      <td>12180.000000</td>\n",
       "      <td>18157.000000</td>\n",
       "      <td>18180.000000</td>\n",
       "      <td>18181.000000</td>\n",
       "      <td>8079.000000</td>\n",
       "      <td>18181.000000</td>\n",
       "      <td>9110.000000</td>\n",
       "      <td>20518.000000</td>\n",
       "    </tr>\n",
       "    <tr>\n",
       "      <th>mean</th>\n",
       "      <td>9.858475</td>\n",
       "      <td>6.541549e+06</td>\n",
       "      <td>60.348651</td>\n",
       "      <td>2.070636</td>\n",
       "      <td>2.771499</td>\n",
       "      <td>10.673824</td>\n",
       "      <td>34.457852</td>\n",
       "      <td>5.892358</td>\n",
       "      <td>10.569807</td>\n",
       "      <td>1.150082</td>\n",
       "      <td>28793.672193</td>\n",
       "      <td>14191.277833</td>\n",
       "      <td>0.611408</td>\n",
       "      <td>490.804555</td>\n",
       "      <td>0.770255</td>\n",
       "      <td>517.980900</td>\n",
       "      <td>180.888634</td>\n",
       "    </tr>\n",
       "    <tr>\n",
       "      <th>std</th>\n",
       "      <td>5.682529</td>\n",
       "      <td>1.088701e+07</td>\n",
       "      <td>35.654083</td>\n",
       "      <td>1.078405</td>\n",
       "      <td>1.261056</td>\n",
       "      <td>6.597173</td>\n",
       "      <td>22.030445</td>\n",
       "      <td>4.885249</td>\n",
       "      <td>5.905438</td>\n",
       "      <td>1.071300</td>\n",
       "      <td>12630.880622</td>\n",
       "      <td>8608.386210</td>\n",
       "      <td>0.802074</td>\n",
       "      <td>342.317995</td>\n",
       "      <td>0.938346</td>\n",
       "      <td>277.720643</td>\n",
       "      <td>219.727988</td>\n",
       "    </tr>\n",
       "    <tr>\n",
       "      <th>min</th>\n",
       "      <td>0.000000</td>\n",
       "      <td>1.219000e+04</td>\n",
       "      <td>12.000000</td>\n",
       "      <td>0.000000</td>\n",
       "      <td>1.000000</td>\n",
       "      <td>1.000000</td>\n",
       "      <td>2.000000</td>\n",
       "      <td>1.000000</td>\n",
       "      <td>1.300000</td>\n",
       "      <td>0.000000</td>\n",
       "      <td>0.000000</td>\n",
       "      <td>181.000000</td>\n",
       "      <td>0.000000</td>\n",
       "      <td>1.000000</td>\n",
       "      <td>0.000000</td>\n",
       "      <td>13.000000</td>\n",
       "      <td>1.000000</td>\n",
       "    </tr>\n",
       "    <tr>\n",
       "      <th>25%</th>\n",
       "      <td>6.000000</td>\n",
       "      <td>3.400000e+06</td>\n",
       "      <td>40.000000</td>\n",
       "      <td>1.000000</td>\n",
       "      <td>2.520000</td>\n",
       "      <td>5.000000</td>\n",
       "      <td>18.600000</td>\n",
       "      <td>2.000000</td>\n",
       "      <td>7.000000</td>\n",
       "      <td>0.000000</td>\n",
       "      <td>18585.000000</td>\n",
       "      <td>9238.000000</td>\n",
       "      <td>0.000000</td>\n",
       "      <td>288.000000</td>\n",
       "      <td>0.000000</td>\n",
       "      <td>294.000000</td>\n",
       "      <td>45.000000</td>\n",
       "    </tr>\n",
       "    <tr>\n",
       "      <th>50%</th>\n",
       "      <td>9.000000</td>\n",
       "      <td>4.650000e+06</td>\n",
       "      <td>52.000000</td>\n",
       "      <td>2.000000</td>\n",
       "      <td>2.650000</td>\n",
       "      <td>9.000000</td>\n",
       "      <td>30.000000</td>\n",
       "      <td>4.000000</td>\n",
       "      <td>9.100000</td>\n",
       "      <td>1.000000</td>\n",
       "      <td>26726.000000</td>\n",
       "      <td>13098.500000</td>\n",
       "      <td>0.000000</td>\n",
       "      <td>455.000000</td>\n",
       "      <td>1.000000</td>\n",
       "      <td>502.000000</td>\n",
       "      <td>95.000000</td>\n",
       "    </tr>\n",
       "    <tr>\n",
       "      <th>75%</th>\n",
       "      <td>14.000000</td>\n",
       "      <td>6.800000e+06</td>\n",
       "      <td>69.900000</td>\n",
       "      <td>3.000000</td>\n",
       "      <td>2.800000</td>\n",
       "      <td>16.000000</td>\n",
       "      <td>42.300000</td>\n",
       "      <td>8.000000</td>\n",
       "      <td>12.000000</td>\n",
       "      <td>2.000000</td>\n",
       "      <td>37273.000000</td>\n",
       "      <td>16293.000000</td>\n",
       "      <td>1.000000</td>\n",
       "      <td>612.000000</td>\n",
       "      <td>1.000000</td>\n",
       "      <td>729.000000</td>\n",
       "      <td>232.000000</td>\n",
       "    </tr>\n",
       "    <tr>\n",
       "      <th>max</th>\n",
       "      <td>50.000000</td>\n",
       "      <td>7.630000e+08</td>\n",
       "      <td>900.000000</td>\n",
       "      <td>19.000000</td>\n",
       "      <td>100.000000</td>\n",
       "      <td>60.000000</td>\n",
       "      <td>409.700000</td>\n",
       "      <td>33.000000</td>\n",
       "      <td>112.000000</td>\n",
       "      <td>5.000000</td>\n",
       "      <td>84869.000000</td>\n",
       "      <td>65968.000000</td>\n",
       "      <td>3.000000</td>\n",
       "      <td>3190.000000</td>\n",
       "      <td>3.000000</td>\n",
       "      <td>1344.000000</td>\n",
       "      <td>1580.000000</td>\n",
       "    </tr>\n",
       "  </tbody>\n",
       "</table>\n",
       "</div>"
      ],
      "text/plain": [
       "       total_images    last_price    total_area         rooms  ceiling_height  \\\n",
       "count  23699.000000  2.369900e+04  23699.000000  23699.000000    14504.000000   \n",
       "mean       9.858475  6.541549e+06     60.348651      2.070636        2.771499   \n",
       "std        5.682529  1.088701e+07     35.654083      1.078405        1.261056   \n",
       "min        0.000000  1.219000e+04     12.000000      0.000000        1.000000   \n",
       "25%        6.000000  3.400000e+06     40.000000      1.000000        2.520000   \n",
       "50%        9.000000  4.650000e+06     52.000000      2.000000        2.650000   \n",
       "75%       14.000000  6.800000e+06     69.900000      3.000000        2.800000   \n",
       "max       50.000000  7.630000e+08    900.000000     19.000000      100.000000   \n",
       "\n",
       "       floors_total   living_area         floor  kitchen_area       balcony  \\\n",
       "count  23613.000000  21796.000000  23699.000000  21421.000000  12180.000000   \n",
       "mean      10.673824     34.457852      5.892358     10.569807      1.150082   \n",
       "std        6.597173     22.030445      4.885249      5.905438      1.071300   \n",
       "min        1.000000      2.000000      1.000000      1.300000      0.000000   \n",
       "25%        5.000000     18.600000      2.000000      7.000000      0.000000   \n",
       "50%        9.000000     30.000000      4.000000      9.100000      1.000000   \n",
       "75%       16.000000     42.300000      8.000000     12.000000      2.000000   \n",
       "max       60.000000    409.700000     33.000000    112.000000      5.000000   \n",
       "\n",
       "       airports_nearest  cityCenters_nearest  parks_around3000  parks_nearest  \\\n",
       "count      18157.000000         18180.000000      18181.000000    8079.000000   \n",
       "mean       28793.672193         14191.277833          0.611408     490.804555   \n",
       "std        12630.880622          8608.386210          0.802074     342.317995   \n",
       "min            0.000000           181.000000          0.000000       1.000000   \n",
       "25%        18585.000000          9238.000000          0.000000     288.000000   \n",
       "50%        26726.000000         13098.500000          0.000000     455.000000   \n",
       "75%        37273.000000         16293.000000          1.000000     612.000000   \n",
       "max        84869.000000         65968.000000          3.000000    3190.000000   \n",
       "\n",
       "       ponds_around3000  ponds_nearest  days_exposition  \n",
       "count      18181.000000    9110.000000     20518.000000  \n",
       "mean           0.770255     517.980900       180.888634  \n",
       "std            0.938346     277.720643       219.727988  \n",
       "min            0.000000      13.000000         1.000000  \n",
       "25%            0.000000     294.000000        45.000000  \n",
       "50%            1.000000     502.000000        95.000000  \n",
       "75%            1.000000     729.000000       232.000000  \n",
       "max            3.000000    1344.000000      1580.000000  "
      ]
     },
     "execution_count": 3,
     "metadata": {},
     "output_type": "execute_result"
    }
   ],
   "source": [
    "df = pd.read_csv('/datasets/real_estate_data.csv',sep='\\t') #повторное чтение файла с данными, сохранение в df с учетом разделителя \"\\t\" \n",
    "display(df.head(10)) #повторный вывод на экран первых 10 строк таблицы df\n",
    "df.info() #повторное получение общей информации о таблице df\n",
    "df.describe() #получение информации о значениях столбцов"
   ]
  },
  {
   "cell_type": "markdown",
   "metadata": {},
   "source": [
    "### Вывод"
   ]
  },
  {
   "cell_type": "markdown",
   "metadata": {},
   "source": [
    "В таблице 22 столбца, 23699 строк. Согласно описанию данных:\n",
    "\n",
    "* `airports_nearest` — расстояние до ближайшего аэропорта в метрах (м)\n",
    "* `balcony` — число балконов\n",
    "* `ceiling_height` — высота потолков (м)\n",
    "* `cityCenters_nearest` — расстояние до центра города (м)\n",
    "* `days_exposition` — сколько дней было размещено объявление (от публикации до снятия)\n",
    "* `first_day_exposition` — дата публикации\n",
    "* `floor` — этаж\n",
    "* `floors_total` — всего этажей в доме\n",
    "* `is_apartment` — апартаменты (булев тип)\n",
    "* `kitchen_area` — площадь кухни в квадратных метрах (м²)\n",
    "* `last_price` — цена на момент снятия с публикации\n",
    "* `living_area` — жилая площадь в квадратных метрах (м²)\n",
    "* `locality_name` — название населённого пункта\n",
    "* `open_plan` — свободная планировка (булев тип)\n",
    "* `parks_around3000` — число парков в радиусе 3 км\n",
    "* `parks_nearest` — расстояние до ближайшего парка (м)\n",
    "* `ponds_around3000` — число водоёмов в радиусе 3 км\n",
    "* `ponds_nearest` — расстояние до ближайшего водоёма (м)\n",
    "* `rooms` — число комнат\n",
    "* `studio` — квартира-студия (булев тип)\n",
    "* `total_area` — площадь квартиры в квадратных метрах (м²)\n",
    "* `total_images` — число фотографий квартиры в объявлении\n",
    "\n",
    "В названиях колонок нарушений стиля не выявлено.\n",
    "\n",
    "Тип данных в столбцах 'total_images', 'rooms', 'floor' — `int`. Тип данных в столбцах 'last_price', 'total_area', 'ceiling_height', 'floors_total', 'living_area', 'kitchen_area', 'balcony', 'airports_nearest', 'cityCenters_nearest', 'parks_around3000', 'parks_nearest', 'ponds_around3000', 'ponds_nearest', 'days_exposition' — `float`.\n",
    "Тип данных в столбцах 'first_day_exposition', 'is_apartment', 'locality_name' — `object`. Тип данных в столбцах 'studio', 'open_plan' — `bool`. \n",
    "\n",
    "Количество значений во многих столбцах отличается от общего количества строк в таблице, следовательно, есть пропуски. В некоторых столбцах тип данных не соответсвтует сути самих данных (например, вещественный тип данных в столбце с числом балконов), в столбце 'is_apartment' тип данных — `object`, тогда как согласно описанию, должен быть — `bool`.\n",
    "\n",
    "На этапе предобработки данных будут решены вышеозначенные проблемы с пропусками и исправлены типы данных в столбцах."
   ]
  },
  {
   "cell_type": "markdown",
   "metadata": {},
   "source": [
    "## Предобработка данных"
   ]
  },
  {
   "cell_type": "code",
   "execution_count": 4,
   "metadata": {},
   "outputs": [
    {
     "name": "stdout",
     "output_type": "stream",
     "text": [
      "total_images                0\n",
      "last_price                  0\n",
      "total_area                  0\n",
      "first_day_exposition        0\n",
      "rooms                       0\n",
      "ceiling_height           9195\n",
      "floors_total               86\n",
      "living_area              1903\n",
      "floor                       0\n",
      "is_apartment            20924\n",
      "studio                      0\n",
      "open_plan                   0\n",
      "kitchen_area             2278\n",
      "balcony                 11519\n",
      "locality_name              49\n",
      "airports_nearest         5542\n",
      "cityCenters_nearest      5519\n",
      "parks_around3000         5518\n",
      "parks_nearest           15620\n",
      "ponds_around3000         5518\n",
      "ponds_nearest           14589\n",
      "days_exposition          3181\n",
      "dtype: int64\n",
      "total_images            0.000000\n",
      "last_price              0.000000\n",
      "total_area              0.000000\n",
      "first_day_exposition    0.000000\n",
      "rooms                   0.000000\n",
      "ceiling_height          0.387991\n",
      "floors_total            0.003629\n",
      "living_area             0.080299\n",
      "floor                   0.000000\n",
      "is_apartment            0.882906\n",
      "studio                  0.000000\n",
      "open_plan               0.000000\n",
      "kitchen_area            0.096122\n",
      "balcony                 0.486054\n",
      "locality_name           0.002068\n",
      "airports_nearest        0.233850\n",
      "cityCenters_nearest     0.232879\n",
      "parks_around3000        0.232837\n",
      "parks_nearest           0.659100\n",
      "ponds_around3000        0.232837\n",
      "ponds_nearest           0.615596\n",
      "days_exposition         0.134225\n",
      "dtype: float64\n"
     ]
    },
    {
     "data": {
      "text/plain": [
       "0"
      ]
     },
     "execution_count": 4,
     "metadata": {},
     "output_type": "execute_result"
    }
   ],
   "source": [
    "print(df.isna().sum()) #количество пропусков\n",
    "print(df.isna().mean()) #доля пропусков\n",
    "df.duplicated().sum() #подсчет явных дубликатов"
   ]
  },
  {
   "cell_type": "markdown",
   "metadata": {},
   "source": [
    "Наибольшее число пропусков было обнаружено в столбцах: 'is_apartment' (20924), 'parks_nearest' (15620), 'ponds_nearest' (14589), 'balcony' (11519), 'ceiling_height' (9195). Также, пропуски есть в столбцах 'floors_total', 'living_area', 'kitchen_area', 'locality_name', 'airports_nearest', 'cityCenters_nearest', 'parks_around3000', 'ponds_around3000', 'days_exposition'. Дубликатов не обнаружено.\n",
    "\n",
    "Для некоторых пропущенных значений можно предположить логичную замену. Например, пропуски в столбце 'balcony' (число балконов) могут свидетельствовать об отсутствии балконов. В таких случаях, пропуски допустимо заменить на 0. Подобная ситуация и с пропусками в столбце 'is_apartment' - 20924 пропусков, вероятно, означают, что указанные помещения не являются апартаментами. Эти пропуски можно заменить на False.\n",
    "\n",
    "Кроме того, пропуски могут означать отсутствие парков и водоёмов в радиусе 3 км (столбцы 'parks_around3000', 'ponds_around3000'). Что примечательно, в этих двух столбцах число пропусков совпадает - 5518. Их также можно заменить на 0.\n",
    "\n",
    "Однако, устранить пропуски в некоторых столбцах подобным образом не получится. Например, пропуск в столбце 'locality_name' заполнить проблематично, ведь если название населенного пункта не было указано сразу, угадать его не получится, а вписывать любое другое название - некорректно. \n",
    "\n",
    "В то же время, для многих других столбцов пропуски заполнить необходимо, поскольку они требуются для дальнейшего исследования. Если же удалить эти пропуски, то есть риск потерять ценные данные, что так же негативно повлияет на ход исследования. В частности, таким столбцом является 'ceiling_height' (9195 пропусков), который является важным параметром для дальнейшего исследования."
   ]
  },
  {
   "cell_type": "code",
   "execution_count": 5,
   "metadata": {},
   "outputs": [],
   "source": [
    "for name in ['balcony', 'parks_around3000', 'ponds_around3000']: #замена пропусков в столбцах 'balcony', 'parks_around3000', 'ponds_around3000'\n",
    "    df[name] = df[name].fillna(0)\n",
    "df['is_apartment'] = df['is_apartment'].fillna(value=False) #замена пропусков в столбце 'is_apartment'\n",
    "df['floors_total'] = df['floors_total'].fillna(df['floors_total'].median()) #замена пропусков в столбце 'floors_total'"
   ]
  },
  {
   "cell_type": "markdown",
   "metadata": {},
   "source": [
    "Далее, необходимо заполнить пропуски и устранить аномальные значения в столбце 'ceiling_height'. \n",
    "Методом describe() было установлено, что в данном столбце помимо пропусков присутствуют нереалистично большие значения (например, 100 м), а также слишком малые значения (1 м). В них, скорее всего, допущена ошибка при записи, поэтому с ними также необходимо разобраться. Для начала, следует изучить все нереалистичные значения. Среднестатистическая высота потолка в квартире - примерно 2.5 - 3 м. Учитывая, что в списке может быть представлено элитное жилье с более высокими потолками, установим условное ограничение в 5 м. Выведем полученные значения на экран:\n"
   ]
  },
  {
   "cell_type": "code",
   "execution_count": 6,
   "metadata": {},
   "outputs": [
    {
     "data": {
      "text/plain": [
       "2.40      23\n",
       "2.45      15\n",
       "2.00      11\n",
       "2.48       8\n",
       "27.00      8\n",
       "25.00      7\n",
       "2.30       4\n",
       "2.47       3\n",
       "8.00       3\n",
       "2.46       2\n",
       "5.30       2\n",
       "32.00      2\n",
       "5.60       1\n",
       "5.20       1\n",
       "8.30       1\n",
       "10.30      1\n",
       "26.00      1\n",
       "6.00       1\n",
       "100.00     1\n",
       "2.25       1\n",
       "14.00      1\n",
       "24.00      1\n",
       "1.20       1\n",
       "27.50      1\n",
       "5.80       1\n",
       "2.49       1\n",
       "2.34       1\n",
       "20.00      1\n",
       "22.60      1\n",
       "5.50       1\n",
       "1.75       1\n",
       "2.20       1\n",
       "1.00       1\n",
       "Name: ceiling_height, dtype: int64"
      ]
     },
     "execution_count": 6,
     "metadata": {},
     "output_type": "execute_result"
    }
   ],
   "source": [
    "df.loc[(df['ceiling_height'] > 5) | (df['ceiling_height'] < 2.5), 'ceiling_height'].value_counts()#просмотр значений в столбце 'ceiling_height' более 5"
   ]
  },
  {
   "cell_type": "markdown",
   "metadata": {},
   "source": [
    "Исходя из полученных данных, было установлено, что в столбце 'ceiling_height' присутствует целый ряд нереалистично больших и малых значений. Полученные значения позволили скорректировать критерии отбора. Все значения, не попадающие в интервал от 2 до 6 следует заменить на медианные, поскольку их реалистичность сомнительна и в своем текущем виде они могут негативно повлиять дальнейший на ход исследования. \n",
    "\n",
    "Произведем замену и заполним пропуски:"
   ]
  },
  {
   "cell_type": "code",
   "execution_count": 7,
   "metadata": {},
   "outputs": [],
   "source": [
    "df.loc[(df['ceiling_height'] < 2) | (df['ceiling_height'] > 6), 'ceiling_height'] = df['ceiling_height'].median() #замена аномальных значений\n",
    "df['ceiling_height'] = df['ceiling_height'].fillna(df['ceiling_height'].median()) #заполнение пропусков медианным значением по столбцу   "
   ]
  },
  {
   "cell_type": "markdown",
   "metadata": {},
   "source": [
    "Далее, изменим типы данных для тех столбцов, в которых они являются некорректными и могут затруднить дальнейшее исследование. К ним относятся: 'last_price' (float в int), 'is_apartment' (object в bool), 'first_day_exposition' (object в datetime), 'balcony' (float в int), 'days_exposition' (float в int), 'floors_total' (float в int)."
   ]
  },
  {
   "cell_type": "code",
   "execution_count": 8,
   "metadata": {},
   "outputs": [],
   "source": [
    "for name in ['last_price', 'balcony', 'floors_total']: #замена типа данных на целочисленный \n",
    "    df[name] = df[name].astype('int')\n",
    "df['first_day_exposition'] = pd.to_datetime(\n",
    "    df['first_day_exposition'], format='%Y-%m-%dT%H:%M:%S'\n",
    ") #перевод данных в формат даты \n",
    "df['is_apartment'] = df['is_apartment'].astype('bool') #замена типа данных на булев"
   ]
  },
  {
   "cell_type": "code",
   "execution_count": 9,
   "metadata": {},
   "outputs": [
    {
     "name": "stdout",
     "output_type": "stream",
     "text": [
      "<class 'pandas.core.frame.DataFrame'>\n",
      "RangeIndex: 23699 entries, 0 to 23698\n",
      "Data columns (total 22 columns):\n",
      " #   Column                Non-Null Count  Dtype         \n",
      "---  ------                --------------  -----         \n",
      " 0   total_images          23699 non-null  int64         \n",
      " 1   last_price            23699 non-null  int64         \n",
      " 2   total_area            23699 non-null  float64       \n",
      " 3   first_day_exposition  23699 non-null  datetime64[ns]\n",
      " 4   rooms                 23699 non-null  int64         \n",
      " 5   ceiling_height        23699 non-null  float64       \n",
      " 6   floors_total          23699 non-null  int64         \n",
      " 7   living_area           21796 non-null  float64       \n",
      " 8   floor                 23699 non-null  int64         \n",
      " 9   is_apartment          23699 non-null  bool          \n",
      " 10  studio                23699 non-null  bool          \n",
      " 11  open_plan             23699 non-null  bool          \n",
      " 12  kitchen_area          21421 non-null  float64       \n",
      " 13  balcony               23699 non-null  int64         \n",
      " 14  locality_name         23650 non-null  object        \n",
      " 15  airports_nearest      18157 non-null  float64       \n",
      " 16  cityCenters_nearest   18180 non-null  float64       \n",
      " 17  parks_around3000      23699 non-null  float64       \n",
      " 18  parks_nearest         8079 non-null   float64       \n",
      " 19  ponds_around3000      23699 non-null  float64       \n",
      " 20  ponds_nearest         9110 non-null   float64       \n",
      " 21  days_exposition       20518 non-null  float64       \n",
      "dtypes: bool(3), datetime64[ns](1), float64(11), int64(6), object(1)\n",
      "memory usage: 3.5+ MB\n"
     ]
    }
   ],
   "source": [
    "df.info() #повторное получение информации о датафрейме для проверки"
   ]
  },
  {
   "cell_type": "markdown",
   "metadata": {},
   "source": [
    "### Вывод"
   ]
  },
  {
   "cell_type": "markdown",
   "metadata": {},
   "source": [
    "На этапе предобработки были выявлены и, в необходимой для исследования мере, устранены следующие проблемы в данных: пропуски, аномальные значения, некорректность типов данных. Пропуски могли возникнуть из-за того, что пользователи по тем или иным причинам не указали в своих объявлениях определенную информацию. Причина возникновения аномальных значений, скорее всего, кроется в том, что были допущены ошибки при заполнении соответствующих граф со стороны пользователей сервиса. Проблема некорректности типов данных некоторых столбцов, вероятно, носит технический характер, поскольку не задается самими пользователями. Вполне возможно, что проблема возникла, например, в процессе считывания, копирования, смены формата или при записи данных, или же изначально записывалась в некорректном формате."
   ]
  },
  {
   "cell_type": "markdown",
   "metadata": {},
   "source": [
    "## Расчёты и добавление результатов в таблицу"
   ]
  },
  {
   "cell_type": "markdown",
   "metadata": {},
   "source": [
    "На данном этапе исследования необходимо произвести расчеты следующих показателей: цена квадратного метра; день недели, месяц и год публикации объявления; этаж квартиры; соотношение жилой и общей площади; отношение площади кухни к общей. Результаты этих расчетов будут добавлены в таблицу в виде дополнительных столбцов."
   ]
  },
  {
   "cell_type": "code",
   "execution_count": 10,
   "metadata": {},
   "outputs": [],
   "source": [
    "df['sqMeter_price'] = df['last_price'] / df['total_area'] #цена кв метра\n",
    "df['sqMeter_price'] = df['sqMeter_price'].astype(int)\n",
    "\n",
    "df['week_day'] = df['first_day_exposition'].dt.weekday #день недели, месяц и год публикации объявления\n",
    "df.loc[df['week_day'] == 0, 'week_day'] = 'пн'\n",
    "df.loc[df['week_day'] == 1, 'week_day'] = 'вт'\n",
    "df.loc[df['week_day'] == 2, 'week_day'] = 'ср'\n",
    "df.loc[df['week_day'] == 3, 'week_day'] = 'чт'\n",
    "df.loc[df['week_day'] == 4, 'week_day'] = 'пт'\n",
    "df.loc[df['week_day'] == 5, 'week_day'] = 'сб'\n",
    "df.loc[df['week_day'] == 6, 'week_day'] = 'вс'\n",
    "df['month'] = df['first_day_exposition'].dt.month\n",
    "df['year'] = df['first_day_exposition'].dt.year\n",
    "\n",
    "df['floor_category'] = df['floor'] #этаж квартиры; варианты — первый, последний, другой\n",
    "for index in range(len(df['floor_category'])):\n",
    "    if df['floor_category'][index] == 1:\n",
    "        df['floor_category'][index] = 'первый'\n",
    "    elif df['floor_category'][index] == df['floors_total'][index]:\n",
    "        df['floor_category'][index] = 'последний'\n",
    "    else:\n",
    "        df['floor_category'][index] = 'другой'\n",
    "\n",
    "df['living_to_total'] = df['living_area'] / df['total_area'] #соотношение жилой и общей площади, а также отношение площади кухни к общей\n",
    "df['kitchen_to_total'] = df['kitchen_area'] / df['total_area']\n"
   ]
  },
  {
   "cell_type": "code",
   "execution_count": 11,
   "metadata": {},
   "outputs": [
    {
     "data": {
      "text/html": [
       "<div>\n",
       "<style scoped>\n",
       "    .dataframe tbody tr th:only-of-type {\n",
       "        vertical-align: middle;\n",
       "    }\n",
       "\n",
       "    .dataframe tbody tr th {\n",
       "        vertical-align: top;\n",
       "    }\n",
       "\n",
       "    .dataframe thead th {\n",
       "        text-align: right;\n",
       "    }\n",
       "</style>\n",
       "<table border=\"1\" class=\"dataframe\">\n",
       "  <thead>\n",
       "    <tr style=\"text-align: right;\">\n",
       "      <th></th>\n",
       "      <th>total_images</th>\n",
       "      <th>last_price</th>\n",
       "      <th>total_area</th>\n",
       "      <th>first_day_exposition</th>\n",
       "      <th>rooms</th>\n",
       "      <th>ceiling_height</th>\n",
       "      <th>floors_total</th>\n",
       "      <th>living_area</th>\n",
       "      <th>floor</th>\n",
       "      <th>is_apartment</th>\n",
       "      <th>...</th>\n",
       "      <th>ponds_around3000</th>\n",
       "      <th>ponds_nearest</th>\n",
       "      <th>days_exposition</th>\n",
       "      <th>sqMeter_price</th>\n",
       "      <th>week_day</th>\n",
       "      <th>month</th>\n",
       "      <th>year</th>\n",
       "      <th>floor_category</th>\n",
       "      <th>living_to_total</th>\n",
       "      <th>kitchen_to_total</th>\n",
       "    </tr>\n",
       "  </thead>\n",
       "  <tbody>\n",
       "    <tr>\n",
       "      <th>0</th>\n",
       "      <td>20</td>\n",
       "      <td>13000000</td>\n",
       "      <td>108.0</td>\n",
       "      <td>2019-03-07</td>\n",
       "      <td>3</td>\n",
       "      <td>2.70</td>\n",
       "      <td>16</td>\n",
       "      <td>51.0</td>\n",
       "      <td>8</td>\n",
       "      <td>False</td>\n",
       "      <td>...</td>\n",
       "      <td>2.0</td>\n",
       "      <td>755.0</td>\n",
       "      <td>NaN</td>\n",
       "      <td>120370</td>\n",
       "      <td>чт</td>\n",
       "      <td>3</td>\n",
       "      <td>2019</td>\n",
       "      <td>другой</td>\n",
       "      <td>0.472222</td>\n",
       "      <td>0.231481</td>\n",
       "    </tr>\n",
       "    <tr>\n",
       "      <th>1</th>\n",
       "      <td>7</td>\n",
       "      <td>3350000</td>\n",
       "      <td>40.4</td>\n",
       "      <td>2018-12-04</td>\n",
       "      <td>1</td>\n",
       "      <td>2.65</td>\n",
       "      <td>11</td>\n",
       "      <td>18.6</td>\n",
       "      <td>1</td>\n",
       "      <td>False</td>\n",
       "      <td>...</td>\n",
       "      <td>0.0</td>\n",
       "      <td>NaN</td>\n",
       "      <td>81.0</td>\n",
       "      <td>82920</td>\n",
       "      <td>вт</td>\n",
       "      <td>12</td>\n",
       "      <td>2018</td>\n",
       "      <td>первый</td>\n",
       "      <td>0.460396</td>\n",
       "      <td>0.272277</td>\n",
       "    </tr>\n",
       "    <tr>\n",
       "      <th>2</th>\n",
       "      <td>10</td>\n",
       "      <td>5196000</td>\n",
       "      <td>56.0</td>\n",
       "      <td>2015-08-20</td>\n",
       "      <td>2</td>\n",
       "      <td>2.65</td>\n",
       "      <td>5</td>\n",
       "      <td>34.3</td>\n",
       "      <td>4</td>\n",
       "      <td>False</td>\n",
       "      <td>...</td>\n",
       "      <td>2.0</td>\n",
       "      <td>574.0</td>\n",
       "      <td>558.0</td>\n",
       "      <td>92785</td>\n",
       "      <td>чт</td>\n",
       "      <td>8</td>\n",
       "      <td>2015</td>\n",
       "      <td>другой</td>\n",
       "      <td>0.612500</td>\n",
       "      <td>0.148214</td>\n",
       "    </tr>\n",
       "    <tr>\n",
       "      <th>3</th>\n",
       "      <td>0</td>\n",
       "      <td>64900000</td>\n",
       "      <td>159.0</td>\n",
       "      <td>2015-07-24</td>\n",
       "      <td>3</td>\n",
       "      <td>2.65</td>\n",
       "      <td>14</td>\n",
       "      <td>NaN</td>\n",
       "      <td>9</td>\n",
       "      <td>False</td>\n",
       "      <td>...</td>\n",
       "      <td>3.0</td>\n",
       "      <td>234.0</td>\n",
       "      <td>424.0</td>\n",
       "      <td>408176</td>\n",
       "      <td>пт</td>\n",
       "      <td>7</td>\n",
       "      <td>2015</td>\n",
       "      <td>другой</td>\n",
       "      <td>NaN</td>\n",
       "      <td>NaN</td>\n",
       "    </tr>\n",
       "    <tr>\n",
       "      <th>4</th>\n",
       "      <td>2</td>\n",
       "      <td>10000000</td>\n",
       "      <td>100.0</td>\n",
       "      <td>2018-06-19</td>\n",
       "      <td>2</td>\n",
       "      <td>3.03</td>\n",
       "      <td>14</td>\n",
       "      <td>32.0</td>\n",
       "      <td>13</td>\n",
       "      <td>False</td>\n",
       "      <td>...</td>\n",
       "      <td>1.0</td>\n",
       "      <td>48.0</td>\n",
       "      <td>121.0</td>\n",
       "      <td>100000</td>\n",
       "      <td>вт</td>\n",
       "      <td>6</td>\n",
       "      <td>2018</td>\n",
       "      <td>другой</td>\n",
       "      <td>0.320000</td>\n",
       "      <td>0.410000</td>\n",
       "    </tr>\n",
       "  </tbody>\n",
       "</table>\n",
       "<p>5 rows × 29 columns</p>\n",
       "</div>"
      ],
      "text/plain": [
       "   total_images  last_price  total_area first_day_exposition  rooms  \\\n",
       "0            20    13000000       108.0           2019-03-07      3   \n",
       "1             7     3350000        40.4           2018-12-04      1   \n",
       "2            10     5196000        56.0           2015-08-20      2   \n",
       "3             0    64900000       159.0           2015-07-24      3   \n",
       "4             2    10000000       100.0           2018-06-19      2   \n",
       "\n",
       "   ceiling_height  floors_total  living_area  floor  is_apartment  ...  \\\n",
       "0            2.70            16         51.0      8         False  ...   \n",
       "1            2.65            11         18.6      1         False  ...   \n",
       "2            2.65             5         34.3      4         False  ...   \n",
       "3            2.65            14          NaN      9         False  ...   \n",
       "4            3.03            14         32.0     13         False  ...   \n",
       "\n",
       "   ponds_around3000  ponds_nearest  days_exposition  sqMeter_price week_day  \\\n",
       "0               2.0          755.0              NaN         120370       чт   \n",
       "1               0.0            NaN             81.0          82920       вт   \n",
       "2               2.0          574.0            558.0          92785       чт   \n",
       "3               3.0          234.0            424.0         408176       пт   \n",
       "4               1.0           48.0            121.0         100000       вт   \n",
       "\n",
       "   month  year  floor_category  living_to_total  kitchen_to_total  \n",
       "0      3  2019          другой         0.472222          0.231481  \n",
       "1     12  2018          первый         0.460396          0.272277  \n",
       "2      8  2015          другой         0.612500          0.148214  \n",
       "3      7  2015          другой              NaN               NaN  \n",
       "4      6  2018          другой         0.320000          0.410000  \n",
       "\n",
       "[5 rows x 29 columns]"
      ]
     },
     "execution_count": 11,
     "metadata": {},
     "output_type": "execute_result"
    }
   ],
   "source": [
    "df.head() #вывод первых пяти строк на экран для проверки новых столбцов"
   ]
  },
  {
   "cell_type": "markdown",
   "metadata": {},
   "source": [
    "### Вывод"
   ]
  },
  {
   "cell_type": "markdown",
   "metadata": {},
   "source": [
    "На данном этапе были расчитаны и добавлены в таблицу следующие показатели: цена квадратного метра; день недели, месяц и год публикации объявления; этаж квартиры; соотношение жилой и общей площади; отношение площади кухни к общей. Полученные показатели будут задействованы в ходе этапа исследовательского анализа данных."
   ]
  },
  {
   "cell_type": "markdown",
   "metadata": {},
   "source": [
    "## Исследовательский анализ данных"
   ]
  },
  {
   "cell_type": "markdown",
   "metadata": {},
   "source": [
    "Далее, необходимо проанализировать данные и провести ряд исследований с целью оценки ряда показателей, проверки гипотез об их взаимосвязях и влиянии на рыночные цены квартир.\n",
    "\n",
    "Для начала, построим гистограммы для следующих параметров квартир: площадь, цена, число комнат, высота потолков."
   ]
  },
  {
   "cell_type": "code",
   "execution_count": 12,
   "metadata": {},
   "outputs": [
    {
     "data": {
      "text/plain": [
       "<AxesSubplot:>"
      ]
     },
     "execution_count": 12,
     "metadata": {},
     "output_type": "execute_result"
    },
    {
     "data": {
      "image/png": "[encoded data removed]",
      "text/plain": [
       "<Figure size 432x288 with 1 Axes>"
      ]
     },
     "metadata": {
      "needs_background": "light"
     },
     "output_type": "display_data"
    }
   ],
   "source": [
    "df['total_area'].hist(bins=100, range=(0, 400)) #построение гистограммы для параметра площади"
   ]
  },
  {
   "cell_type": "markdown",
   "metadata": {},
   "source": [
    "Данная гистограмма наглядно демонстрирует, что подавляющее большинство квартир из объявлений имеют площадь значительно меньше 100 кв. м (\"пик\" наблюдается в районе 40 кв. м). Есть также и небольшое количество квартир с весьма малой или, наоборот, крайне большой площадью, однако их количество - минимально. \n",
    "\n",
    "Далее, построим гистограмму для цены квартир. Для удобства и наглядности графика, цены следует разделить на 1000000."
   ]
  },
  {
   "cell_type": "code",
   "execution_count": 13,
   "metadata": {},
   "outputs": [
    {
     "data": {
      "text/plain": [
       "<AxesSubplot:>"
      ]
     },
     "execution_count": 13,
     "metadata": {},
     "output_type": "execute_result"
    },
    {
     "data": {
      "image/png": "[encoded data removed]",
      "text/plain": [
       "<Figure size 432x288 with 1 Axes>"
      ]
     },
     "metadata": {
      "needs_background": "light"
     },
     "output_type": "display_data"
    }
   ],
   "source": [
    "(df['last_price'] / 1000000).hist(bins=100, range=(0, 50)) #построение гистограммы для параметра цены"
   ]
  },
  {
   "cell_type": "markdown",
   "metadata": {},
   "source": [
    "Согласно гистограмме, цена большинства квартир составляет менее 10 млн. руб. Пик приходится на 4-5 млн. руб. Тем не менее, также наблюдается некоторое количество квартир со стоимостью более 10 млн. руб. Их количество постепенно снижается по мере увеличения цены в промежутке с 10 до 20 млн. руб. В промежутке с 20 до 30 млн. руб. их количество остается примерно одинаковым. Начиная с 40 млн. руб., количество таких квартир становится практически равным нулю."
   ]
  },
  {
   "cell_type": "code",
   "execution_count": 14,
   "metadata": {},
   "outputs": [
    {
     "data": {
      "text/plain": [
       "<AxesSubplot:>"
      ]
     },
     "execution_count": 14,
     "metadata": {},
     "output_type": "execute_result"
    },
    {
     "data": {
      "image/png": "[encoded data removed]",
      "text/plain": [
       "<Figure size 432x288 with 1 Axes>"
      ]
     },
     "metadata": {
      "needs_background": "light"
     },
     "output_type": "display_data"
    }
   ],
   "source": [
    "df['rooms'].hist(bins=100, range=(1, 10)) #построение гистограммы для параметра числа комнат"
   ]
  },
  {
   "cell_type": "markdown",
   "metadata": {},
   "source": [
    "Было установлено, что большинство квартир имеют 1-2 комнаты, причем количество таких квартир примерно одинаково. Следом за ними - квартиры с 3 комнатами. Квартир с 4 комнатами и более - суммарно около 2000."
   ]
  },
  {
   "cell_type": "code",
   "execution_count": 15,
   "metadata": {},
   "outputs": [
    {
     "data": {
      "text/plain": [
       "<AxesSubplot:>"
      ]
     },
     "execution_count": 15,
     "metadata": {},
     "output_type": "execute_result"
    },
    {
     "data": {
      "image/png": "[encoded data removed]",
      "text/plain": [
       "<Figure size 432x288 with 1 Axes>"
      ]
     },
     "metadata": {
      "needs_background": "light"
     },
     "output_type": "display_data"
    }
   ],
   "source": [
    "df['ceiling_height'].hist(bins=5, range=(2, 5)) #построение гистограммы для параметра высоты потолков"
   ]
  },
  {
   "cell_type": "markdown",
   "metadata": {},
   "source": [
    "Согласно гистограмме, большинство квартир имеют высоту потолков в пределах 2,6 - 3,2 м.\n",
    "\n",
    "Теперь, следует изучить время продажи квартиры. Для этого, необходимо построить еще одну гистограмму, определить среднее и медиану."
   ]
  },
  {
   "cell_type": "code",
   "execution_count": 16,
   "metadata": {},
   "outputs": [
    {
     "data": {
      "text/plain": [
       "<AxesSubplot:>"
      ]
     },
     "execution_count": 16,
     "metadata": {},
     "output_type": "execute_result"
    },
    {
     "data": {
      "image/png": "[encoded data removed]",
      "text/plain": [
       "<Figure size 432x288 with 1 Axes>"
      ]
     },
     "metadata": {
      "needs_background": "light"
     },
     "output_type": "display_data"
    }
   ],
   "source": [
    "df['days_exposition'].hist(bins=20, range=(0, 1000)) #построение гистограммы для параметра времени продажи квартиры"
   ]
  },
  {
   "cell_type": "code",
   "execution_count": 17,
   "metadata": {},
   "outputs": [
    {
     "data": {
      "text/plain": [
       "95.0"
      ]
     },
     "execution_count": 17,
     "metadata": {},
     "output_type": "execute_result"
    }
   ],
   "source": [
    "df['days_exposition'].median() #определяем медиану"
   ]
  },
  {
   "cell_type": "code",
   "execution_count": 18,
   "metadata": {},
   "outputs": [
    {
     "data": {
      "text/plain": [
       "180.88863436982163"
      ]
     },
     "execution_count": 18,
     "metadata": {},
     "output_type": "execute_result"
    }
   ],
   "source": [
    "df['days_exposition'].mean() #определяем среднее"
   ]
  },
  {
   "cell_type": "markdown",
   "metadata": {},
   "source": [
    "Среднее время продажи - 169 дней, медианное значение - 95 дней. Согласно гистограмме, \"быстрой\" можно назвать продажу квартиры до 100 дней, \"необычно долгой\" - свыше 200 дней.\n",
    "\n",
    "Перед тем, как продолжить исследовательский анализ данных и приступить к изучению взаимосвязей различных параметров квартир и их цен, требуется избавиться хотя бы от части обнаруженных ранее редких и выбивающихся значений."
   ]
  },
  {
   "cell_type": "code",
   "execution_count": 19,
   "metadata": {},
   "outputs": [
    {
     "name": "stdout",
     "output_type": "stream",
     "text": [
      "<class 'pandas.core.frame.DataFrame'>\n",
      "Int64Index: 20832 entries, 0 to 23698\n",
      "Data columns (total 29 columns):\n",
      " #   Column                Non-Null Count  Dtype         \n",
      "---  ------                --------------  -----         \n",
      " 0   total_images          20832 non-null  int64         \n",
      " 1   last_price            20832 non-null  int64         \n",
      " 2   total_area            20832 non-null  float64       \n",
      " 3   first_day_exposition  20832 non-null  datetime64[ns]\n",
      " 4   rooms                 20832 non-null  int64         \n",
      " 5   ceiling_height        20832 non-null  float64       \n",
      " 6   floors_total          20832 non-null  int64         \n",
      " 7   living_area           19126 non-null  float64       \n",
      " 8   floor                 20832 non-null  int64         \n",
      " 9   is_apartment          20832 non-null  bool          \n",
      " 10  studio                20832 non-null  bool          \n",
      " 11  open_plan             20832 non-null  bool          \n",
      " 12  kitchen_area          18996 non-null  float64       \n",
      " 13  balcony               20832 non-null  int64         \n",
      " 14  locality_name         20786 non-null  object        \n",
      " 15  airports_nearest      15421 non-null  float64       \n",
      " 16  cityCenters_nearest   15441 non-null  float64       \n",
      " 17  parks_around3000      20832 non-null  float64       \n",
      " 18  parks_nearest         6775 non-null   float64       \n",
      " 19  ponds_around3000      20832 non-null  float64       \n",
      " 20  ponds_nearest         7559 non-null   float64       \n",
      " 21  days_exposition       18077 non-null  float64       \n",
      " 22  sqMeter_price         20832 non-null  int64         \n",
      " 23  week_day              20832 non-null  object        \n",
      " 24  month                 20832 non-null  int64         \n",
      " 25  year                  20832 non-null  int64         \n",
      " 26  floor_category        20832 non-null  object        \n",
      " 27  living_to_total       19126 non-null  float64       \n",
      " 28  kitchen_to_total      18996 non-null  float64       \n",
      "dtypes: bool(3), datetime64[ns](1), float64(13), int64(9), object(3)\n",
      "memory usage: 4.4+ MB\n"
     ]
    }
   ],
   "source": [
    "df = df.drop(df[df['last_price'] > 30000000].index) #отсеиваем слишком дорогие квартиры\n",
    "df = df.drop(df[df['total_area'] > 200].index) #отсеиваем слишком большие квартиры\n",
    "df = df.drop(df[(df['total_area'] < 50) & (df['last_price'] > 10000000)].index) #отсеиваем слишком маленькие и одновременно нереалистично дорогие\n",
    "df = df.drop(df[(df['total_area'] > 100) & (df['last_price'] < 5000000)].index) #отсеиваем слишком большие и одновременно нереалистично дешевые\n",
    "df = df.drop(df[df['rooms'] > 4].index) #отсеиваем квартиры со слишком большим числом комнат\n",
    "df = df.drop(df[df['rooms'] < 1].index) #отсеиваем квартиры, не имеющие комнат\n",
    "df = df.drop(df[df['cityCenters_nearest'] > 25000].index) #отсеиваем квартиры, которые слишком далеко от центра города\n",
    "df.info() #повторный вывод информации о датафрейме на экран после удаления редких и выбивающихся значений"
   ]
  },
  {
   "cell_type": "markdown",
   "metadata": {},
   "source": [
    "Таким образом, были удалены 2867 строк (из 23699, т.е. около 12%), аномальные данные в которых препятствовали проведению дальнейшего анализа. Примечательно, что указанные значения цены и площади могли быть введены пользователями с ошибкой в виде лишнего 0, поскольку если сократить их на 10, то они становятся вполне адекватными и реалистичными. Тем не менее, раз однозначного подтверждения этому нет, было принято решение отбросить наиболее сомнительные значения. Теоретически, можно было бы подобрать более строгие критерии отбора значений, но для этого недостаточно оснований. Оставшиеся значения, в целом, можно охарактеризовать как реалистичные и признать их пригодными для анализа.\n",
    "\n",
    "Теперь можно приступать непосредственно к анализу влияния различных факторов на стоимость квартиры. Для этого можно построить графики, показывающие зависимость цены от ряда параметров: площади, числа комнат, удалённости от центра, этажа, даты размещения объявления."
   ]
  },
  {
   "cell_type": "code",
   "execution_count": 20,
   "metadata": {},
   "outputs": [
    {
     "data": {
      "text/plain": [
       "<AxesSubplot:xlabel='total_area'>"
      ]
     },
     "execution_count": 20,
     "metadata": {},
     "output_type": "execute_result"
    },
    {
     "data": {
      "image/png": "[encoded data removed]",
      "text/plain": [
       "<Figure size 432x288 with 1 Axes>"
      ]
     },
     "metadata": {
      "needs_background": "light"
     },
     "output_type": "display_data"
    }
   ],
   "source": [
    "(\n",
    "    df\n",
    "    .pivot_table(index='total_area', values='last_price')\n",
    "    .plot(style='o', grid=True) #график зависимости цены от площади\n",
    ")"
   ]
  },
  {
   "cell_type": "markdown",
   "metadata": {},
   "source": [
    "Согласно данному графику, цена квартиры находится в прямой зависимости от ее площади."
   ]
  },
  {
   "cell_type": "code",
   "execution_count": 21,
   "metadata": {},
   "outputs": [
    {
     "data": {
      "text/plain": [
       "<AxesSubplot:xlabel='rooms'>"
      ]
     },
     "execution_count": 21,
     "metadata": {},
     "output_type": "execute_result"
    },
    {
     "data": {
      "image/png": "[encoded data removed]",
      "text/plain": [
       "<Figure size 432x288 with 1 Axes>"
      ]
     },
     "metadata": {
      "needs_background": "light"
     },
     "output_type": "display_data"
    }
   ],
   "source": [
    "(\n",
    "    df\n",
    "    .pivot_table(index='rooms', values='last_price')\n",
    "    .plot(style='o-', grid=True) #график зависимости цены от числа комнат\n",
    ")"
   ]
  },
  {
   "cell_type": "markdown",
   "metadata": {},
   "source": [
    "Данный график также позволяет судить о том, что цена квартиры имеет прямую зависимость от числа комнат."
   ]
  },
  {
   "cell_type": "code",
   "execution_count": 22,
   "metadata": {},
   "outputs": [
    {
     "data": {
      "text/plain": [
       "<AxesSubplot:xlabel='cityCenters_nearest'>"
      ]
     },
     "execution_count": 22,
     "metadata": {},
     "output_type": "execute_result"
    },
    {
     "data": {
      "image/png": "[encoded data removed]",
      "text/plain": [
       "<Figure size 432x288 with 1 Axes>"
      ]
     },
     "metadata": {
      "needs_background": "light"
     },
     "output_type": "display_data"
    }
   ],
   "source": [
    "(\n",
    "    df\n",
    "    .pivot_table(index='cityCenters_nearest', values='last_price')\n",
    "    .plot(style='o', grid=True) #график зависимости цены от удалённости от центра\n",
    ")"
   ]
  },
  {
   "cell_type": "markdown",
   "metadata": {},
   "source": [
    "Согласно данному графику, большинство квартир находятся в пределах 15 км от центра города. Стоимость квартир имеет обратную зависимость от расстояния до центра."
   ]
  },
  {
   "cell_type": "code",
   "execution_count": 23,
   "metadata": {},
   "outputs": [
    {
     "data": {
      "text/plain": [
       "<AxesSubplot:xlabel='floor_category'>"
      ]
     },
     "execution_count": 23,
     "metadata": {},
     "output_type": "execute_result"
    },
    {
     "data": {
      "image/png": "[encoded data removed]",
      "text/plain": [
       "<Figure size 432x288 with 1 Axes>"
      ]
     },
     "metadata": {
      "needs_background": "light"
     },
     "output_type": "display_data"
    }
   ],
   "source": [
    "(\n",
    "    df\n",
    "    .pivot_table(index='floor_category', values='last_price')\n",
    "    .plot(style='o-', grid=True) #график зависимости цены от этажа\n",
    ")"
   ]
  },
  {
   "cell_type": "markdown",
   "metadata": {},
   "source": [
    "Данный график показывает, что стоимость квартир, расположенных на первом этаже существенно ниже стоимости квартир, расположенных на последнем этаже. Наибольшую стоимость имеют квартиры, не располагающиеся на первом или последнем этажах."
   ]
  },
  {
   "cell_type": "code",
   "execution_count": 24,
   "metadata": {},
   "outputs": [
    {
     "data": {
      "text/plain": [
       "<AxesSubplot:xlabel='week_day'>"
      ]
     },
     "execution_count": 24,
     "metadata": {},
     "output_type": "execute_result"
    },
    {
     "data": {
      "image/png": "[encoded data removed]",
      "text/plain": [
       "<Figure size 432x288 with 1 Axes>"
      ]
     },
     "metadata": {
      "needs_background": "light"
     },
     "output_type": "display_data"
    }
   ],
   "source": [
    "(\n",
    "    df\n",
    "    .pivot_table(index='week_day', values='last_price')\n",
    "    .plot(style='o-', grid=True) #график зависимости цены от дня недели размещения объявления\n",
    ")"
   ]
  },
  {
   "cell_type": "markdown",
   "metadata": {},
   "source": [
    "Согласно данному графику, большую цену имеют квартиры, объявления о продаже которых были размещены в четверг, понедельник, среду, вторник. Меньшую - в субботу, воскресенье и пятницу."
   ]
  },
  {
   "cell_type": "code",
   "execution_count": 25,
   "metadata": {},
   "outputs": [
    {
     "data": {
      "text/plain": [
       "<AxesSubplot:xlabel='month'>"
      ]
     },
     "execution_count": 25,
     "metadata": {},
     "output_type": "execute_result"
    },
    {
     "data": {
      "image/png": "[encoded data removed]",
      "text/plain": [
       "<Figure size 432x288 with 1 Axes>"
      ]
     },
     "metadata": {
      "needs_background": "light"
     },
     "output_type": "display_data"
    }
   ],
   "source": [
    "(\n",
    "    df\n",
    "    .pivot_table(index='month', values='last_price')\n",
    "    .plot(style='o-', grid=True) #график зависимости цены от дня месяца размещения объявления\n",
    ")"
   ]
  },
  {
   "cell_type": "markdown",
   "metadata": {},
   "source": [
    "Данный график показывает, что цены квартир зависят от месяца размещения объявления следующим образом: наибольшие цены - при размещении в сентябре, ноябре и апреле, наименьшие - при размещении в июне."
   ]
  },
  {
   "cell_type": "code",
   "execution_count": 26,
   "metadata": {},
   "outputs": [
    {
     "data": {
      "text/plain": [
       "<AxesSubplot:xlabel='year'>"
      ]
     },
     "execution_count": 26,
     "metadata": {},
     "output_type": "execute_result"
    },
    {
     "data": {
      "image/png": "[encoded data removed]",
      "text/plain": [
       "<Figure size 432x288 with 1 Axes>"
      ]
     },
     "metadata": {
      "needs_background": "light"
     },
     "output_type": "display_data"
    }
   ],
   "source": [
    "(\n",
    "    df\n",
    "    .pivot_table(index='year', values='last_price')\n",
    "    .plot(style='o-', grid=True) #график зависимости цены от года размещения объявления\n",
    ")"
   ]
  },
  {
   "cell_type": "markdown",
   "metadata": {},
   "source": [
    "Согласно графику, цены квартир неуклонно снижались после 2014 года, вплоть до 2018 года. В период с 2018 года по 2019 наблюдается заметный рост цен.\n",
    "\n",
    "Далее, добавим расчёт корреляции для площади, количества комнат и расстояния от центра."
   ]
  },
  {
   "cell_type": "code",
   "execution_count": 27,
   "metadata": {},
   "outputs": [
    {
     "name": "stdout",
     "output_type": "stream",
     "text": [
      "0.7859498369336809\n",
      "0.4591075827328978\n",
      "-0.4051574601005894\n"
     ]
    }
   ],
   "source": [
    "print(df['last_price'].corr(df['total_area'])) #расчёт корреляции цены и площади\n",
    "print(df['last_price'].corr(df['rooms'])) #расчёт корреляции цены и числа комнат\n",
    "print(df['last_price'].corr(df['cityCenters_nearest'])) #расчёт корреляции цены и расстояния от центра"
   ]
  },
  {
   "cell_type": "markdown",
   "metadata": {},
   "source": [
    "Поскольку коэффициент корреляции Пирсона в первых двух случаях — положительный, то цена квартир растет с увеличением площади и числа комнат, и наоборот, снижается при увеличении расстояния от центра, поскольку в третьем случае коэффициент отрицательный. Линейная взаимосвязь наиболее тесная в первом случае, поскольку коэффициент ближе к крайнему значению 1. В остальных двух случаях она значительно слабее, поскольку оба значения ближе к 0."
   ]
  },
  {
   "cell_type": "code",
   "execution_count": 28,
   "metadata": {},
   "outputs": [
    {
     "data": {
      "text/html": [
       "<div>\n",
       "<style scoped>\n",
       "    .dataframe tbody tr th:only-of-type {\n",
       "        vertical-align: middle;\n",
       "    }\n",
       "\n",
       "    .dataframe tbody tr th {\n",
       "        vertical-align: top;\n",
       "    }\n",
       "\n",
       "    .dataframe thead th {\n",
       "        text-align: right;\n",
       "    }\n",
       "</style>\n",
       "<table border=\"1\" class=\"dataframe\">\n",
       "  <thead>\n",
       "    <tr style=\"text-align: right;\">\n",
       "      <th></th>\n",
       "      <th>last_price</th>\n",
       "      <th>total_area</th>\n",
       "      <th>rooms</th>\n",
       "      <th>cityCenters_nearest</th>\n",
       "    </tr>\n",
       "  </thead>\n",
       "  <tbody>\n",
       "    <tr>\n",
       "      <th>last_price</th>\n",
       "      <td>1.000000</td>\n",
       "      <td>0.785950</td>\n",
       "      <td>0.459108</td>\n",
       "      <td>-0.405157</td>\n",
       "    </tr>\n",
       "    <tr>\n",
       "      <th>total_area</th>\n",
       "      <td>0.785950</td>\n",
       "      <td>1.000000</td>\n",
       "      <td>0.765647</td>\n",
       "      <td>-0.298509</td>\n",
       "    </tr>\n",
       "    <tr>\n",
       "      <th>rooms</th>\n",
       "      <td>0.459108</td>\n",
       "      <td>0.765647</td>\n",
       "      <td>1.000000</td>\n",
       "      <td>-0.222698</td>\n",
       "    </tr>\n",
       "    <tr>\n",
       "      <th>cityCenters_nearest</th>\n",
       "      <td>-0.405157</td>\n",
       "      <td>-0.298509</td>\n",
       "      <td>-0.222698</td>\n",
       "      <td>1.000000</td>\n",
       "    </tr>\n",
       "  </tbody>\n",
       "</table>\n",
       "</div>"
      ],
      "text/plain": [
       "                     last_price  total_area     rooms  cityCenters_nearest\n",
       "last_price             1.000000    0.785950  0.459108            -0.405157\n",
       "total_area             0.785950    1.000000  0.765647            -0.298509\n",
       "rooms                  0.459108    0.765647  1.000000            -0.222698\n",
       "cityCenters_nearest   -0.405157   -0.298509 -0.222698             1.000000"
      ]
     },
     "execution_count": 28,
     "metadata": {},
     "output_type": "execute_result"
    }
   ],
   "source": [
    "df[['last_price', 'total_area', 'rooms', 'cityCenters_nearest']].corr()"
   ]
  },
  {
   "cell_type": "markdown",
   "metadata": {},
   "source": [
    "Теперь, определим 10 населённых пунктов с наибольшим числом объявлений."
   ]
  },
  {
   "cell_type": "code",
   "execution_count": 29,
   "metadata": {},
   "outputs": [
    {
     "data": {
      "text/plain": [
       "Санкт-Петербург            14817\n",
       "посёлок Мурино               493\n",
       "Всеволожск                   391\n",
       "посёлок Парголово            322\n",
       "Гатчина                      305\n",
       "деревня Кудрово              283\n",
       "посёлок Шушары               251\n",
       "Выборг                       233\n",
       "Кудрово                      168\n",
       "деревня Новое Девяткино      141\n",
       "Name: locality_name, dtype: int64"
      ]
     },
     "execution_count": 29,
     "metadata": {},
     "output_type": "execute_result"
    }
   ],
   "source": [
    "df['locality_name'].value_counts().head(10) #выбираем 10 населённых пунктов с наибольшим числом объявлений"
   ]
  },
  {
   "cell_type": "markdown",
   "metadata": {},
   "source": [
    "Согласно полученным данным, наибольшее число объявлений - из Санкт-Петербурга (14817). \n",
    "\n",
    "Теперь, следует изучить стоимость жилья в этих населённых пунктах. Для этого необходимо посчитать среднюю цену квадратного метра, а затем выделить населённые пункты с самой высокой и низкой стоимостью жилья."
   ]
  },
  {
   "cell_type": "code",
   "execution_count": 30,
   "metadata": {},
   "outputs": [
    {
     "data": {
      "text/html": [
       "<div>\n",
       "<style scoped>\n",
       "    .dataframe tbody tr th:only-of-type {\n",
       "        vertical-align: middle;\n",
       "    }\n",
       "\n",
       "    .dataframe tbody tr th {\n",
       "        vertical-align: top;\n",
       "    }\n",
       "\n",
       "    .dataframe thead th {\n",
       "        text-align: right;\n",
       "    }\n",
       "</style>\n",
       "<table border=\"1\" class=\"dataframe\">\n",
       "  <thead>\n",
       "    <tr style=\"text-align: right;\">\n",
       "      <th></th>\n",
       "      <th>sqMeter_price</th>\n",
       "    </tr>\n",
       "    <tr>\n",
       "      <th>locality_name</th>\n",
       "      <th></th>\n",
       "    </tr>\n",
       "  </thead>\n",
       "  <tbody>\n",
       "    <tr>\n",
       "      <th>Всеволожск</th>\n",
       "      <td>67155.132992</td>\n",
       "    </tr>\n",
       "    <tr>\n",
       "      <th>Выборг</th>\n",
       "      <td>58513.201717</td>\n",
       "    </tr>\n",
       "    <tr>\n",
       "      <th>Гатчина</th>\n",
       "      <td>68988.363934</td>\n",
       "    </tr>\n",
       "    <tr>\n",
       "      <th>Колпино</th>\n",
       "      <td>82865.000000</td>\n",
       "    </tr>\n",
       "    <tr>\n",
       "      <th>Пушкин</th>\n",
       "      <td>99929.666667</td>\n",
       "    </tr>\n",
       "    <tr>\n",
       "      <th>Санкт-Петербург</th>\n",
       "      <td>110649.856854</td>\n",
       "    </tr>\n",
       "    <tr>\n",
       "      <th>деревня Кудрово</th>\n",
       "      <td>92296.749117</td>\n",
       "    </tr>\n",
       "    <tr>\n",
       "      <th>посёлок Мурино</th>\n",
       "      <td>85120.018256</td>\n",
       "    </tr>\n",
       "    <tr>\n",
       "      <th>посёлок Парголово</th>\n",
       "      <td>90448.000000</td>\n",
       "    </tr>\n",
       "    <tr>\n",
       "      <th>посёлок Шушары</th>\n",
       "      <td>80520.466135</td>\n",
       "    </tr>\n",
       "  </tbody>\n",
       "</table>\n",
       "</div>"
      ],
      "text/plain": [
       "                   sqMeter_price\n",
       "locality_name                   \n",
       "Всеволожск          67155.132992\n",
       "Выборг              58513.201717\n",
       "Гатчина             68988.363934\n",
       "Колпино             82865.000000\n",
       "Пушкин              99929.666667\n",
       "Санкт-Петербург    110649.856854\n",
       "деревня Кудрово     92296.749117\n",
       "посёлок Мурино      85120.018256\n",
       "посёлок Парголово   90448.000000\n",
       "посёлок Шушары      80520.466135"
      ]
     },
     "metadata": {},
     "output_type": "display_data"
    },
    {
     "data": {
      "text/html": [
       "<div>\n",
       "<style scoped>\n",
       "    .dataframe tbody tr th:only-of-type {\n",
       "        vertical-align: middle;\n",
       "    }\n",
       "\n",
       "    .dataframe tbody tr th {\n",
       "        vertical-align: top;\n",
       "    }\n",
       "\n",
       "    .dataframe thead th {\n",
       "        text-align: right;\n",
       "    }\n",
       "</style>\n",
       "<table border=\"1\" class=\"dataframe\">\n",
       "  <thead>\n",
       "    <tr style=\"text-align: right;\">\n",
       "      <th></th>\n",
       "      <th>last_price</th>\n",
       "    </tr>\n",
       "    <tr>\n",
       "      <th>locality_name</th>\n",
       "      <th></th>\n",
       "    </tr>\n",
       "  </thead>\n",
       "  <tbody>\n",
       "    <tr>\n",
       "      <th>Всеволожск</th>\n",
       "      <td>3.766207e+06</td>\n",
       "    </tr>\n",
       "    <tr>\n",
       "      <th>Выборг</th>\n",
       "      <td>3.226545e+06</td>\n",
       "    </tr>\n",
       "    <tr>\n",
       "      <th>Гатчина</th>\n",
       "      <td>3.480788e+06</td>\n",
       "    </tr>\n",
       "    <tr>\n",
       "      <th>Колпино</th>\n",
       "      <td>2.950000e+06</td>\n",
       "    </tr>\n",
       "    <tr>\n",
       "      <th>Пушкин</th>\n",
       "      <td>5.499619e+06</td>\n",
       "    </tr>\n",
       "    <tr>\n",
       "      <th>Санкт-Петербург</th>\n",
       "      <td>6.692448e+06</td>\n",
       "    </tr>\n",
       "    <tr>\n",
       "      <th>деревня Кудрово</th>\n",
       "      <td>4.334467e+06</td>\n",
       "    </tr>\n",
       "    <tr>\n",
       "      <th>посёлок Мурино</th>\n",
       "      <td>3.734949e+06</td>\n",
       "    </tr>\n",
       "    <tr>\n",
       "      <th>посёлок Парголово</th>\n",
       "      <td>4.503557e+06</td>\n",
       "    </tr>\n",
       "    <tr>\n",
       "      <th>посёлок Шушары</th>\n",
       "      <td>3.990641e+06</td>\n",
       "    </tr>\n",
       "  </tbody>\n",
       "</table>\n",
       "</div>"
      ],
      "text/plain": [
       "                     last_price\n",
       "locality_name                  \n",
       "Всеволожск         3.766207e+06\n",
       "Выборг             3.226545e+06\n",
       "Гатчина            3.480788e+06\n",
       "Колпино            2.950000e+06\n",
       "Пушкин             5.499619e+06\n",
       "Санкт-Петербург    6.692448e+06\n",
       "деревня Кудрово    4.334467e+06\n",
       "посёлок Мурино     3.734949e+06\n",
       "посёлок Парголово  4.503557e+06\n",
       "посёлок Шушары     3.990641e+06"
      ]
     },
     "metadata": {},
     "output_type": "display_data"
    }
   ],
   "source": [
    "df_names = [\"Санкт-Петербург\", \"посёлок Мурино\", \"посёлок Шушары\", \"Всеволожск\", \"Пушкин\", \"Колпино\", \"посёлок Парголово\", \"Гатчина\", \"деревня Кудрово\", \"Выборг\"] #создаем список из 10 населённых пунктов\n",
    "display(df.query('locality_name in @df_names').pivot_table(index='locality_name', values='sqMeter_price', aggfunc='mean')) #подсчёт средней цены квадратного метра\n",
    "display(df.query('locality_name in @df_names').pivot_table(index='locality_name', values='last_price', aggfunc='mean')) #определяем стоимость жилья"
   ]
  },
  {
   "cell_type": "markdown",
   "metadata": {},
   "source": [
    "Согласно полученным данным, среди выбранных населённых пунктов наибольшая средняя цена квадратного метра - в Санкт-Петербурге (110650 руб.), наименьшая - в Выборге (58513 руб.). Самая высокая средняя стоимость жилья - также в Санкт-Петербурге (6.69 млн. руб.), самая низкая - в Колпино (2.95 млн. руб.).\n",
    "\n"
   ]
  },
  {
   "cell_type": "markdown",
   "metadata": {},
   "source": [
    "Далее, перейдем к анализу данных о квартирах в Санкт-Петербурге. Определим, какая область входит в центр города. Для этого необходимо создать столбец с расстоянием до центра в километрах, а затем посчитать среднюю цену для каждого километра. Также, для наглядности следует построить график, показывающий, как цена зависит от удалённости от центра. "
   ]
  },
  {
   "cell_type": "code",
   "execution_count": 31,
   "metadata": {},
   "outputs": [
    {
     "data": {
      "text/plain": [
       "<AxesSubplot:xlabel='cityCenters_km'>"
      ]
     },
     "execution_count": 31,
     "metadata": {},
     "output_type": "execute_result"
    },
    {
     "data": {
      "image/png": "[encoded data removed]",
      "text/plain": [
       "<Figure size 432x288 with 1 Axes>"
      ]
     },
     "metadata": {
      "needs_background": "light"
     },
     "output_type": "display_data"
    }
   ],
   "source": [
    "df['cityCenters_km'] = df['cityCenters_nearest'] / 1000 #создаем столбец, заполняем значениями из 'cityCenters_nearest', переведенными в км\n",
    "df['cityCenters_km'] = df['cityCenters_km'].fillna(df['cityCenters_km'].median()).astype('int') #заполняем пропуски медианным значением, округляем до целого\n",
    "df.query('locality_name == \"Санкт-Петербург\"').pivot_table(index='cityCenters_km', values='last_price', aggfunc='mean').plot(style='o-', grid=True) #подсчёт средней цены для каждого километра, построение графика"
   ]
  },
  {
   "cell_type": "markdown",
   "metadata": {},
   "source": [
    "Цена существенно падает после отметки в 8 км, а значит \"центром города\" можно назвать территорию в радиусе 8 км. Проанализируем квартиры в этой области и изучим следующие параметры: площадь, цена, число комнат, высота потолков. Также выделим факторы, которые влияют на стоимость квартиры (число комнат, этаж, удалённость от центра, дата размещения объявления)."
   ]
  },
  {
   "cell_type": "code",
   "execution_count": 32,
   "metadata": {},
   "outputs": [],
   "source": [
    "df_spb = df.query('locality_name == \"Санкт-Петербург\" & cityCenters_km <= 8') "
   ]
  },
  {
   "cell_type": "code",
   "execution_count": 33,
   "metadata": {},
   "outputs": [
    {
     "data": {
      "text/plain": [
       "<AxesSubplot:>"
      ]
     },
     "execution_count": 33,
     "metadata": {},
     "output_type": "execute_result"
    },
    {
     "data": {
      "image/png": "[encoded data removed]",
      "text/plain": [
       "<Figure size 432x288 with 1 Axes>"
      ]
     },
     "metadata": {
      "needs_background": "light"
     },
     "output_type": "display_data"
    }
   ],
   "source": [
    "df['total_area'].hist(bins=100, range=(0, 200)) #построение гистограммы для параметра площади (вся база)"
   ]
  },
  {
   "cell_type": "code",
   "execution_count": 34,
   "metadata": {},
   "outputs": [
    {
     "data": {
      "text/plain": [
       "<AxesSubplot:>"
      ]
     },
     "execution_count": 34,
     "metadata": {},
     "output_type": "execute_result"
    },
    {
     "data": {
      "image/png": "[encoded data removed]",
      "text/plain": [
       "<Figure size 432x288 with 1 Axes>"
      ]
     },
     "metadata": {
      "needs_background": "light"
     },
     "output_type": "display_data"
    }
   ],
   "source": [
    "df.loc[(df['locality_name'] == 'Санкт-Петербург') & (df['cityCenters_km'] <= 8), 'total_area'].hist(bins=100, range=(0, 200)) #построение гистограммы для параметра площади (Санкт-Петербург, центр)"
   ]
  },
  {
   "cell_type": "markdown",
   "metadata": {},
   "source": [
    "Согласно гистограмме, подавляющее большинство квартир в центре Санкт-Петербурга имеют площадь до 100 кв. м. В целом, распределение по параметру площади несколько отличается от общей базы - пик все так же в районе 45 кв. м, однако заметно, что доля больших квартир (начиная с 50 кв. м и далее) существенно выше."
   ]
  },
  {
   "cell_type": "code",
   "execution_count": 35,
   "metadata": {},
   "outputs": [
    {
     "data": {
      "text/plain": [
       "<AxesSubplot:>"
      ]
     },
     "execution_count": 35,
     "metadata": {},
     "output_type": "execute_result"
    },
    {
     "data": {
      "image/png": "[encoded data removed]",
      "text/plain": [
       "<Figure size 432x288 with 1 Axes>"
      ]
     },
     "metadata": {
      "needs_background": "light"
     },
     "output_type": "display_data"
    }
   ],
   "source": [
    "(df['last_price'] / 1000000).hist(bins=100, range=(0, 30)) #построение гистограммы для параметра цены (вся база)"
   ]
  },
  {
   "cell_type": "code",
   "execution_count": 36,
   "metadata": {},
   "outputs": [
    {
     "data": {
      "text/plain": [
       "<AxesSubplot:>"
      ]
     },
     "execution_count": 36,
     "metadata": {},
     "output_type": "execute_result"
    },
    {
     "data": {
      "image/png": "[encoded data removed]",
      "text/plain": [
       "<Figure size 432x288 with 1 Axes>"
      ]
     },
     "metadata": {
      "needs_background": "light"
     },
     "output_type": "display_data"
    }
   ],
   "source": [
    "(df.loc[(df['locality_name'] == 'Санкт-Петербург') & (df['cityCenters_km'] <= 8), 'last_price'] / 1000000).hist(bins=100, range=(0, 30)) #построение гистограммы для параметра цены (Санкт-Петербург, центр)"
   ]
  },
  {
   "cell_type": "markdown",
   "metadata": {},
   "source": [
    "Представленные данные говорят о том, что в центре Санкт-Петербурга доля дорогих квартир выше, чем по всей базе данных. Такой вывод можно сделать исходя из того, что \"пик\" и \"уклон\" на второй гистограмме расположены правее отметки в 5 млн. руб., в отличие от первой. К тому же, спад более плавный, а так же наблюдаются многочисленные резкие выбросы после 5 млн. руб., гораздо более существенные, чем на первой гистограмме, что тоже свидетельствует о большей доле дорогих квартир."
   ]
  },
  {
   "cell_type": "code",
   "execution_count": 37,
   "metadata": {},
   "outputs": [
    {
     "data": {
      "text/plain": [
       "<AxesSubplot:>"
      ]
     },
     "execution_count": 37,
     "metadata": {},
     "output_type": "execute_result"
    },
    {
     "data": {
      "image/png": "[encoded data removed]",
      "text/plain": [
       "<Figure size 432x288 with 1 Axes>"
      ]
     },
     "metadata": {
      "needs_background": "light"
     },
     "output_type": "display_data"
    }
   ],
   "source": [
    "df['rooms'].hist(bins=100, range=(1, 4)) #построение гистограммы для параметра числа комнат (вся база)"
   ]
  },
  {
   "cell_type": "code",
   "execution_count": 38,
   "metadata": {},
   "outputs": [
    {
     "data": {
      "text/plain": [
       "<AxesSubplot:>"
      ]
     },
     "execution_count": 38,
     "metadata": {},
     "output_type": "execute_result"
    },
    {
     "data": {
      "image/png": "[encoded data removed]",
      "text/plain": [
       "<Figure size 432x288 with 1 Axes>"
      ]
     },
     "metadata": {
      "needs_background": "light"
     },
     "output_type": "display_data"
    }
   ],
   "source": [
    "df.loc[(df['locality_name'] == 'Санкт-Петербург') & (df['cityCenters_km'] <= 8), 'rooms'].hist(bins=100, range=(1, 4)) #построение гистограммы для параметра числа комнат (Санкт-Петербург, центр)"
   ]
  },
  {
   "cell_type": "markdown",
   "metadata": {},
   "source": [
    "Данные гистограмм говорят о том, что в центре Санкт-Петербурга доля двухкомнатных и трехкомнатных квартир существенно выше, чем по всей базе. Примечательно, что в отличие от первой гистограммы, на второй доли двухкомнатных и трехкомнатных квартир практически равны, а доля однокомнатных квартир существенно ниже. То есть, можно сделать вывод о том, что в центре Санкт-Петербурга преобладают двухкомнатные и трехкомнатные квартиры, в отличие от данных по базе в целом, где преобладают однокомнатные и двухкомнатные квартиры."
   ]
  },
  {
   "cell_type": "code",
   "execution_count": 39,
   "metadata": {},
   "outputs": [
    {
     "data": {
      "text/plain": [
       "<AxesSubplot:>"
      ]
     },
     "execution_count": 39,
     "metadata": {},
     "output_type": "execute_result"
    },
    {
     "data": {
      "image/png": "[encoded data removed]",
      "text/plain": [
       "<Figure size 432x288 with 1 Axes>"
      ]
     },
     "metadata": {
      "needs_background": "light"
     },
     "output_type": "display_data"
    }
   ],
   "source": [
    "df['ceiling_height'].hist(bins=10, range=(2, 5)) #построение гистограммы для параметра высоты потолков (вся база)"
   ]
  },
  {
   "cell_type": "code",
   "execution_count": 40,
   "metadata": {},
   "outputs": [
    {
     "data": {
      "text/plain": [
       "<AxesSubplot:>"
      ]
     },
     "execution_count": 40,
     "metadata": {},
     "output_type": "execute_result"
    },
    {
     "data": {
      "image/png": "[encoded data removed]",
      "text/plain": [
       "<Figure size 432x288 with 1 Axes>"
      ]
     },
     "metadata": {
      "needs_background": "light"
     },
     "output_type": "display_data"
    }
   ],
   "source": [
    "df.loc[(df['locality_name'] == 'Санкт-Петербург') & (df['cityCenters_km'] <= 8), 'ceiling_height'].hist(bins=10, range=(2, 5)) #построение гистограммы для параметра высоты потолков (Санкт-Петербург, центр)"
   ]
  },
  {
   "cell_type": "markdown",
   "metadata": {},
   "source": [
    "Полученные данные говорят о том, что в центре Санкт-Петербурга доля квартир с высокими потолками выше, чем по всей базе данных. \"Пики\" расположены одинаково, зато на второй гистограмме доля квартир с высотой потолков до 2.5 м меньше, чем на первой, а вот доля квартир с высотой потолков более 3 м заметно больше.\n",
    "\n",
    "Далее следует проанализировать ряд факторов, влияющих на стоимость квартиры: число комнат, этаж, удалённость от центра, дата размещения объявления."
   ]
  },
  {
   "cell_type": "code",
   "execution_count": 41,
   "metadata": {},
   "outputs": [
    {
     "data": {
      "text/plain": [
       "<AxesSubplot:title={'center':'Санкт-Петербург, центр'}, xlabel='rooms'>"
      ]
     },
     "execution_count": 41,
     "metadata": {},
     "output_type": "execute_result"
    },
    {
     "data": {
      "image/png": "[encoded data removed]",
      "text/plain": [
       "<Figure size 432x288 with 1 Axes>"
      ]
     },
     "metadata": {
      "needs_background": "light"
     },
     "output_type": "display_data"
    },
    {
     "data": {
      "image/png": "[encoded data removed]",
      "text/plain": [
       "<Figure size 432x288 with 1 Axes>"
      ]
     },
     "metadata": {
      "needs_background": "light"
     },
     "output_type": "display_data"
    }
   ],
   "source": [
    "(\n",
    "    df\n",
    "    .pivot_table(index='rooms', values='last_price')\n",
    "    .plot(title='Вся база данных', style='o-', grid=True) #график зависимости цены от числа комнат (вся база)\n",
    ")\n",
    "(\n",
    "    df.query('locality_name == \"Санкт-Петербург\" & cityCenters_km <= 8')\n",
    "    .pivot_table(index='rooms', values='last_price')\n",
    "    .plot(title='Санкт-Петербург, центр', style='o-', grid=True) #график зависимости цены от числа комнат (Санкт-Петербург, центр)\n",
    ")"
   ]
  },
  {
   "cell_type": "markdown",
   "metadata": {},
   "source": [
    "Согласно представленным графикам, можно сделать вывод о том, что у квартир в центре Санкт-Петербурга стоимость сильнее возрастает с ростом числа комнат (вплоть до 3), чем у квартир по всей базе данных. То есть, разница в стоимости между двухкомнатной и однокомнатной (или трехкомнатной и двухкомнатной) квартирами на данной территории в среднем больше, чем по всей базе. Однако, разница между четырехкомнатной и трехкомнатной, наоборот, меньше, чем по всей базе."
   ]
  },
  {
   "cell_type": "code",
   "execution_count": 42,
   "metadata": {},
   "outputs": [
    {
     "data": {
      "text/plain": [
       "<AxesSubplot:title={'center':'Санкт-Петербург, центр'}, xlabel='floor_category'>"
      ]
     },
     "execution_count": 42,
     "metadata": {},
     "output_type": "execute_result"
    },
    {
     "data": {
      "image/png": "[encoded data removed]",
      "text/plain": [
       "<Figure size 432x288 with 1 Axes>"
      ]
     },
     "metadata": {
      "needs_background": "light"
     },
     "output_type": "display_data"
    },
    {
     "data": {
      "image/png": "[encoded data removed]",
      "text/plain": [
       "<Figure size 432x288 with 1 Axes>"
      ]
     },
     "metadata": {
      "needs_background": "light"
     },
     "output_type": "display_data"
    }
   ],
   "source": [
    "(\n",
    "    df\n",
    "    .pivot_table(index='floor_category', values='last_price')\n",
    "    .plot(title='Вся база данных', style='o-', grid=True) #график зависимости цены от этажа (вся база)\n",
    ")\n",
    "(\n",
    "    df.query('locality_name == \"Санкт-Петербург\" & cityCenters_km <= 8')\n",
    "    .pivot_table(index='floor_category', values='last_price')\n",
    "    .plot(title='Санкт-Петербург, центр', style='o-', grid=True) #график зависимости цены от этажа (Санкт-Петербург, центр)\n",
    ")"
   ]
  },
  {
   "cell_type": "markdown",
   "metadata": {},
   "source": [
    "В целом, благодаря данным графикам можно утверждать, что квартиры на первом этаже в обоих случаях имеют значительно более низкую стоимость, чем квартиры на других этажах. Квартиры на последем этаже также в обоих случаях дешевле квартир на других этажах, однако во втором случае эта разница существенно ниже. Следовательно, для центра Санкт-Петербурга последний этаж является менее существенным фактором снижения стоимости квартиры, чем для квартир по базе данных в целом."
   ]
  },
  {
   "cell_type": "code",
   "execution_count": 43,
   "metadata": {},
   "outputs": [
    {
     "data": {
      "text/plain": [
       "<AxesSubplot:title={'center':'Санкт-Петербург, центр'}, xlabel='cityCenters_nearest'>"
      ]
     },
     "execution_count": 43,
     "metadata": {},
     "output_type": "execute_result"
    },
    {
     "data": {
      "image/png": "[encoded data removed]",
      "text/plain": [
       "<Figure size 432x288 with 1 Axes>"
      ]
     },
     "metadata": {
      "needs_background": "light"
     },
     "output_type": "display_data"
    },
    {
     "data": {
      "image/png": "[encoded data removed]",
      "text/plain": [
       "<Figure size 432x288 with 1 Axes>"
      ]
     },
     "metadata": {
      "needs_background": "light"
     },
     "output_type": "display_data"
    }
   ],
   "source": [
    "(\n",
    "    df\n",
    "    .pivot_table(index='cityCenters_nearest', values='last_price')\n",
    "    .plot(title='Вся база данных', style='o', grid=True) #график зависимости цены от удалённости от центра (вся база)\n",
    ")\n",
    "(\n",
    "    df.query('locality_name == \"Санкт-Петербург\" & cityCenters_km <= 8')\n",
    "    .pivot_table(index='cityCenters_nearest', values='last_price')\n",
    "    .plot(title='Санкт-Петербург, центр', style='o', grid=True) #график зависимости цены от удалённости от центра (Санкт-Петербург, центр)\n",
    ")"
   ]
  },
  {
   "cell_type": "markdown",
   "metadata": {},
   "source": [
    "Согласно данным графикам, в центре Санкт-Петербурга стоимость квартир является относительно стабильной, с небольшим уменьшением, в отличие от всей базы, где явно наблюдается серьезный спад по мере увеличения расстояния до центра города.\n",
    "\n",
    "Далее, добавим расчет корреляции для площади, количества комнат и расстояния от центра для данной территории."
   ]
  },
  {
   "cell_type": "code",
   "execution_count": 44,
   "metadata": {},
   "outputs": [
    {
     "name": "stdout",
     "output_type": "stream",
     "text": [
      "0.7674217195997082\n",
      "0.44039833997618805\n",
      "-0.13472199622721173\n"
     ]
    }
   ],
   "source": [
    "print(df_spb['last_price'].corr(df['total_area'])) #расчёт корреляции цены и площади, центр Санкт-Петербурга\n",
    "print(df_spb['last_price'].corr(df['rooms'])) #расчёт корреляции цены и числа комнат, центр Санкт-Петербурга\n",
    "print(df_spb['last_price'].corr(df['cityCenters_nearest'])) #расчёт корреляции цены и расстояния от центра, центр Санкт-Петербурга"
   ]
  },
  {
   "cell_type": "markdown",
   "metadata": {},
   "source": [
    "Коэффициент корреляции в первых двух случаях — положительный, следовательно, цена квартир растет с увеличением площади и числа комнат, и наоборот, снижается при увеличении расстояния от центра, поскольку в третьем случае коэффициент отрицательный. В этом отношении, корреляция для центра Санкт-Петербурга и всей базы по данным показателям сходится. Линейная взаимосвязь наиболее тесная в первом случае, поскольку коэффициент ближе к крайнему значению 1, причем данное значение весьма близко к значению для всей базы (0.79). Во втором случае, взаимосвязь слабее, поскольку значение ближе к 0. Коэффициент также близок к таковому для всей базы (0.46). Что касается коэффициента корреляции цены и расстояния от центра, то здесь взаимосвязь крайне слабая, поскольку значение еще ближе к 0. К тому же, оно существенно меньше, чем для всей базы (-0.41). Это позволяет сделать вывод о том, что расстояние от центра в пределах 8 км для Санкт-Петербурга является значительно менее значимым фактором формирования цены, чем для всей базы данных.\n"
   ]
  },
  {
   "cell_type": "code",
   "execution_count": 45,
   "metadata": {},
   "outputs": [
    {
     "data": {
      "text/plain": [
       "<AxesSubplot:title={'center':'Санкт-Петербург, центр'}, xlabel='week_day'>"
      ]
     },
     "execution_count": 45,
     "metadata": {},
     "output_type": "execute_result"
    },
    {
     "data": {
      "image/png": "[encoded data removed]",
      "text/plain": [
       "<Figure size 432x288 with 1 Axes>"
      ]
     },
     "metadata": {
      "needs_background": "light"
     },
     "output_type": "display_data"
    },
    {
     "data": {
      "image/png": "[encoded data removed]",
      "text/plain": [
       "<Figure size 432x288 with 1 Axes>"
      ]
     },
     "metadata": {
      "needs_background": "light"
     },
     "output_type": "display_data"
    }
   ],
   "source": [
    "(\n",
    "    df\n",
    "    .pivot_table(index='week_day', values='last_price')\n",
    "    .plot(title='Вся база данных', style='o-', grid=True) #график зависимости цены от дня недели размещения объявления (вся база)\n",
    ")\n",
    "(\n",
    "    df.query('locality_name == \"Санкт-Петербург\" & cityCenters_km <= 8')\n",
    "    .pivot_table(index='week_day', values='last_price')\n",
    "    .plot(title='Санкт-Петербург, центр', style='o-', grid=True) #график зависимости цены от дня недели размещения объявления (Санкт-Петербург, центр)\n",
    ")"
   ]
  },
  {
   "cell_type": "markdown",
   "metadata": {},
   "source": [
    "Графики показывают, что в обоих случаях наименьшую стоимость имеют квартиры, выставленные на продажу в субботу. Однако, в остальном представленные графики существенно различаются. Наибольшее значение для центра Санкт-Петербурга - в понедельник, для всей базы - в четверг."
   ]
  },
  {
   "cell_type": "code",
   "execution_count": 46,
   "metadata": {},
   "outputs": [
    {
     "data": {
      "text/plain": [
       "<AxesSubplot:title={'center':'Санкт-Петербург, центр'}, xlabel='month'>"
      ]
     },
     "execution_count": 46,
     "metadata": {},
     "output_type": "execute_result"
    },
    {
     "data": {
      "image/png": "[encoded data removed]",
      "text/plain": [
       "<Figure size 432x288 with 1 Axes>"
      ]
     },
     "metadata": {
      "needs_background": "light"
     },
     "output_type": "display_data"
    },
    {
     "data": {
      "image/png": "[encoded data removed]",
      "text/plain": [
       "<Figure size 432x288 with 1 Axes>"
      ]
     },
     "metadata": {
      "needs_background": "light"
     },
     "output_type": "display_data"
    }
   ],
   "source": [
    "(\n",
    "    df\n",
    "    .pivot_table(index='month', values='last_price')\n",
    "    .plot(title='Вся база данных', style='o-', grid=True) #график зависимости цены от дня месяца размещения объявления (вся база)\n",
    ")\n",
    "(\n",
    "    df.query('locality_name == \"Санкт-Петербург\" & cityCenters_km <= 8')\n",
    "    .pivot_table(index='month', values='last_price')\n",
    "    .plot(title='Санкт-Петербург, центр', style='o-', grid=True) #график зависимости цены от дня месяца размещения объявления (Санкт-Петербург, центр)\n",
    ")"
   ]
  },
  {
   "cell_type": "markdown",
   "metadata": {},
   "source": [
    "Исходя из полученных данных, следует вывод о том, что месяц размещения объявления о продаже влияет на стоимость квартиры в центре Санкт-Петербурга иначе, чем для квартир по всей базе. Представленные графики существенно различаются, однако, все еще позволяют заметить некоторые закономерности: \"яма\" с апреля по июнь, резкий \"подъем\" с июня по июль, \"подъем\" с августа по сентябрь, резкое \"падение\" с сентября по октябрь, затем резкий \"подъем\" с октября по ноябрь и снова существенное падение с ноября по декабрь.  "
   ]
  },
  {
   "cell_type": "code",
   "execution_count": 47,
   "metadata": {},
   "outputs": [
    {
     "data": {
      "text/plain": [
       "<AxesSubplot:title={'center':'Санкт-Петербург, центр'}, xlabel='year'>"
      ]
     },
     "execution_count": 47,
     "metadata": {},
     "output_type": "execute_result"
    },
    {
     "data": {
      "image/png": "[encoded data removed]",
      "text/plain": [
       "<Figure size 432x288 with 1 Axes>"
      ]
     },
     "metadata": {
      "needs_background": "light"
     },
     "output_type": "display_data"
    },
    {
     "data": {
      "image/png": "[encoded data removed]",
      "text/plain": [
       "<Figure size 432x288 with 1 Axes>"
      ]
     },
     "metadata": {
      "needs_background": "light"
     },
     "output_type": "display_data"
    }
   ],
   "source": [
    "(\n",
    "    df\n",
    "    .pivot_table(index='year', values='last_price')\n",
    "    .plot(title='Вся база данных', style='o-', grid=True) #график зависимости цены от года размещения объявления (вся база)\n",
    ")\n",
    "(\n",
    "    df.query('locality_name == \"Санкт-Петербург\" & cityCenters_km <= 8')\n",
    "    .pivot_table(index='year', values='last_price')\n",
    "    .plot(title='Санкт-Петербург, центр', style='o-', grid=True) #график зависимости цены от года размещения объявления (Санкт-Петербург, центр)\n",
    ")"
   ]
  },
  {
   "cell_type": "markdown",
   "metadata": {},
   "source": [
    "В целом, данные графики зависимости цены от года размещения объявления схожи, за исключением того, что для центра Санкт-Петербурга отсутствует резкое снижение стоимости квартир в 2016 году. В остальном же, график по всей базе данных вполне корректно описывает изменения стоимости квартир в центре Санкт-Петербурга с 2014 по 2019 год."
   ]
  },
  {
   "cell_type": "markdown",
   "metadata": {},
   "source": [
    "### Вывод"
   ]
  },
  {
   "cell_type": "markdown",
   "metadata": {},
   "source": [
    "В ходе данного этапа был проведен исследовательский анализ данных. Были изучены различные параметры квартир и прочие факторы, оказывающие влияние на их стоимость, построены соответствующие гистограммы и графики, наглядно демонстрирующие их взаимосвязь. Также, был определен сегмент квартир с наибольшей средней стоимостью - квартиры в центре Санкт-Петербурга. Их параметры также были проанализированы, полученные данные сопоставлены с данными по всей базе, сделаны соответствующие выводы. Более подробно они будут представлены на следующем, заключительном этапе проекта."
   ]
  },
  {
   "cell_type": "markdown",
   "metadata": {},
   "source": [
    "## Общий вывод"
   ]
  },
  {
   "cell_type": "markdown",
   "metadata": {},
   "source": [
    "В ходе проведенного исследования были проанализированы данные сервиса Яндекc Недвижимость — архив объявлений о продаже квартир в Санкт-Петербурге и соседних населённых пунктах за несколько лет. Цель исследования — определение рыночной стоимости объектов недвижимости; изучение и анализ параметров квартир и прочих факторов, оказывающих влияние на их стоимость.\n",
    "\n",
    "В полученных входных данных наблюдался ряд проблем, таких как: пропуски, аномальные значения, несоответствие типов данных содержанию столбцов. Все проблемы были устранены в процессе исследования, а данные — приведены в максимально пригодное для проведения анализа состояние.\n",
    "\n",
    "В результате исследовательского анализа данных было установлено следующее:\n",
    "- Подавляющее большинство квартир из объявлений по всей базе данных имеют площадь значительно меньше 100 кв. м (\"пик\" наблюдается в районе 40 кв. м). Есть также и небольшое количество квартир с весьма малой или, наоборот, крайне большой площадью, однако их количество - минимально.\n",
    "- Цена большинства квартир составляет менее 10 млн. руб. Пик приходится на 4-5 млн. руб. Тем не менее, также наблюдается некоторое количество квартир со стоимостью более 10 млн. руб. Их количество постепенно снижается по мере увеличения цены в промежутке с 10 до 20 млн. руб. В промежутке с 20 до 30 млн. руб. их количество остается примерно одинаковым. \n",
    "- Большая часть квартир имеют 1-2 комнаты, причем количество таких квартир примерно одинаково (около 8000). Следом за ними - квартиры с 3 комнатами (менее 6000). Квартир с 4 комнатами и более - суммарно около 2000.\n",
    "- В среднем, высота потолков находится в пределах 2,6 - 3,2 м.\n",
    "- Среднее время продажи - 169 дней, медианное значение - 95 дней. \"Быстрой\" можно назвать продажу квартиры до 100 дней, \"необычно долгой\" - свыше 200 дней.\n",
    "- Цена квартиры находятся в прямой зависимости от ее площади.\n",
    "- Цена квартиры имеет прямую зависимость от числа комнат.\n",
    "- Большинство квартир находятся в пределах 15 км от центра города. Стоимость квартир имеет обратную зависимость от расстояния до центра.\n",
    "- Стоимость квартир, расположенных на первом этаже существенно ниже стоимости квартир, расположенных на последнем этаже. Наибольшую стоимость имеют квартиры, не располагающиеся на первом или последнем этажах.\n",
    "- Большую цену имеют квартиры, объявления о продаже которых были размещены в четверг, понедельник, среду, вторник. Меньшую - в субботу, воскресенье и пятницу.\n",
    "- Цены квартир зависят от месяца размещения объявления следующим образом: наибольшие цены - при размещении в сентябре, ноябре и апреле, наименьшие - при размещении в июне.\n",
    "- Цены квартир неуклонно снижались после 2014 года, вплоть до 2018 года. В период с 2018 года по 2019 наблюдается заметный рост цен.\n",
    "- Были определены 10 населённых пунктов с наибольшим числом объявлений. В их число входят: Санкт-Петербург (14817), посёлок Мурино (493), Всеволожск (391), посёлок Парголово (322), Гатчина (305), деревня Кудрово (283), посёлок Шушары (251), Выборг (233), Кудрово (168), деревня Новое Девяткино (141).\n",
    "- Согласно полученным данным, среди указанных населённых пунктов наибольшая средняя цена квадратного метра - в Санкт-Петербурге (110650 руб.), наименьшая - в Выборге (58513 руб.). Самая высокая средняя стоимость жилья - также в Санкт-Петербурге (6.69 млн. руб.), самая низкая - в Колпино (2.95 млн. руб.).\n",
    "- В ходе анализа данных о квартирах в Санкт-Петербурге было установлено, что цена квартир существенно падает после отметки в 8 км от центра, а значит \"центром города\" можно назвать всю территорию в радиусе 8 км.\n",
    "- Подавляющее большинство квартир в центре Санкт-Петербурга имеют площадь до 100 кв. м. В целом, распределение по параметру площади несколько отличается от общей базы - \"пик\" все так же в районе 45 кв. м, однако заметно, что доля больших квартир (начиная с 50 кв. м и далее) существенно выше.\n",
    "- В центре Санкт-Петербурга доля дорогих квартир выше, чем по всей базе данных. \n",
    "- В центре Санкт-Петербурга преобладают двухкомнатные и трехкомнатные квартиры, в отличие от данных по базе в целом, где преобладают однокомнатные и двухкомнатные квартиры.\n",
    "- В центре Санкт-Петербурга доля квартир с высокими потолками больше, чем по всей базе данных: меньше квартир с высотой потолков до 2.5 м, больше - с высотой потолков более 3 м.\n",
    "- У квартир в центре Санкт-Петербурга стоимость сильнее возрастает с ростом числа комнат (вплоть до 3): разница в стоимости между двухкомнатной и однокомнатной (или трехкомнатной и двухкомнатной) квартирами на данной территории в среднем больше, чем по всей базе. Однако, разница между четырехкомнатной и трехкомнатной, наоборот, меньше.\n",
    "- Квартиры на первом этаже в обоих случаях имеют значительно более низкую стоимость, чем квартиры на других этажах. Квартиры на последем этаже также в обоих случаях дешевле квартир на других этажах, однако для центра Санкт-Петербурга последний этаж является менее существенным фактором снижения стоимости, чем для квартир по базе данных в целом.\n",
    "- В центре Санкт-Петербурга стоимость квартир является относительно стабильной, с небольшим уменьшением при удалении от центра в пределах 8 км, в отличие от всей базы, где явно наблюдается серьезный спад по мере увеличения расстояния до центра города.\n",
    "- В обоих случаях наименьшую стоимость имеют квартиры, выставленные на продажу в субботу. Наибольшее значение для центра Санкт-Петербурга - в понедельник, для всей базы - в четверг.\n",
    "- Месяц размещения объявления о продаже влияет на стоимость квартиры в центре Санкт-Петербурга несколько иначе, чем для квартир по всей базе. Тем не менее, были выделены следующие общие закономерности: \"яма\" с апреля по июнь, резкий \"подъем\" с июня по июль, \"подъем\" с августа по сентябрь, резкое \"падение\" с сентября по октябрь, затем резкий \"подъем\" с октября по ноябрь и снова существенное \"падение\" с ноября по декабрь.\n",
    "- В целом, зависимость цены от года размещения объявления и для центра Санкт-Петербурга и для всей базы примерно одинакова, за исключением того, что для центра Санкт-Петербурга отсутствует резкое снижение стоимости квартир в 2016 году. \n",
    "\n",
    "Таким образом, в ходе проведенного исследования все поставленные задачи были выполнены."
   ]
  }
 ],
 "metadata": {
  "ExecuteTimeLog": [
   {
    "duration": 621,
    "start_time": "2022-05-02T11:55:27.204Z"
   },
   {
    "duration": 176,
    "start_time": "2022-05-02T11:55:27.829Z"
   },
   {
    "duration": 477,
    "start_time": "2022-05-02T11:55:28.008Z"
   },
   {
    "duration": 8,
    "start_time": "2022-05-02T12:04:24.715Z"
   },
   {
    "duration": 9,
    "start_time": "2022-05-02T12:05:27.537Z"
   },
   {
    "duration": 25,
    "start_time": "2022-05-02T12:12:07.030Z"
   },
   {
    "duration": 149,
    "start_time": "2022-05-02T12:29:43.665Z"
   },
   {
    "duration": 19,
    "start_time": "2022-05-02T12:30:29.490Z"
   },
   {
    "duration": 519,
    "start_time": "2022-05-02T12:31:31.031Z"
   },
   {
    "duration": 130,
    "start_time": "2022-05-02T12:31:31.553Z"
   },
   {
    "duration": 359,
    "start_time": "2022-05-02T12:31:31.686Z"
   },
   {
    "duration": 4,
    "start_time": "2022-05-02T12:31:32.048Z"
   },
   {
    "duration": 51,
    "start_time": "2022-05-02T12:31:32.054Z"
   },
   {
    "duration": 80,
    "start_time": "2022-05-02T12:34:32.152Z"
   },
   {
    "duration": 233,
    "start_time": "2022-05-02T12:38:02.845Z"
   },
   {
    "duration": 62,
    "start_time": "2022-05-02T12:38:27.570Z"
   },
   {
    "duration": 110,
    "start_time": "2022-05-02T12:38:50.577Z"
   },
   {
    "duration": 50,
    "start_time": "2022-05-02T12:38:57.841Z"
   },
   {
    "duration": 935,
    "start_time": "2022-05-02T12:43:46.191Z"
   },
   {
    "duration": 1094,
    "start_time": "2022-05-02T12:43:50.879Z"
   },
   {
    "duration": 973,
    "start_time": "2022-05-02T12:45:02.177Z"
   },
   {
    "duration": 13,
    "start_time": "2022-05-02T12:45:23.154Z"
   },
   {
    "duration": 0,
    "start_time": "2022-05-02T12:46:40.813Z"
   },
   {
    "duration": 14,
    "start_time": "2022-05-02T13:09:32.077Z"
   },
   {
    "duration": 5,
    "start_time": "2022-05-02T13:22:13.343Z"
   },
   {
    "duration": 6,
    "start_time": "2022-05-02T13:22:28.523Z"
   },
   {
    "duration": 8,
    "start_time": "2022-05-02T13:23:02.012Z"
   },
   {
    "duration": 198,
    "start_time": "2022-05-02T13:24:47.336Z"
   },
   {
    "duration": 4,
    "start_time": "2022-05-02T13:24:51.629Z"
   },
   {
    "duration": 5,
    "start_time": "2022-05-02T13:24:56.792Z"
   },
   {
    "duration": 16,
    "start_time": "2022-05-02T13:26:19.036Z"
   },
   {
    "duration": 12,
    "start_time": "2022-05-02T13:26:34.933Z"
   },
   {
    "duration": 9,
    "start_time": "2022-05-02T13:28:09.519Z"
   },
   {
    "duration": 10,
    "start_time": "2022-05-02T13:31:39.306Z"
   },
   {
    "duration": 8,
    "start_time": "2022-05-02T13:31:52.295Z"
   },
   {
    "duration": 6,
    "start_time": "2022-05-02T13:34:35.818Z"
   },
   {
    "duration": 2067,
    "start_time": "2022-05-02T13:39:13.437Z"
   },
   {
    "duration": 1868,
    "start_time": "2022-05-02T13:39:25.843Z"
   },
   {
    "duration": 680,
    "start_time": "2022-05-02T13:39:36.152Z"
   },
   {
    "duration": 168,
    "start_time": "2022-05-02T13:39:36.835Z"
   },
   {
    "duration": 352,
    "start_time": "2022-05-02T13:39:37.005Z"
   },
   {
    "duration": 23,
    "start_time": "2022-05-02T13:39:37.362Z"
   },
   {
    "duration": 32,
    "start_time": "2022-05-02T13:39:37.387Z"
   },
   {
    "duration": 82,
    "start_time": "2022-05-02T13:39:37.421Z"
   },
   {
    "duration": 38,
    "start_time": "2022-05-02T13:39:37.505Z"
   },
   {
    "duration": 5,
    "start_time": "2022-05-02T13:39:37.546Z"
   },
   {
    "duration": 61,
    "start_time": "2022-05-02T13:39:37.555Z"
   },
   {
    "duration": 17,
    "start_time": "2022-05-02T13:40:38.713Z"
   },
   {
    "duration": 7,
    "start_time": "2022-05-02T13:41:35.395Z"
   },
   {
    "duration": 650,
    "start_time": "2022-05-02T13:41:46.216Z"
   },
   {
    "duration": 124,
    "start_time": "2022-05-02T13:41:46.870Z"
   },
   {
    "duration": 388,
    "start_time": "2022-05-02T13:41:46.997Z"
   },
   {
    "duration": 6,
    "start_time": "2022-05-02T13:41:47.390Z"
   },
   {
    "duration": 20,
    "start_time": "2022-05-02T13:41:47.399Z"
   },
   {
    "duration": 72,
    "start_time": "2022-05-02T13:41:47.422Z"
   },
   {
    "duration": 122,
    "start_time": "2022-05-02T13:41:47.497Z"
   },
   {
    "duration": 4,
    "start_time": "2022-05-02T13:41:47.622Z"
   },
   {
    "duration": 34,
    "start_time": "2022-05-02T13:41:47.629Z"
   },
   {
    "duration": 13,
    "start_time": "2022-05-02T13:44:31.445Z"
   },
   {
    "duration": 469,
    "start_time": "2022-05-03T11:45:45.558Z"
   },
   {
    "duration": 97,
    "start_time": "2022-05-03T11:45:46.029Z"
   },
   {
    "duration": 287,
    "start_time": "2022-05-03T11:45:46.127Z"
   },
   {
    "duration": 4,
    "start_time": "2022-05-03T11:45:46.417Z"
   },
   {
    "duration": 14,
    "start_time": "2022-05-03T11:45:46.422Z"
   },
   {
    "duration": 24,
    "start_time": "2022-05-03T11:45:46.437Z"
   },
   {
    "duration": 3,
    "start_time": "2022-05-03T11:45:46.462Z"
   },
   {
    "duration": 31,
    "start_time": "2022-05-03T11:45:46.467Z"
   },
   {
    "duration": 9,
    "start_time": "2022-05-03T11:49:33.814Z"
   },
   {
    "duration": 15,
    "start_time": "2022-05-03T11:49:54.490Z"
   },
   {
    "duration": 11,
    "start_time": "2022-05-03T11:50:06.031Z"
   },
   {
    "duration": 31,
    "start_time": "2022-05-03T12:01:30.154Z"
   },
   {
    "duration": 79,
    "start_time": "2022-05-03T12:01:48.109Z"
   },
   {
    "duration": 9,
    "start_time": "2022-05-03T12:05:15.878Z"
   },
   {
    "duration": 26,
    "start_time": "2022-05-03T12:05:28.605Z"
   },
   {
    "duration": 48,
    "start_time": "2022-05-03T12:07:56.016Z"
   },
   {
    "duration": 18,
    "start_time": "2022-05-03T12:10:55.081Z"
   },
   {
    "duration": 695,
    "start_time": "2022-05-03T12:11:46.654Z"
   },
   {
    "duration": 24,
    "start_time": "2022-05-03T12:13:10.709Z"
   },
   {
    "duration": 8,
    "start_time": "2022-05-03T12:14:04.100Z"
   },
   {
    "duration": 185,
    "start_time": "2022-05-03T12:17:07.747Z"
   },
   {
    "duration": 155,
    "start_time": "2022-05-03T12:17:21.034Z"
   },
   {
    "duration": 394,
    "start_time": "2022-05-03T12:17:32.327Z"
   },
   {
    "duration": 90,
    "start_time": "2022-05-03T12:17:32.723Z"
   },
   {
    "duration": 178,
    "start_time": "2022-05-03T12:17:32.815Z"
   },
   {
    "duration": 5,
    "start_time": "2022-05-03T12:17:32.995Z"
   },
   {
    "duration": 40,
    "start_time": "2022-05-03T12:17:33.002Z"
   },
   {
    "duration": 21,
    "start_time": "2022-05-03T12:17:33.044Z"
   },
   {
    "duration": 24,
    "start_time": "2022-05-03T12:17:33.067Z"
   },
   {
    "duration": 9,
    "start_time": "2022-05-03T12:17:33.093Z"
   },
   {
    "duration": 30,
    "start_time": "2022-05-03T12:17:33.104Z"
   },
   {
    "duration": 118,
    "start_time": "2022-05-03T12:22:05.350Z"
   },
   {
    "duration": 390,
    "start_time": "2022-05-03T13:21:40.842Z"
   },
   {
    "duration": 95,
    "start_time": "2022-05-03T13:21:41.234Z"
   },
   {
    "duration": 121,
    "start_time": "2022-05-03T13:21:41.331Z"
   },
   {
    "duration": 2,
    "start_time": "2022-05-03T13:21:41.454Z"
   },
   {
    "duration": 23,
    "start_time": "2022-05-03T13:21:41.458Z"
   },
   {
    "duration": 17,
    "start_time": "2022-05-03T13:21:41.483Z"
   },
   {
    "duration": 12,
    "start_time": "2022-05-03T13:21:41.501Z"
   },
   {
    "duration": 7,
    "start_time": "2022-05-03T13:21:41.515Z"
   },
   {
    "duration": 40,
    "start_time": "2022-05-03T13:21:41.523Z"
   },
   {
    "duration": 9,
    "start_time": "2022-05-03T14:40:32.476Z"
   },
   {
    "duration": 52,
    "start_time": "2022-05-07T12:35:11.360Z"
   },
   {
    "duration": 412,
    "start_time": "2022-05-07T12:35:19.550Z"
   },
   {
    "duration": 110,
    "start_time": "2022-05-07T12:35:21.603Z"
   },
   {
    "duration": 121,
    "start_time": "2022-05-07T12:35:25.584Z"
   },
   {
    "duration": 72,
    "start_time": "2022-05-07T12:35:28.687Z"
   },
   {
    "duration": 74,
    "start_time": "2022-05-09T15:21:02.672Z"
   },
   {
    "duration": 506,
    "start_time": "2022-05-09T15:21:08.874Z"
   },
   {
    "duration": 129,
    "start_time": "2022-05-09T15:21:09.383Z"
   },
   {
    "duration": 292,
    "start_time": "2022-05-09T15:21:09.515Z"
   },
   {
    "duration": 15,
    "start_time": "2022-05-09T15:21:09.812Z"
   },
   {
    "duration": 33,
    "start_time": "2022-05-09T15:21:09.830Z"
   },
   {
    "duration": 14,
    "start_time": "2022-05-09T15:21:09.874Z"
   },
   {
    "duration": 9,
    "start_time": "2022-05-09T15:21:09.890Z"
   },
   {
    "duration": 22,
    "start_time": "2022-05-09T15:21:09.901Z"
   },
   {
    "duration": 40,
    "start_time": "2022-05-09T15:21:09.926Z"
   },
   {
    "duration": 31,
    "start_time": "2022-05-09T15:21:09.969Z"
   },
   {
    "duration": 12,
    "start_time": "2022-05-09T15:23:35.818Z"
   },
   {
    "duration": 10,
    "start_time": "2022-05-09T15:47:21.432Z"
   },
   {
    "duration": 9,
    "start_time": "2022-05-09T15:51:54.001Z"
   },
   {
    "duration": 12,
    "start_time": "2022-05-09T15:52:11.977Z"
   },
   {
    "duration": 8,
    "start_time": "2022-05-09T15:52:28.010Z"
   },
   {
    "duration": 179,
    "start_time": "2022-05-09T15:54:08.206Z"
   },
   {
    "duration": 28,
    "start_time": "2022-05-09T15:54:42.655Z"
   },
   {
    "duration": 6,
    "start_time": "2022-05-09T15:54:51.642Z"
   },
   {
    "duration": 15,
    "start_time": "2022-05-09T15:54:54.584Z"
   },
   {
    "duration": 11,
    "start_time": "2022-05-09T15:54:58.315Z"
   },
   {
    "duration": 4,
    "start_time": "2022-05-09T15:55:47.794Z"
   },
   {
    "duration": 15,
    "start_time": "2022-05-09T15:55:49.990Z"
   },
   {
    "duration": 124,
    "start_time": "2022-05-09T15:56:01.510Z"
   },
   {
    "duration": 9,
    "start_time": "2022-05-09T15:56:12.109Z"
   },
   {
    "duration": 13,
    "start_time": "2022-05-09T15:56:16.995Z"
   },
   {
    "duration": 5,
    "start_time": "2022-05-09T15:56:45.795Z"
   },
   {
    "duration": 11,
    "start_time": "2022-05-09T15:56:49.735Z"
   },
   {
    "duration": 7,
    "start_time": "2022-05-09T15:57:06.978Z"
   },
   {
    "duration": 11,
    "start_time": "2022-05-09T15:57:09.826Z"
   },
   {
    "duration": 18,
    "start_time": "2022-05-09T15:59:12.045Z"
   },
   {
    "duration": 15,
    "start_time": "2022-05-09T15:59:26.146Z"
   },
   {
    "duration": 11,
    "start_time": "2022-05-09T16:00:54.398Z"
   },
   {
    "duration": 14,
    "start_time": "2022-05-09T16:01:30.796Z"
   },
   {
    "duration": 403,
    "start_time": "2022-05-11T14:10:17.472Z"
   },
   {
    "duration": 118,
    "start_time": "2022-05-11T14:10:17.877Z"
   },
   {
    "duration": 219,
    "start_time": "2022-05-11T14:10:17.997Z"
   },
   {
    "duration": 20,
    "start_time": "2022-05-11T14:10:18.219Z"
   },
   {
    "duration": 14,
    "start_time": "2022-05-11T14:10:18.241Z"
   },
   {
    "duration": 9,
    "start_time": "2022-05-11T14:10:18.257Z"
   },
   {
    "duration": 8,
    "start_time": "2022-05-11T14:10:18.268Z"
   },
   {
    "duration": 3,
    "start_time": "2022-05-11T14:10:18.278Z"
   },
   {
    "duration": 51,
    "start_time": "2022-05-11T14:10:18.283Z"
   },
   {
    "duration": 9,
    "start_time": "2022-05-11T14:11:26.563Z"
   },
   {
    "duration": 17,
    "start_time": "2022-05-11T14:24:39.162Z"
   },
   {
    "duration": 17,
    "start_time": "2022-05-11T14:25:17.774Z"
   },
   {
    "duration": 7,
    "start_time": "2022-05-11T14:27:12.460Z"
   },
   {
    "duration": 8,
    "start_time": "2022-05-11T14:28:39.547Z"
   },
   {
    "duration": 74,
    "start_time": "2022-05-11T14:29:22.188Z"
   },
   {
    "duration": 8,
    "start_time": "2022-05-11T14:29:25.549Z"
   },
   {
    "duration": 12,
    "start_time": "2022-05-11T14:31:50.377Z"
   },
   {
    "duration": 11,
    "start_time": "2022-05-11T14:32:07.828Z"
   },
   {
    "duration": 9,
    "start_time": "2022-05-11T14:33:22.645Z"
   },
   {
    "duration": 6,
    "start_time": "2022-05-11T14:43:28.373Z"
   },
   {
    "duration": 7,
    "start_time": "2022-05-11T14:43:48.487Z"
   },
   {
    "duration": 7,
    "start_time": "2022-05-11T15:25:55.137Z"
   },
   {
    "duration": 187,
    "start_time": "2022-05-11T15:26:04.734Z"
   },
   {
    "duration": 8,
    "start_time": "2022-05-11T15:33:13.995Z"
   },
   {
    "duration": 766,
    "start_time": "2022-05-11T16:28:05.147Z"
   },
   {
    "duration": 164,
    "start_time": "2022-05-11T16:28:14.766Z"
   },
   {
    "duration": 10,
    "start_time": "2022-05-11T16:35:34.290Z"
   },
   {
    "duration": 6,
    "start_time": "2022-05-11T16:36:02.799Z"
   },
   {
    "duration": 15,
    "start_time": "2022-05-11T16:36:10.733Z"
   },
   {
    "duration": 10,
    "start_time": "2022-05-11T16:36:56.442Z"
   },
   {
    "duration": 10,
    "start_time": "2022-05-11T16:39:23.626Z"
   },
   {
    "duration": 14,
    "start_time": "2022-05-11T16:39:52.169Z"
   },
   {
    "duration": 6,
    "start_time": "2022-05-11T16:42:05.347Z"
   },
   {
    "duration": 8,
    "start_time": "2022-05-11T16:42:16.864Z"
   },
   {
    "duration": 13,
    "start_time": "2022-05-11T16:42:40.319Z"
   },
   {
    "duration": 8,
    "start_time": "2022-05-11T16:42:45.609Z"
   },
   {
    "duration": 465,
    "start_time": "2022-05-11T16:43:10.589Z"
   },
   {
    "duration": 124,
    "start_time": "2022-05-11T16:43:11.056Z"
   },
   {
    "duration": 236,
    "start_time": "2022-05-11T16:43:11.182Z"
   },
   {
    "duration": 34,
    "start_time": "2022-05-11T16:43:11.420Z"
   },
   {
    "duration": 45,
    "start_time": "2022-05-11T16:43:11.456Z"
   },
   {
    "duration": 16,
    "start_time": "2022-05-11T16:43:11.503Z"
   },
   {
    "duration": 13,
    "start_time": "2022-05-11T16:43:11.521Z"
   },
   {
    "duration": 21,
    "start_time": "2022-05-11T16:43:11.541Z"
   },
   {
    "duration": 4,
    "start_time": "2022-05-11T16:43:11.563Z"
   },
   {
    "duration": 21,
    "start_time": "2022-05-11T16:43:11.569Z"
   },
   {
    "duration": 474,
    "start_time": "2022-05-11T16:43:41.230Z"
   },
   {
    "duration": 111,
    "start_time": "2022-05-11T16:43:41.706Z"
   },
   {
    "duration": 245,
    "start_time": "2022-05-11T16:43:41.819Z"
   },
   {
    "duration": 18,
    "start_time": "2022-05-11T16:43:42.067Z"
   },
   {
    "duration": 8,
    "start_time": "2022-05-11T16:43:42.087Z"
   },
   {
    "duration": 53,
    "start_time": "2022-05-11T16:43:42.097Z"
   },
   {
    "duration": 8,
    "start_time": "2022-05-11T16:43:42.152Z"
   },
   {
    "duration": 10,
    "start_time": "2022-05-11T16:43:42.162Z"
   },
   {
    "duration": 2,
    "start_time": "2022-05-11T16:43:42.174Z"
   },
   {
    "duration": 15,
    "start_time": "2022-05-11T16:43:42.179Z"
   },
   {
    "duration": 7,
    "start_time": "2022-05-11T16:44:58.257Z"
   },
   {
    "duration": 410,
    "start_time": "2022-05-11T16:45:05.378Z"
   },
   {
    "duration": 112,
    "start_time": "2022-05-11T16:45:05.790Z"
   },
   {
    "duration": 232,
    "start_time": "2022-05-11T16:45:05.904Z"
   },
   {
    "duration": 29,
    "start_time": "2022-05-11T16:45:06.139Z"
   },
   {
    "duration": 11,
    "start_time": "2022-05-11T16:45:06.170Z"
   },
   {
    "duration": 9,
    "start_time": "2022-05-11T16:45:06.183Z"
   },
   {
    "duration": 41,
    "start_time": "2022-05-11T16:45:06.194Z"
   },
   {
    "duration": 13,
    "start_time": "2022-05-11T16:45:06.241Z"
   },
   {
    "duration": 3,
    "start_time": "2022-05-11T16:45:06.256Z"
   },
   {
    "duration": 15,
    "start_time": "2022-05-11T16:45:06.262Z"
   },
   {
    "duration": 430,
    "start_time": "2022-05-11T16:46:57.772Z"
   },
   {
    "duration": 110,
    "start_time": "2022-05-11T16:46:58.204Z"
   },
   {
    "duration": 231,
    "start_time": "2022-05-11T16:46:58.318Z"
   },
   {
    "duration": 18,
    "start_time": "2022-05-11T16:46:58.551Z"
   },
   {
    "duration": 8,
    "start_time": "2022-05-11T16:46:58.572Z"
   },
   {
    "duration": 11,
    "start_time": "2022-05-11T16:46:58.582Z"
   },
   {
    "duration": 45,
    "start_time": "2022-05-11T16:46:58.595Z"
   },
   {
    "duration": 12,
    "start_time": "2022-05-11T16:46:58.642Z"
   },
   {
    "duration": 4,
    "start_time": "2022-05-11T16:46:58.657Z"
   },
   {
    "duration": 16,
    "start_time": "2022-05-11T16:46:58.663Z"
   },
   {
    "duration": 420,
    "start_time": "2022-05-11T16:51:59.357Z"
   },
   {
    "duration": 103,
    "start_time": "2022-05-11T16:51:59.780Z"
   },
   {
    "duration": 231,
    "start_time": "2022-05-11T16:51:59.885Z"
   },
   {
    "duration": 36,
    "start_time": "2022-05-11T16:52:00.119Z"
   },
   {
    "duration": 10,
    "start_time": "2022-05-11T16:52:00.157Z"
   },
   {
    "duration": 11,
    "start_time": "2022-05-11T16:52:00.169Z"
   },
   {
    "duration": 11,
    "start_time": "2022-05-11T16:52:00.183Z"
   },
   {
    "duration": 51,
    "start_time": "2022-05-11T16:52:00.196Z"
   },
   {
    "duration": 4,
    "start_time": "2022-05-11T16:52:00.250Z"
   },
   {
    "duration": 27,
    "start_time": "2022-05-11T16:52:00.257Z"
   },
   {
    "duration": 384,
    "start_time": "2022-05-12T15:47:55.807Z"
   },
   {
    "duration": 99,
    "start_time": "2022-05-12T15:47:56.193Z"
   },
   {
    "duration": 199,
    "start_time": "2022-05-12T15:47:56.296Z"
   },
   {
    "duration": 18,
    "start_time": "2022-05-12T15:47:56.496Z"
   },
   {
    "duration": 8,
    "start_time": "2022-05-12T15:47:56.516Z"
   },
   {
    "duration": 12,
    "start_time": "2022-05-12T15:47:56.526Z"
   },
   {
    "duration": 8,
    "start_time": "2022-05-12T15:47:56.568Z"
   },
   {
    "duration": 10,
    "start_time": "2022-05-12T15:47:56.578Z"
   },
   {
    "duration": 5,
    "start_time": "2022-05-12T15:47:56.590Z"
   },
   {
    "duration": 15,
    "start_time": "2022-05-12T15:47:56.597Z"
   },
   {
    "duration": 126,
    "start_time": "2022-05-12T16:03:03.480Z"
   },
   {
    "duration": 4,
    "start_time": "2022-05-12T16:03:32.970Z"
   },
   {
    "duration": 15,
    "start_time": "2022-05-12T16:03:41.101Z"
   },
   {
    "duration": 21,
    "start_time": "2022-05-12T16:04:25.700Z"
   },
   {
    "duration": 20,
    "start_time": "2022-05-12T16:05:23.044Z"
   },
   {
    "duration": 17,
    "start_time": "2022-05-12T16:09:50.425Z"
   },
   {
    "duration": 7,
    "start_time": "2022-05-12T16:10:44.853Z"
   },
   {
    "duration": 5,
    "start_time": "2022-05-12T16:11:34.669Z"
   },
   {
    "duration": 16,
    "start_time": "2022-05-12T16:13:19.014Z"
   },
   {
    "duration": 8,
    "start_time": "2022-05-12T16:25:30.910Z"
   },
   {
    "duration": 425,
    "start_time": "2022-05-13T17:17:32.432Z"
   },
   {
    "duration": 109,
    "start_time": "2022-05-13T17:17:32.859Z"
   },
   {
    "duration": 197,
    "start_time": "2022-05-13T17:17:32.970Z"
   },
   {
    "duration": 16,
    "start_time": "2022-05-13T17:17:33.170Z"
   },
   {
    "duration": 9,
    "start_time": "2022-05-13T17:17:33.187Z"
   },
   {
    "duration": 39,
    "start_time": "2022-05-13T17:17:33.197Z"
   },
   {
    "duration": 8,
    "start_time": "2022-05-13T17:17:33.238Z"
   },
   {
    "duration": 10,
    "start_time": "2022-05-13T17:17:33.248Z"
   },
   {
    "duration": 17,
    "start_time": "2022-05-13T17:17:33.260Z"
   },
   {
    "duration": 98,
    "start_time": "2022-05-13T17:17:33.280Z"
   },
   {
    "duration": 1317,
    "start_time": "2022-05-13T17:24:48.555Z"
   },
   {
    "duration": 10,
    "start_time": "2022-05-13T17:25:14.714Z"
   },
   {
    "duration": 14,
    "start_time": "2022-05-13T17:25:19.683Z"
   },
   {
    "duration": 13,
    "start_time": "2022-05-13T17:25:45.697Z"
   },
   {
    "duration": 27,
    "start_time": "2022-05-13T17:25:56.330Z"
   },
   {
    "duration": 5,
    "start_time": "2022-05-13T17:29:09.108Z"
   },
   {
    "duration": 4,
    "start_time": "2022-05-13T17:36:27.553Z"
   },
   {
    "duration": 27,
    "start_time": "2022-05-13T17:36:37.808Z"
   },
   {
    "duration": 432,
    "start_time": "2022-05-19T14:40:16.884Z"
   },
   {
    "duration": 312,
    "start_time": "2022-05-19T14:40:17.318Z"
   },
   {
    "duration": 178,
    "start_time": "2022-05-19T14:40:17.632Z"
   },
   {
    "duration": 13,
    "start_time": "2022-05-19T14:40:17.812Z"
   },
   {
    "duration": 2,
    "start_time": "2022-05-19T14:40:17.827Z"
   },
   {
    "duration": 9,
    "start_time": "2022-05-19T14:40:17.830Z"
   },
   {
    "duration": 7,
    "start_time": "2022-05-19T14:40:17.840Z"
   },
   {
    "duration": 6,
    "start_time": "2022-05-19T14:40:17.849Z"
   },
   {
    "duration": 12,
    "start_time": "2022-05-19T14:40:17.857Z"
   },
   {
    "duration": 13,
    "start_time": "2022-05-19T14:40:17.902Z"
   },
   {
    "duration": 10431,
    "start_time": "2022-05-19T14:40:17.916Z"
   },
   {
    "duration": 30,
    "start_time": "2022-05-19T14:40:28.348Z"
   },
   {
    "duration": 7,
    "start_time": "2022-05-19T14:40:28.380Z"
   },
   {
    "duration": 474,
    "start_time": "2022-05-24T22:01:16.893Z"
   },
   {
    "duration": 161,
    "start_time": "2022-05-24T22:01:17.369Z"
   },
   {
    "duration": 190,
    "start_time": "2022-05-24T22:01:17.531Z"
   },
   {
    "duration": 17,
    "start_time": "2022-05-24T22:01:17.723Z"
   },
   {
    "duration": 2,
    "start_time": "2022-05-24T22:01:17.743Z"
   },
   {
    "duration": 9,
    "start_time": "2022-05-24T22:01:17.746Z"
   },
   {
    "duration": 10,
    "start_time": "2022-05-24T22:01:17.756Z"
   },
   {
    "duration": 35,
    "start_time": "2022-05-24T22:01:17.767Z"
   },
   {
    "duration": 18,
    "start_time": "2022-05-24T22:01:17.805Z"
   },
   {
    "duration": 33,
    "start_time": "2022-05-24T22:01:17.825Z"
   },
   {
    "duration": 9819,
    "start_time": "2022-05-24T22:01:17.859Z"
   },
   {
    "duration": 37,
    "start_time": "2022-05-24T22:01:27.680Z"
   },
   {
    "duration": 7,
    "start_time": "2022-05-24T22:01:27.719Z"
   },
   {
    "duration": 430,
    "start_time": "2022-05-24T22:15:51.481Z"
   },
   {
    "duration": 100,
    "start_time": "2022-05-24T22:15:51.913Z"
   },
   {
    "duration": 182,
    "start_time": "2022-05-24T22:15:52.014Z"
   },
   {
    "duration": 13,
    "start_time": "2022-05-24T22:15:52.198Z"
   },
   {
    "duration": 3,
    "start_time": "2022-05-24T22:15:52.213Z"
   },
   {
    "duration": 11,
    "start_time": "2022-05-24T22:15:52.218Z"
   },
   {
    "duration": 14,
    "start_time": "2022-05-24T22:15:52.230Z"
   },
   {
    "duration": 6,
    "start_time": "2022-05-24T22:15:52.246Z"
   },
   {
    "duration": 19,
    "start_time": "2022-05-24T22:15:52.253Z"
   },
   {
    "duration": 31,
    "start_time": "2022-05-24T22:15:52.274Z"
   },
   {
    "duration": 9546,
    "start_time": "2022-05-24T22:15:52.307Z"
   },
   {
    "duration": 26,
    "start_time": "2022-05-24T22:16:01.855Z"
   },
   {
    "duration": 14,
    "start_time": "2022-05-24T22:16:01.882Z"
   },
   {
    "duration": 8,
    "start_time": "2022-05-24T22:18:34.522Z"
   },
   {
    "duration": 10,
    "start_time": "2022-05-24T22:19:02.969Z"
   },
   {
    "duration": 6,
    "start_time": "2022-05-24T22:19:26.406Z"
   },
   {
    "duration": 68,
    "start_time": "2022-05-24T22:20:43.931Z"
   },
   {
    "duration": 5,
    "start_time": "2022-05-24T22:20:56.390Z"
   },
   {
    "duration": 6,
    "start_time": "2022-05-24T22:21:24.923Z"
   },
   {
    "duration": 836,
    "start_time": "2022-05-24T22:22:50.862Z"
   },
   {
    "duration": 130,
    "start_time": "2022-05-24T22:23:12.175Z"
   },
   {
    "duration": 144,
    "start_time": "2022-05-24T22:23:29.800Z"
   },
   {
    "duration": 138,
    "start_time": "2022-05-24T22:23:49.681Z"
   },
   {
    "duration": 8,
    "start_time": "2022-05-24T22:30:48.155Z"
   },
   {
    "duration": 126,
    "start_time": "2022-05-24T22:31:09.400Z"
   },
   {
    "duration": 5,
    "start_time": "2022-05-24T22:32:28.572Z"
   },
   {
    "duration": 4,
    "start_time": "2022-05-24T22:32:40.168Z"
   },
   {
    "duration": 11,
    "start_time": "2022-05-24T22:41:35.920Z"
   },
   {
    "duration": 7,
    "start_time": "2022-05-24T22:42:43.193Z"
   },
   {
    "duration": 8,
    "start_time": "2022-05-24T22:47:31.298Z"
   },
   {
    "duration": 8,
    "start_time": "2022-05-24T22:49:22.512Z"
   },
   {
    "duration": 7,
    "start_time": "2022-05-24T22:53:09.687Z"
   },
   {
    "duration": 16,
    "start_time": "2022-05-24T22:53:36.866Z"
   },
   {
    "duration": 487,
    "start_time": "2022-05-26T23:32:40.287Z"
   },
   {
    "duration": 159,
    "start_time": "2022-05-26T23:32:40.776Z"
   },
   {
    "duration": 201,
    "start_time": "2022-05-26T23:32:40.938Z"
   },
   {
    "duration": 21,
    "start_time": "2022-05-26T23:32:41.142Z"
   },
   {
    "duration": 3,
    "start_time": "2022-05-26T23:32:41.165Z"
   },
   {
    "duration": 35,
    "start_time": "2022-05-26T23:32:41.170Z"
   },
   {
    "duration": 11,
    "start_time": "2022-05-26T23:32:41.208Z"
   },
   {
    "duration": 11,
    "start_time": "2022-05-26T23:32:41.220Z"
   },
   {
    "duration": 14,
    "start_time": "2022-05-26T23:32:41.233Z"
   },
   {
    "duration": 12,
    "start_time": "2022-05-26T23:32:41.250Z"
   },
   {
    "duration": 9669,
    "start_time": "2022-05-26T23:32:41.263Z"
   },
   {
    "duration": 21,
    "start_time": "2022-05-26T23:32:50.934Z"
   },
   {
    "duration": 6,
    "start_time": "2022-05-26T23:32:50.957Z"
   },
   {
    "duration": 9,
    "start_time": "2022-05-26T23:32:50.964Z"
   },
   {
    "duration": 559,
    "start_time": "2022-05-26T23:32:50.974Z"
   },
   {
    "duration": 138,
    "start_time": "2022-05-26T23:32:51.534Z"
   },
   {
    "duration": 147,
    "start_time": "2022-05-26T23:32:51.674Z"
   },
   {
    "duration": 157,
    "start_time": "2022-05-26T23:32:51.822Z"
   },
   {
    "duration": 165,
    "start_time": "2022-05-26T23:32:51.981Z"
   },
   {
    "duration": 4,
    "start_time": "2022-05-26T23:32:52.148Z"
   },
   {
    "duration": 5,
    "start_time": "2022-05-26T23:32:52.154Z"
   },
   {
    "duration": 9,
    "start_time": "2022-05-26T23:32:52.160Z"
   },
   {
    "duration": 5,
    "start_time": "2022-05-26T23:32:52.171Z"
   },
   {
    "duration": 27,
    "start_time": "2022-05-26T23:32:52.177Z"
   },
   {
    "duration": 5,
    "start_time": "2022-05-26T23:32:52.205Z"
   },
   {
    "duration": 373,
    "start_time": "2022-05-26T23:34:59.853Z"
   },
   {
    "duration": 102,
    "start_time": "2022-05-26T23:35:00.228Z"
   },
   {
    "duration": 174,
    "start_time": "2022-05-26T23:35:00.332Z"
   },
   {
    "duration": 14,
    "start_time": "2022-05-26T23:35:00.509Z"
   },
   {
    "duration": 12,
    "start_time": "2022-05-26T23:35:00.524Z"
   },
   {
    "duration": 28,
    "start_time": "2022-05-26T23:35:00.538Z"
   },
   {
    "duration": 24,
    "start_time": "2022-05-26T23:35:00.567Z"
   },
   {
    "duration": 35,
    "start_time": "2022-05-26T23:35:00.592Z"
   },
   {
    "duration": 31,
    "start_time": "2022-05-26T23:35:00.628Z"
   },
   {
    "duration": 16,
    "start_time": "2022-05-26T23:35:00.661Z"
   },
   {
    "duration": 9414,
    "start_time": "2022-05-26T23:35:00.678Z"
   },
   {
    "duration": 25,
    "start_time": "2022-05-26T23:35:10.094Z"
   },
   {
    "duration": 6,
    "start_time": "2022-05-26T23:35:10.121Z"
   },
   {
    "duration": 15,
    "start_time": "2022-05-26T23:35:10.128Z"
   },
   {
    "duration": 358,
    "start_time": "2022-05-26T23:35:10.144Z"
   },
   {
    "duration": 138,
    "start_time": "2022-05-26T23:35:10.504Z"
   },
   {
    "duration": 140,
    "start_time": "2022-05-26T23:35:10.643Z"
   },
   {
    "duration": 166,
    "start_time": "2022-05-26T23:35:10.784Z"
   },
   {
    "duration": 172,
    "start_time": "2022-05-26T23:35:10.951Z"
   },
   {
    "duration": 6,
    "start_time": "2022-05-26T23:35:11.125Z"
   },
   {
    "duration": 10,
    "start_time": "2022-05-26T23:35:11.133Z"
   },
   {
    "duration": 20,
    "start_time": "2022-05-26T23:35:11.145Z"
   },
   {
    "duration": 28,
    "start_time": "2022-05-26T23:35:11.167Z"
   },
   {
    "duration": 16,
    "start_time": "2022-05-26T23:35:11.197Z"
   },
   {
    "duration": 14,
    "start_time": "2022-05-26T23:35:11.215Z"
   },
   {
    "duration": 5,
    "start_time": "2022-05-27T00:00:33.721Z"
   },
   {
    "duration": 485,
    "start_time": "2022-06-06T14:43:54.488Z"
   },
   {
    "duration": 189,
    "start_time": "2022-06-06T14:43:54.976Z"
   },
   {
    "duration": 212,
    "start_time": "2022-06-06T14:43:55.170Z"
   },
   {
    "duration": 41,
    "start_time": "2022-06-06T14:43:55.384Z"
   },
   {
    "duration": 5,
    "start_time": "2022-06-06T14:43:55.427Z"
   },
   {
    "duration": 10,
    "start_time": "2022-06-06T14:43:55.433Z"
   },
   {
    "duration": 9,
    "start_time": "2022-06-06T14:43:55.444Z"
   },
   {
    "duration": 9,
    "start_time": "2022-06-06T14:43:55.454Z"
   },
   {
    "duration": 14,
    "start_time": "2022-06-06T14:43:55.464Z"
   },
   {
    "duration": 48,
    "start_time": "2022-06-06T14:43:55.479Z"
   },
   {
    "duration": 11185,
    "start_time": "2022-06-06T14:43:55.529Z"
   },
   {
    "duration": 30,
    "start_time": "2022-06-06T14:44:06.724Z"
   },
   {
    "duration": 7,
    "start_time": "2022-06-06T14:44:06.757Z"
   },
   {
    "duration": 10,
    "start_time": "2022-06-06T14:44:06.766Z"
   },
   {
    "duration": 717,
    "start_time": "2022-06-06T14:44:06.777Z"
   },
   {
    "duration": 201,
    "start_time": "2022-06-06T14:44:07.497Z"
   },
   {
    "duration": 175,
    "start_time": "2022-06-06T14:44:07.700Z"
   },
   {
    "duration": 200,
    "start_time": "2022-06-06T14:44:07.876Z"
   },
   {
    "duration": 198,
    "start_time": "2022-06-06T14:44:08.078Z"
   },
   {
    "duration": 5,
    "start_time": "2022-06-06T14:44:08.278Z"
   },
   {
    "duration": 17,
    "start_time": "2022-06-06T14:44:08.284Z"
   },
   {
    "duration": 35,
    "start_time": "2022-06-06T14:44:08.302Z"
   },
   {
    "duration": 7,
    "start_time": "2022-06-06T14:44:08.339Z"
   },
   {
    "duration": 10,
    "start_time": "2022-06-06T14:44:08.348Z"
   },
   {
    "duration": 11,
    "start_time": "2022-06-06T14:44:08.360Z"
   },
   {
    "duration": 13,
    "start_time": "2022-06-06T14:44:08.373Z"
   },
   {
    "duration": 59,
    "start_time": "2022-06-06T21:50:16.748Z"
   },
   {
    "duration": 475,
    "start_time": "2022-06-06T21:50:22.114Z"
   },
   {
    "duration": 164,
    "start_time": "2022-06-06T21:50:22.592Z"
   },
   {
    "duration": 235,
    "start_time": "2022-06-06T21:50:22.758Z"
   },
   {
    "duration": 18,
    "start_time": "2022-06-06T21:50:22.996Z"
   },
   {
    "duration": 15,
    "start_time": "2022-06-06T21:50:23.016Z"
   },
   {
    "duration": 17,
    "start_time": "2022-06-06T21:50:23.034Z"
   },
   {
    "duration": 24,
    "start_time": "2022-06-06T21:50:23.054Z"
   },
   {
    "duration": 9,
    "start_time": "2022-06-06T21:50:23.081Z"
   },
   {
    "duration": 27,
    "start_time": "2022-06-06T21:50:23.092Z"
   },
   {
    "duration": 26,
    "start_time": "2022-06-06T21:50:23.121Z"
   },
   {
    "duration": 11275,
    "start_time": "2022-06-06T21:50:23.150Z"
   },
   {
    "duration": 42,
    "start_time": "2022-06-06T21:50:34.430Z"
   },
   {
    "duration": 9,
    "start_time": "2022-06-06T21:50:34.475Z"
   },
   {
    "duration": 17,
    "start_time": "2022-06-06T21:50:34.486Z"
   },
   {
    "duration": 708,
    "start_time": "2022-06-06T21:50:34.505Z"
   },
   {
    "duration": 160,
    "start_time": "2022-06-06T21:50:35.215Z"
   },
   {
    "duration": 174,
    "start_time": "2022-06-06T21:50:35.377Z"
   },
   {
    "duration": 190,
    "start_time": "2022-06-06T21:50:35.552Z"
   },
   {
    "duration": 172,
    "start_time": "2022-06-06T21:50:35.744Z"
   },
   {
    "duration": 13,
    "start_time": "2022-06-06T21:50:35.917Z"
   },
   {
    "duration": 7,
    "start_time": "2022-06-06T21:50:35.932Z"
   },
   {
    "duration": 22,
    "start_time": "2022-06-06T21:50:35.941Z"
   },
   {
    "duration": 8,
    "start_time": "2022-06-06T21:50:35.964Z"
   },
   {
    "duration": 13,
    "start_time": "2022-06-06T21:50:35.973Z"
   },
   {
    "duration": 6,
    "start_time": "2022-06-06T21:50:35.988Z"
   },
   {
    "duration": 60,
    "start_time": "2022-06-06T21:50:35.996Z"
   },
   {
    "duration": 156,
    "start_time": "2022-06-06T21:52:46.066Z"
   },
   {
    "duration": 200,
    "start_time": "2022-06-06T21:52:58.863Z"
   },
   {
    "duration": 192,
    "start_time": "2022-06-06T21:53:09.012Z"
   },
   {
    "duration": 5,
    "start_time": "2022-06-06T21:53:32.175Z"
   },
   {
    "duration": 22,
    "start_time": "2022-06-06T21:54:10.350Z"
   },
   {
    "duration": 85,
    "start_time": "2022-06-06T21:54:20.902Z"
   },
   {
    "duration": 21,
    "start_time": "2022-06-06T21:54:27.661Z"
   },
   {
    "duration": 17,
    "start_time": "2022-06-06T21:54:36.929Z"
   },
   {
    "duration": 11,
    "start_time": "2022-06-06T21:55:43.544Z"
   },
   {
    "duration": 12,
    "start_time": "2022-06-06T21:56:06.120Z"
   },
   {
    "duration": 13,
    "start_time": "2022-06-06T21:56:20.581Z"
   },
   {
    "duration": 15,
    "start_time": "2022-06-06T21:56:30.184Z"
   },
   {
    "duration": 14,
    "start_time": "2022-06-06T21:58:02.104Z"
   },
   {
    "duration": 210,
    "start_time": "2022-06-06T21:58:30.801Z"
   },
   {
    "duration": 20,
    "start_time": "2022-06-06T21:59:13.632Z"
   },
   {
    "duration": 150,
    "start_time": "2022-06-06T22:00:06.888Z"
   },
   {
    "duration": 19,
    "start_time": "2022-06-06T22:00:13.300Z"
   },
   {
    "duration": 150,
    "start_time": "2022-06-06T22:00:59.602Z"
   },
   {
    "duration": 36,
    "start_time": "2022-06-06T22:01:43.277Z"
   },
   {
    "duration": 142,
    "start_time": "2022-06-06T22:06:18.658Z"
   },
   {
    "duration": 144,
    "start_time": "2022-06-06T22:07:35.898Z"
   },
   {
    "duration": 145,
    "start_time": "2022-06-06T22:09:05.419Z"
   },
   {
    "duration": 214,
    "start_time": "2022-06-06T22:10:23.362Z"
   },
   {
    "duration": 425,
    "start_time": "2022-06-06T22:11:55.149Z"
   },
   {
    "duration": 114,
    "start_time": "2022-06-06T22:11:55.576Z"
   },
   {
    "duration": 203,
    "start_time": "2022-06-06T22:11:55.691Z"
   },
   {
    "duration": 16,
    "start_time": "2022-06-06T22:11:55.896Z"
   },
   {
    "duration": 2,
    "start_time": "2022-06-06T22:11:55.913Z"
   },
   {
    "duration": 9,
    "start_time": "2022-06-06T22:11:55.928Z"
   },
   {
    "duration": 9,
    "start_time": "2022-06-06T22:11:55.938Z"
   },
   {
    "duration": 9,
    "start_time": "2022-06-06T22:11:55.948Z"
   },
   {
    "duration": 14,
    "start_time": "2022-06-06T22:11:55.959Z"
   },
   {
    "duration": 14,
    "start_time": "2022-06-06T22:11:55.976Z"
   },
   {
    "duration": 10376,
    "start_time": "2022-06-06T22:11:56.028Z"
   },
   {
    "duration": 29,
    "start_time": "2022-06-06T22:12:06.406Z"
   },
   {
    "duration": 8,
    "start_time": "2022-06-06T22:12:06.436Z"
   },
   {
    "duration": 15,
    "start_time": "2022-06-06T22:12:06.446Z"
   },
   {
    "duration": 418,
    "start_time": "2022-06-06T22:12:06.463Z"
   },
   {
    "duration": 157,
    "start_time": "2022-06-06T22:12:06.882Z"
   },
   {
    "duration": 168,
    "start_time": "2022-06-06T22:12:07.041Z"
   },
   {
    "duration": 173,
    "start_time": "2022-06-06T22:12:07.211Z"
   },
   {
    "duration": 179,
    "start_time": "2022-06-06T22:12:07.387Z"
   },
   {
    "duration": 5,
    "start_time": "2022-06-06T22:12:07.568Z"
   },
   {
    "duration": 10,
    "start_time": "2022-06-06T22:12:07.574Z"
   },
   {
    "duration": 34,
    "start_time": "2022-06-06T22:12:07.586Z"
   },
   {
    "duration": 6,
    "start_time": "2022-06-06T22:12:07.623Z"
   },
   {
    "duration": 15,
    "start_time": "2022-06-06T22:12:07.631Z"
   },
   {
    "duration": 8,
    "start_time": "2022-06-06T22:12:07.647Z"
   },
   {
    "duration": 222,
    "start_time": "2022-06-06T22:12:07.656Z"
   },
   {
    "duration": 1550,
    "start_time": "2022-06-06T22:17:33.022Z"
   },
   {
    "duration": 93,
    "start_time": "2022-06-06T22:20:13.135Z"
   },
   {
    "duration": 8,
    "start_time": "2022-06-06T22:29:09.460Z"
   },
   {
    "duration": 1116,
    "start_time": "2022-06-06T22:29:14.787Z"
   },
   {
    "duration": 106,
    "start_time": "2022-06-06T22:29:15.904Z"
   },
   {
    "duration": 192,
    "start_time": "2022-06-06T22:29:16.012Z"
   },
   {
    "duration": 27,
    "start_time": "2022-06-06T22:29:16.206Z"
   },
   {
    "duration": 3,
    "start_time": "2022-06-06T22:29:16.234Z"
   },
   {
    "duration": 11,
    "start_time": "2022-06-06T22:29:16.238Z"
   },
   {
    "duration": 10,
    "start_time": "2022-06-06T22:29:16.251Z"
   },
   {
    "duration": 10,
    "start_time": "2022-06-06T22:29:16.263Z"
   },
   {
    "duration": 15,
    "start_time": "2022-06-06T22:29:16.274Z"
   },
   {
    "duration": 16,
    "start_time": "2022-06-06T22:29:16.328Z"
   },
   {
    "duration": 10892,
    "start_time": "2022-06-06T22:29:16.346Z"
   },
   {
    "duration": 25,
    "start_time": "2022-06-06T22:29:27.239Z"
   },
   {
    "duration": 7,
    "start_time": "2022-06-06T22:29:27.266Z"
   },
   {
    "duration": 12,
    "start_time": "2022-06-06T22:29:27.274Z"
   },
   {
    "duration": 151,
    "start_time": "2022-06-06T22:29:27.288Z"
   },
   {
    "duration": 240,
    "start_time": "2022-06-06T22:29:27.441Z"
   },
   {
    "duration": 165,
    "start_time": "2022-06-06T22:29:27.684Z"
   },
   {
    "duration": 171,
    "start_time": "2022-06-06T22:29:27.851Z"
   },
   {
    "duration": 174,
    "start_time": "2022-06-06T22:29:28.024Z"
   },
   {
    "duration": 5,
    "start_time": "2022-06-06T22:29:28.199Z"
   },
   {
    "duration": 7,
    "start_time": "2022-06-06T22:29:28.205Z"
   },
   {
    "duration": 31,
    "start_time": "2022-06-06T22:29:28.213Z"
   },
   {
    "duration": 6,
    "start_time": "2022-06-06T22:29:28.246Z"
   },
   {
    "duration": 13,
    "start_time": "2022-06-06T22:29:28.253Z"
   },
   {
    "duration": 8,
    "start_time": "2022-06-06T22:29:28.268Z"
   },
   {
    "duration": 357,
    "start_time": "2022-06-06T22:29:28.278Z"
   },
   {
    "duration": 1435,
    "start_time": "2022-06-06T22:30:00.373Z"
   },
   {
    "duration": 3,
    "start_time": "2022-06-06T22:32:43.072Z"
   },
   {
    "duration": 1503,
    "start_time": "2022-06-06T22:38:59.449Z"
   },
   {
    "duration": 144,
    "start_time": "2022-06-06T22:40:36.925Z"
   },
   {
    "duration": 562,
    "start_time": "2022-06-06T22:41:09.883Z"
   },
   {
    "duration": 140,
    "start_time": "2022-06-06T22:41:23.070Z"
   },
   {
    "duration": 142,
    "start_time": "2022-06-06T22:42:10.926Z"
   },
   {
    "duration": 159,
    "start_time": "2022-06-06T22:42:56.232Z"
   },
   {
    "duration": 141,
    "start_time": "2022-06-06T22:43:25.243Z"
   },
   {
    "duration": 143,
    "start_time": "2022-06-06T22:43:40.771Z"
   },
   {
    "duration": 18,
    "start_time": "2022-06-06T22:48:51.744Z"
   },
   {
    "duration": 12,
    "start_time": "2022-06-06T22:49:19.847Z"
   },
   {
    "duration": 14,
    "start_time": "2022-06-06T22:49:35.281Z"
   },
   {
    "duration": 19,
    "start_time": "2022-06-06T22:49:51.656Z"
   },
   {
    "duration": 6,
    "start_time": "2022-06-06T22:50:13.673Z"
   },
   {
    "duration": 7,
    "start_time": "2022-06-06T22:51:45.585Z"
   },
   {
    "duration": 12,
    "start_time": "2022-06-06T22:51:52.086Z"
   },
   {
    "duration": 12,
    "start_time": "2022-06-06T22:52:02.280Z"
   },
   {
    "duration": 5,
    "start_time": "2022-06-06T22:52:10.485Z"
   },
   {
    "duration": 11,
    "start_time": "2022-06-06T22:52:24.931Z"
   },
   {
    "duration": 420,
    "start_time": "2022-06-06T22:52:34.459Z"
   },
   {
    "duration": 8,
    "start_time": "2022-06-06T22:53:52.224Z"
   },
   {
    "duration": 8,
    "start_time": "2022-06-06T22:54:02.531Z"
   },
   {
    "duration": 8,
    "start_time": "2022-06-06T22:54:39.513Z"
   },
   {
    "duration": 13,
    "start_time": "2022-06-06T22:58:51.728Z"
   },
   {
    "duration": 13,
    "start_time": "2022-06-06T22:59:30.096Z"
   },
   {
    "duration": 14,
    "start_time": "2022-06-06T22:59:38.262Z"
   },
   {
    "duration": 8,
    "start_time": "2022-06-06T23:00:54.841Z"
   },
   {
    "duration": 7,
    "start_time": "2022-06-06T23:10:46.620Z"
   },
   {
    "duration": 36,
    "start_time": "2022-06-06T23:12:19.271Z"
   },
   {
    "duration": 8,
    "start_time": "2022-06-06T23:13:34.869Z"
   },
   {
    "duration": 241,
    "start_time": "2022-06-06T23:15:29.652Z"
   },
   {
    "duration": 33,
    "start_time": "2022-06-06T23:16:37.032Z"
   },
   {
    "duration": 32,
    "start_time": "2022-06-06T23:16:51.320Z"
   },
   {
    "duration": 441,
    "start_time": "2022-06-06T23:17:18.820Z"
   },
   {
    "duration": 108,
    "start_time": "2022-06-06T23:17:19.263Z"
   },
   {
    "duration": 192,
    "start_time": "2022-06-06T23:17:19.372Z"
   },
   {
    "duration": 15,
    "start_time": "2022-06-06T23:17:19.566Z"
   },
   {
    "duration": 2,
    "start_time": "2022-06-06T23:17:19.583Z"
   },
   {
    "duration": 12,
    "start_time": "2022-06-06T23:17:19.586Z"
   },
   {
    "duration": 33,
    "start_time": "2022-06-06T23:17:19.599Z"
   },
   {
    "duration": 23,
    "start_time": "2022-06-06T23:17:19.633Z"
   },
   {
    "duration": 14,
    "start_time": "2022-06-06T23:17:19.658Z"
   },
   {
    "duration": 13,
    "start_time": "2022-06-06T23:17:19.675Z"
   },
   {
    "duration": 10168,
    "start_time": "2022-06-06T23:17:19.689Z"
   },
   {
    "duration": 24,
    "start_time": "2022-06-06T23:17:29.859Z"
   },
   {
    "duration": 9,
    "start_time": "2022-06-06T23:17:29.885Z"
   },
   {
    "duration": 22,
    "start_time": "2022-06-06T23:17:29.895Z"
   },
   {
    "duration": 414,
    "start_time": "2022-06-06T23:17:29.929Z"
   },
   {
    "duration": 158,
    "start_time": "2022-06-06T23:17:30.344Z"
   },
   {
    "duration": 167,
    "start_time": "2022-06-06T23:17:30.504Z"
   },
   {
    "duration": 167,
    "start_time": "2022-06-06T23:17:30.672Z"
   },
   {
    "duration": 168,
    "start_time": "2022-06-06T23:17:30.841Z"
   },
   {
    "duration": 7,
    "start_time": "2022-06-06T23:17:31.010Z"
   },
   {
    "duration": 20,
    "start_time": "2022-06-06T23:17:31.030Z"
   },
   {
    "duration": 34,
    "start_time": "2022-06-06T23:17:31.052Z"
   },
   {
    "duration": 12,
    "start_time": "2022-06-06T23:17:31.088Z"
   },
   {
    "duration": 17,
    "start_time": "2022-06-06T23:17:31.101Z"
   },
   {
    "duration": 7,
    "start_time": "2022-06-06T23:17:31.120Z"
   },
   {
    "duration": 158,
    "start_time": "2022-06-06T23:17:31.129Z"
   },
   {
    "duration": 119,
    "start_time": "2022-06-06T23:17:31.288Z"
   },
   {
    "duration": 0,
    "start_time": "2022-06-06T23:17:31.409Z"
   },
   {
    "duration": 4,
    "start_time": "2022-06-06T23:18:47.400Z"
   },
   {
    "duration": 31,
    "start_time": "2022-06-06T23:18:57.771Z"
   },
   {
    "duration": 416,
    "start_time": "2022-06-08T02:08:25.991Z"
   },
   {
    "duration": 158,
    "start_time": "2022-06-08T02:08:26.409Z"
   },
   {
    "duration": 181,
    "start_time": "2022-06-08T02:08:26.568Z"
   },
   {
    "duration": 13,
    "start_time": "2022-06-08T02:08:26.751Z"
   },
   {
    "duration": 2,
    "start_time": "2022-06-08T02:08:26.765Z"
   },
   {
    "duration": 23,
    "start_time": "2022-06-08T02:08:26.769Z"
   },
   {
    "duration": 7,
    "start_time": "2022-06-08T02:08:26.793Z"
   },
   {
    "duration": 8,
    "start_time": "2022-06-08T02:08:26.802Z"
   },
   {
    "duration": 12,
    "start_time": "2022-06-08T02:08:26.811Z"
   },
   {
    "duration": 13,
    "start_time": "2022-06-08T02:08:26.825Z"
   },
   {
    "duration": 9079,
    "start_time": "2022-06-08T02:08:26.839Z"
   },
   {
    "duration": 21,
    "start_time": "2022-06-08T02:08:35.919Z"
   },
   {
    "duration": 8,
    "start_time": "2022-06-08T02:08:35.941Z"
   },
   {
    "duration": 6,
    "start_time": "2022-06-08T02:08:35.951Z"
   },
   {
    "duration": 478,
    "start_time": "2022-06-08T02:08:35.959Z"
   },
   {
    "duration": 115,
    "start_time": "2022-06-08T02:08:36.438Z"
   },
   {
    "duration": 125,
    "start_time": "2022-06-08T02:08:36.554Z"
   },
   {
    "duration": 132,
    "start_time": "2022-06-08T02:08:36.680Z"
   },
   {
    "duration": 148,
    "start_time": "2022-06-08T02:08:36.813Z"
   },
   {
    "duration": 4,
    "start_time": "2022-06-08T02:08:36.962Z"
   },
   {
    "duration": 6,
    "start_time": "2022-06-08T02:08:36.967Z"
   },
   {
    "duration": 22,
    "start_time": "2022-06-08T02:08:36.974Z"
   },
   {
    "duration": 5,
    "start_time": "2022-06-08T02:08:36.997Z"
   },
   {
    "duration": 8,
    "start_time": "2022-06-08T02:08:37.003Z"
   },
   {
    "duration": 7,
    "start_time": "2022-06-08T02:08:37.012Z"
   },
   {
    "duration": 137,
    "start_time": "2022-06-08T02:08:37.020Z"
   },
   {
    "duration": 2,
    "start_time": "2022-06-08T02:08:37.159Z"
   },
   {
    "duration": 30,
    "start_time": "2022-06-08T02:08:37.164Z"
   },
   {
    "duration": 37,
    "start_time": "2022-06-08T02:14:36.202Z"
   },
   {
    "duration": 523,
    "start_time": "2022-06-08T02:20:28.085Z"
   },
   {
    "duration": 409,
    "start_time": "2022-06-08T02:20:45.394Z"
   },
   {
    "duration": 35,
    "start_time": "2022-06-08T02:22:51.288Z"
   },
   {
    "duration": 4,
    "start_time": "2022-06-08T02:23:01.034Z"
   },
   {
    "duration": 5,
    "start_time": "2022-06-08T02:23:43.019Z"
   },
   {
    "duration": 13,
    "start_time": "2022-06-08T02:24:06.777Z"
   },
   {
    "duration": 11,
    "start_time": "2022-06-08T02:24:12.334Z"
   },
   {
    "duration": 13,
    "start_time": "2022-06-08T02:24:18.640Z"
   },
   {
    "duration": 6,
    "start_time": "2022-06-08T02:24:47.186Z"
   },
   {
    "duration": 6,
    "start_time": "2022-06-08T02:25:01.137Z"
   },
   {
    "duration": 6,
    "start_time": "2022-06-08T02:25:04.437Z"
   },
   {
    "duration": 428,
    "start_time": "2022-06-08T02:25:22.671Z"
   },
   {
    "duration": 104,
    "start_time": "2022-06-08T02:25:23.100Z"
   },
   {
    "duration": 185,
    "start_time": "2022-06-08T02:25:23.206Z"
   },
   {
    "duration": 13,
    "start_time": "2022-06-08T02:25:23.393Z"
   },
   {
    "duration": 2,
    "start_time": "2022-06-08T02:25:23.408Z"
   },
   {
    "duration": 7,
    "start_time": "2022-06-08T02:25:23.412Z"
   },
   {
    "duration": 7,
    "start_time": "2022-06-08T02:25:23.421Z"
   },
   {
    "duration": 7,
    "start_time": "2022-06-08T02:25:23.430Z"
   },
   {
    "duration": 12,
    "start_time": "2022-06-08T02:25:23.439Z"
   },
   {
    "duration": 48,
    "start_time": "2022-06-08T02:25:23.453Z"
   },
   {
    "duration": 9578,
    "start_time": "2022-06-08T02:25:23.503Z"
   },
   {
    "duration": 24,
    "start_time": "2022-06-08T02:25:33.083Z"
   },
   {
    "duration": 6,
    "start_time": "2022-06-08T02:25:33.108Z"
   },
   {
    "duration": 6,
    "start_time": "2022-06-08T02:25:33.115Z"
   },
   {
    "duration": 322,
    "start_time": "2022-06-08T02:25:33.122Z"
   },
   {
    "duration": 115,
    "start_time": "2022-06-08T02:25:33.445Z"
   },
   {
    "duration": 121,
    "start_time": "2022-06-08T02:25:33.562Z"
   },
   {
    "duration": 121,
    "start_time": "2022-06-08T02:25:33.691Z"
   },
   {
    "duration": 128,
    "start_time": "2022-06-08T02:25:33.814Z"
   },
   {
    "duration": 4,
    "start_time": "2022-06-08T02:25:33.944Z"
   },
   {
    "duration": 4,
    "start_time": "2022-06-08T02:25:33.949Z"
   },
   {
    "duration": 8,
    "start_time": "2022-06-08T02:25:33.954Z"
   },
   {
    "duration": 4,
    "start_time": "2022-06-08T02:25:33.963Z"
   },
   {
    "duration": 24,
    "start_time": "2022-06-08T02:25:33.968Z"
   },
   {
    "duration": 4,
    "start_time": "2022-06-08T02:25:33.993Z"
   },
   {
    "duration": 129,
    "start_time": "2022-06-08T02:25:33.998Z"
   },
   {
    "duration": 3,
    "start_time": "2022-06-08T02:25:34.128Z"
   },
   {
    "duration": 22,
    "start_time": "2022-06-08T02:25:34.133Z"
   },
   {
    "duration": 5,
    "start_time": "2022-06-08T02:25:34.156Z"
   },
   {
    "duration": 2,
    "start_time": "2022-06-08T02:27:49.758Z"
   },
   {
    "duration": 158,
    "start_time": "2022-06-08T02:28:28.843Z"
   },
   {
    "duration": 243,
    "start_time": "2022-06-08T02:28:50.036Z"
   },
   {
    "duration": 266,
    "start_time": "2022-06-08T02:29:25.446Z"
   },
   {
    "duration": 33,
    "start_time": "2022-06-08T02:31:34.931Z"
   },
   {
    "duration": 362,
    "start_time": "2022-06-09T13:02:34.703Z"
   },
   {
    "duration": 207,
    "start_time": "2022-06-09T13:02:35.067Z"
   },
   {
    "duration": 187,
    "start_time": "2022-06-09T13:02:35.276Z"
   },
   {
    "duration": 18,
    "start_time": "2022-06-09T13:02:35.465Z"
   },
   {
    "duration": 2,
    "start_time": "2022-06-09T13:02:35.484Z"
   },
   {
    "duration": 13,
    "start_time": "2022-06-09T13:02:35.488Z"
   },
   {
    "duration": 32,
    "start_time": "2022-06-09T13:02:35.502Z"
   },
   {
    "duration": 12,
    "start_time": "2022-06-09T13:02:35.538Z"
   },
   {
    "duration": 38,
    "start_time": "2022-06-09T13:02:35.551Z"
   },
   {
    "duration": 13,
    "start_time": "2022-06-09T13:02:35.591Z"
   },
   {
    "duration": 10247,
    "start_time": "2022-06-09T13:02:35.605Z"
   },
   {
    "duration": 87,
    "start_time": "2022-06-09T13:02:45.854Z"
   },
   {
    "duration": 14,
    "start_time": "2022-06-09T13:02:45.946Z"
   },
   {
    "duration": 43,
    "start_time": "2022-06-09T13:02:45.962Z"
   },
   {
    "duration": 1513,
    "start_time": "2022-06-09T13:02:46.027Z"
   },
   {
    "duration": 313,
    "start_time": "2022-06-09T13:02:47.542Z"
   },
   {
    "duration": 242,
    "start_time": "2022-06-09T13:02:47.858Z"
   },
   {
    "duration": 173,
    "start_time": "2022-06-09T13:02:48.102Z"
   },
   {
    "duration": 205,
    "start_time": "2022-06-09T13:02:48.277Z"
   },
   {
    "duration": 5,
    "start_time": "2022-06-09T13:02:48.484Z"
   },
   {
    "duration": 14,
    "start_time": "2022-06-09T13:02:48.490Z"
   },
   {
    "duration": 16,
    "start_time": "2022-06-09T13:02:48.505Z"
   },
   {
    "duration": 37,
    "start_time": "2022-06-09T13:02:48.526Z"
   },
   {
    "duration": 19,
    "start_time": "2022-06-09T13:02:48.564Z"
   },
   {
    "duration": 8,
    "start_time": "2022-06-09T13:02:48.585Z"
   },
   {
    "duration": 171,
    "start_time": "2022-06-09T13:02:48.594Z"
   },
   {
    "duration": 4,
    "start_time": "2022-06-09T13:02:48.766Z"
   },
   {
    "duration": 44,
    "start_time": "2022-06-09T13:02:48.774Z"
   },
   {
    "duration": 199,
    "start_time": "2022-06-09T13:02:48.819Z"
   },
   {
    "duration": 48,
    "start_time": "2022-06-09T13:02:49.020Z"
   },
   {
    "duration": 35,
    "start_time": "2022-06-09T13:04:47.587Z"
   },
   {
    "duration": 2,
    "start_time": "2022-06-09T13:04:51.968Z"
   },
   {
    "duration": 412,
    "start_time": "2022-06-09T13:06:04.568Z"
   },
   {
    "duration": 108,
    "start_time": "2022-06-09T13:06:04.982Z"
   },
   {
    "duration": 193,
    "start_time": "2022-06-09T13:06:05.092Z"
   },
   {
    "duration": 12,
    "start_time": "2022-06-09T13:06:05.287Z"
   },
   {
    "duration": 4,
    "start_time": "2022-06-09T13:06:05.301Z"
   },
   {
    "duration": 25,
    "start_time": "2022-06-09T13:06:05.307Z"
   },
   {
    "duration": 11,
    "start_time": "2022-06-09T13:06:05.341Z"
   },
   {
    "duration": 26,
    "start_time": "2022-06-09T13:06:05.354Z"
   },
   {
    "duration": 20,
    "start_time": "2022-06-09T13:06:05.382Z"
   },
   {
    "duration": 15,
    "start_time": "2022-06-09T13:06:05.404Z"
   },
   {
    "duration": 10282,
    "start_time": "2022-06-09T13:06:05.420Z"
   },
   {
    "duration": 36,
    "start_time": "2022-06-09T13:06:15.704Z"
   },
   {
    "duration": 8,
    "start_time": "2022-06-09T13:06:15.742Z"
   },
   {
    "duration": 27,
    "start_time": "2022-06-09T13:06:15.755Z"
   },
   {
    "duration": 330,
    "start_time": "2022-06-09T13:06:15.784Z"
   },
   {
    "duration": 149,
    "start_time": "2022-06-09T13:06:16.116Z"
   },
   {
    "duration": 139,
    "start_time": "2022-06-09T13:06:16.266Z"
   },
   {
    "duration": 167,
    "start_time": "2022-06-09T13:06:16.407Z"
   },
   {
    "duration": 206,
    "start_time": "2022-06-09T13:06:16.575Z"
   },
   {
    "duration": 6,
    "start_time": "2022-06-09T13:06:16.782Z"
   },
   {
    "duration": 20,
    "start_time": "2022-06-09T13:06:16.794Z"
   },
   {
    "duration": 16,
    "start_time": "2022-06-09T13:06:16.816Z"
   },
   {
    "duration": 52,
    "start_time": "2022-06-09T13:06:16.835Z"
   },
   {
    "duration": 15,
    "start_time": "2022-06-09T13:06:16.888Z"
   },
   {
    "duration": 15,
    "start_time": "2022-06-09T13:06:16.905Z"
   },
   {
    "duration": 211,
    "start_time": "2022-06-09T13:06:16.922Z"
   },
   {
    "duration": 6,
    "start_time": "2022-06-09T13:06:17.135Z"
   },
   {
    "duration": 63,
    "start_time": "2022-06-09T13:06:17.142Z"
   },
   {
    "duration": 184,
    "start_time": "2022-06-09T13:06:17.207Z"
   },
   {
    "duration": 63,
    "start_time": "2022-06-09T13:06:17.393Z"
   },
   {
    "duration": 238,
    "start_time": "2022-06-09T13:15:22.131Z"
   },
   {
    "duration": 260,
    "start_time": "2022-06-09T13:15:33.840Z"
   },
   {
    "duration": 43,
    "start_time": "2022-06-09T14:32:46.727Z"
   },
   {
    "duration": 242,
    "start_time": "2022-06-09T14:35:54.702Z"
   },
   {
    "duration": 9368,
    "start_time": "2022-06-09T14:36:34.763Z"
   },
   {
    "duration": 22,
    "start_time": "2022-06-09T14:38:52.254Z"
   },
   {
    "duration": 130,
    "start_time": "2022-06-09T15:05:33.487Z"
   },
   {
    "duration": 157,
    "start_time": "2022-06-09T15:05:39.682Z"
   },
   {
    "duration": 104,
    "start_time": "2022-06-09T15:05:52.905Z"
   },
   {
    "duration": 128,
    "start_time": "2022-06-09T15:06:14.656Z"
   },
   {
    "duration": 120,
    "start_time": "2022-06-09T15:07:18.067Z"
   },
   {
    "duration": 115,
    "start_time": "2022-06-09T15:07:27.842Z"
   },
   {
    "duration": 72,
    "start_time": "2022-06-09T15:08:41.960Z"
   },
   {
    "duration": 115,
    "start_time": "2022-06-09T15:08:52.090Z"
   },
   {
    "duration": 127,
    "start_time": "2022-06-09T15:09:14.975Z"
   },
   {
    "duration": 121,
    "start_time": "2022-06-09T15:09:21.752Z"
   },
   {
    "duration": 128,
    "start_time": "2022-06-09T15:12:56.207Z"
   },
   {
    "duration": 138,
    "start_time": "2022-06-09T15:13:05.152Z"
   },
   {
    "duration": 187,
    "start_time": "2022-06-09T15:13:17.208Z"
   },
   {
    "duration": 223,
    "start_time": "2022-06-09T15:14:37.692Z"
   },
   {
    "duration": 1288,
    "start_time": "2022-06-09T15:14:47.481Z"
   },
   {
    "duration": 341,
    "start_time": "2022-06-09T15:15:13.832Z"
   },
   {
    "duration": 14,
    "start_time": "2022-06-09T15:16:39.599Z"
   },
   {
    "duration": 255,
    "start_time": "2022-06-09T15:18:08.003Z"
   },
   {
    "duration": 300,
    "start_time": "2022-06-09T15:19:50.012Z"
   },
   {
    "duration": 34,
    "start_time": "2022-06-09T15:20:36.773Z"
   },
   {
    "duration": 245,
    "start_time": "2022-06-09T15:20:42.752Z"
   },
   {
    "duration": 237,
    "start_time": "2022-06-09T15:21:48.257Z"
   },
   {
    "duration": 158,
    "start_time": "2022-06-09T15:22:06.402Z"
   },
   {
    "duration": 107,
    "start_time": "2022-06-09T15:22:11.767Z"
   },
   {
    "duration": 129,
    "start_time": "2022-06-09T15:22:25.470Z"
   },
   {
    "duration": 17,
    "start_time": "2022-06-09T15:22:55.952Z"
   },
   {
    "duration": 7,
    "start_time": "2022-06-09T15:23:17.254Z"
   },
   {
    "duration": 6,
    "start_time": "2022-06-09T15:23:58.599Z"
   },
   {
    "duration": 122,
    "start_time": "2022-06-09T15:24:01.762Z"
   },
   {
    "duration": 134,
    "start_time": "2022-06-09T15:24:06.018Z"
   },
   {
    "duration": 118,
    "start_time": "2022-06-09T15:24:13.118Z"
   },
   {
    "duration": 225,
    "start_time": "2022-06-09T15:24:50.332Z"
   },
   {
    "duration": 138,
    "start_time": "2022-06-09T15:25:15.172Z"
   },
   {
    "duration": 148,
    "start_time": "2022-06-09T15:25:31.552Z"
   },
   {
    "duration": 139,
    "start_time": "2022-06-09T15:25:39.502Z"
   },
   {
    "duration": 247,
    "start_time": "2022-06-09T15:26:24.142Z"
   },
   {
    "duration": 144,
    "start_time": "2022-06-09T15:26:47.052Z"
   },
   {
    "duration": 258,
    "start_time": "2022-06-09T15:26:52.609Z"
   },
   {
    "duration": 203,
    "start_time": "2022-06-09T15:27:16.669Z"
   },
   {
    "duration": 154,
    "start_time": "2022-06-09T15:27:21.015Z"
   },
   {
    "duration": 237,
    "start_time": "2022-06-09T15:27:29.696Z"
   },
   {
    "duration": 259,
    "start_time": "2022-06-09T15:28:03.919Z"
   },
   {
    "duration": 1311,
    "start_time": "2022-06-09T15:28:09.212Z"
   },
   {
    "duration": 109,
    "start_time": "2022-06-09T15:28:20.770Z"
   },
   {
    "duration": 110,
    "start_time": "2022-06-09T15:28:31.040Z"
   },
   {
    "duration": 231,
    "start_time": "2022-06-09T15:28:35.600Z"
   },
   {
    "duration": 136,
    "start_time": "2022-06-09T15:32:54.907Z"
   },
   {
    "duration": 5,
    "start_time": "2022-06-09T15:44:45.404Z"
   },
   {
    "duration": 212,
    "start_time": "2022-06-09T15:44:47.667Z"
   },
   {
    "duration": 136,
    "start_time": "2022-06-09T15:44:58.746Z"
   },
   {
    "duration": 123,
    "start_time": "2022-06-09T15:45:05.208Z"
   },
   {
    "duration": 181,
    "start_time": "2022-06-09T15:45:09.520Z"
   },
   {
    "duration": 286,
    "start_time": "2022-06-09T15:45:16.901Z"
   },
   {
    "duration": 104,
    "start_time": "2022-06-09T15:45:39.315Z"
   },
   {
    "duration": 11,
    "start_time": "2022-06-09T15:46:27.306Z"
   },
   {
    "duration": 10,
    "start_time": "2022-06-09T15:47:09.771Z"
   },
   {
    "duration": 390,
    "start_time": "2022-06-09T15:47:39.198Z"
   },
   {
    "duration": 93,
    "start_time": "2022-06-09T15:47:39.590Z"
   },
   {
    "duration": 169,
    "start_time": "2022-06-09T15:47:39.684Z"
   },
   {
    "duration": 12,
    "start_time": "2022-06-09T15:47:39.855Z"
   },
   {
    "duration": 6,
    "start_time": "2022-06-09T15:47:39.870Z"
   },
   {
    "duration": 9,
    "start_time": "2022-06-09T15:47:39.878Z"
   },
   {
    "duration": 37,
    "start_time": "2022-06-09T15:47:39.888Z"
   },
   {
    "duration": 12,
    "start_time": "2022-06-09T15:47:39.927Z"
   },
   {
    "duration": 12,
    "start_time": "2022-06-09T15:47:39.940Z"
   },
   {
    "duration": 9271,
    "start_time": "2022-06-09T15:47:39.954Z"
   },
   {
    "duration": 20,
    "start_time": "2022-06-09T15:47:49.227Z"
   },
   {
    "duration": 384,
    "start_time": "2022-06-09T15:47:49.248Z"
   },
   {
    "duration": 4,
    "start_time": "2022-06-09T15:47:49.634Z"
   },
   {
    "duration": 124,
    "start_time": "2022-06-09T15:47:49.640Z"
   },
   {
    "duration": 132,
    "start_time": "2022-06-09T15:47:49.765Z"
   },
   {
    "duration": 195,
    "start_time": "2022-06-09T15:47:49.898Z"
   },
   {
    "duration": 146,
    "start_time": "2022-06-09T15:47:50.095Z"
   },
   {
    "duration": 139,
    "start_time": "2022-06-09T15:47:50.242Z"
   },
   {
    "duration": 4,
    "start_time": "2022-06-09T15:47:50.383Z"
   },
   {
    "duration": 6,
    "start_time": "2022-06-09T15:47:50.388Z"
   },
   {
    "duration": 9,
    "start_time": "2022-06-09T15:47:50.395Z"
   },
   {
    "duration": 21,
    "start_time": "2022-06-09T15:47:50.405Z"
   },
   {
    "duration": 5,
    "start_time": "2022-06-09T15:47:50.427Z"
   },
   {
    "duration": 6,
    "start_time": "2022-06-09T15:47:50.434Z"
   },
   {
    "duration": 138,
    "start_time": "2022-06-09T15:47:50.441Z"
   },
   {
    "duration": 3,
    "start_time": "2022-06-09T15:47:50.580Z"
   },
   {
    "duration": 25,
    "start_time": "2022-06-09T15:47:50.584Z"
   },
   {
    "duration": 186,
    "start_time": "2022-06-09T15:47:50.610Z"
   },
   {
    "duration": 42,
    "start_time": "2022-06-09T15:47:50.797Z"
   },
   {
    "duration": 295,
    "start_time": "2022-06-09T15:48:16.658Z"
   },
   {
    "duration": 7,
    "start_time": "2022-06-09T15:54:30.536Z"
   },
   {
    "duration": 225,
    "start_time": "2022-06-09T15:54:38.387Z"
   },
   {
    "duration": 6,
    "start_time": "2022-06-09T15:54:47.850Z"
   },
   {
    "duration": 278,
    "start_time": "2022-06-09T15:54:50.318Z"
   },
   {
    "duration": 6,
    "start_time": "2022-06-09T15:55:10.924Z"
   },
   {
    "duration": 319,
    "start_time": "2022-06-09T15:55:12.952Z"
   },
   {
    "duration": 224,
    "start_time": "2022-06-09T15:55:36.756Z"
   },
   {
    "duration": 10,
    "start_time": "2022-06-09T15:55:55.610Z"
   },
   {
    "duration": 9,
    "start_time": "2022-06-09T15:56:00.026Z"
   },
   {
    "duration": 407,
    "start_time": "2022-06-09T15:56:27.002Z"
   },
   {
    "duration": 101,
    "start_time": "2022-06-09T15:56:27.410Z"
   },
   {
    "duration": 175,
    "start_time": "2022-06-09T15:56:27.512Z"
   },
   {
    "duration": 17,
    "start_time": "2022-06-09T15:56:27.689Z"
   },
   {
    "duration": 32,
    "start_time": "2022-06-09T15:56:27.708Z"
   },
   {
    "duration": 19,
    "start_time": "2022-06-09T15:56:27.742Z"
   },
   {
    "duration": 9,
    "start_time": "2022-06-09T15:56:27.763Z"
   },
   {
    "duration": 13,
    "start_time": "2022-06-09T15:56:27.774Z"
   },
   {
    "duration": 13,
    "start_time": "2022-06-09T15:56:27.789Z"
   },
   {
    "duration": 9560,
    "start_time": "2022-06-09T15:56:27.804Z"
   },
   {
    "duration": 20,
    "start_time": "2022-06-09T15:56:37.366Z"
   },
   {
    "duration": 403,
    "start_time": "2022-06-09T15:56:37.387Z"
   },
   {
    "duration": 11,
    "start_time": "2022-06-09T15:56:37.791Z"
   },
   {
    "duration": 224,
    "start_time": "2022-06-09T15:56:37.805Z"
   },
   {
    "duration": 182,
    "start_time": "2022-06-09T15:56:38.031Z"
   },
   {
    "duration": 142,
    "start_time": "2022-06-09T15:56:38.215Z"
   },
   {
    "duration": 143,
    "start_time": "2022-06-09T15:56:38.358Z"
   },
   {
    "duration": 139,
    "start_time": "2022-06-09T15:56:38.503Z"
   },
   {
    "duration": 4,
    "start_time": "2022-06-09T15:56:38.644Z"
   },
   {
    "duration": 8,
    "start_time": "2022-06-09T15:56:38.650Z"
   },
   {
    "duration": 8,
    "start_time": "2022-06-09T15:56:38.660Z"
   },
   {
    "duration": 5,
    "start_time": "2022-06-09T15:56:38.669Z"
   },
   {
    "duration": 4,
    "start_time": "2022-06-09T15:56:38.676Z"
   },
   {
    "duration": 5,
    "start_time": "2022-06-09T15:56:38.682Z"
   },
   {
    "duration": 201,
    "start_time": "2022-06-09T15:56:38.688Z"
   },
   {
    "duration": 3,
    "start_time": "2022-06-09T15:56:38.890Z"
   },
   {
    "duration": 37,
    "start_time": "2022-06-09T15:56:38.895Z"
   },
   {
    "duration": 184,
    "start_time": "2022-06-09T15:56:38.933Z"
   },
   {
    "duration": 37,
    "start_time": "2022-06-09T15:56:39.125Z"
   },
   {
    "duration": 247,
    "start_time": "2022-06-09T16:00:45.264Z"
   },
   {
    "duration": 392,
    "start_time": "2022-06-09T16:01:57.498Z"
   },
   {
    "duration": 100,
    "start_time": "2022-06-09T16:01:57.891Z"
   },
   {
    "duration": 198,
    "start_time": "2022-06-09T16:01:57.993Z"
   },
   {
    "duration": 13,
    "start_time": "2022-06-09T16:01:58.193Z"
   },
   {
    "duration": 19,
    "start_time": "2022-06-09T16:01:58.208Z"
   },
   {
    "duration": 29,
    "start_time": "2022-06-09T16:01:58.229Z"
   },
   {
    "duration": 12,
    "start_time": "2022-06-09T16:01:58.259Z"
   },
   {
    "duration": 18,
    "start_time": "2022-06-09T16:01:58.273Z"
   },
   {
    "duration": 14,
    "start_time": "2022-06-09T16:01:58.293Z"
   },
   {
    "duration": 10089,
    "start_time": "2022-06-09T16:01:58.310Z"
   },
   {
    "duration": 36,
    "start_time": "2022-06-09T16:02:08.401Z"
   },
   {
    "duration": 571,
    "start_time": "2022-06-09T16:02:08.440Z"
   },
   {
    "duration": 17,
    "start_time": "2022-06-09T16:02:09.013Z"
   },
   {
    "duration": 313,
    "start_time": "2022-06-09T16:02:09.032Z"
   },
   {
    "duration": 257,
    "start_time": "2022-06-09T16:02:09.347Z"
   },
   {
    "duration": 188,
    "start_time": "2022-06-09T16:02:09.606Z"
   },
   {
    "duration": 189,
    "start_time": "2022-06-09T16:02:09.796Z"
   },
   {
    "duration": 191,
    "start_time": "2022-06-09T16:02:09.987Z"
   },
   {
    "duration": 5,
    "start_time": "2022-06-09T16:02:10.181Z"
   },
   {
    "duration": 6,
    "start_time": "2022-06-09T16:02:10.188Z"
   },
   {
    "duration": 31,
    "start_time": "2022-06-09T16:02:10.196Z"
   },
   {
    "duration": 7,
    "start_time": "2022-06-09T16:02:10.229Z"
   },
   {
    "duration": 8,
    "start_time": "2022-06-09T16:02:10.238Z"
   },
   {
    "duration": 10,
    "start_time": "2022-06-09T16:02:10.248Z"
   },
   {
    "duration": 208,
    "start_time": "2022-06-09T16:02:10.260Z"
   },
   {
    "duration": 3,
    "start_time": "2022-06-09T16:02:10.470Z"
   },
   {
    "duration": 32,
    "start_time": "2022-06-09T16:02:10.476Z"
   },
   {
    "duration": 265,
    "start_time": "2022-06-09T16:02:10.511Z"
   },
   {
    "duration": 56,
    "start_time": "2022-06-09T16:02:10.779Z"
   },
   {
    "duration": 235,
    "start_time": "2022-06-09T16:02:50.842Z"
   },
   {
    "duration": 246,
    "start_time": "2022-06-09T16:03:00.405Z"
   },
   {
    "duration": 299,
    "start_time": "2022-06-09T16:03:21.404Z"
   },
   {
    "duration": 393,
    "start_time": "2022-06-09T16:03:51.013Z"
   },
   {
    "duration": 95,
    "start_time": "2022-06-09T16:03:51.408Z"
   },
   {
    "duration": 168,
    "start_time": "2022-06-09T16:03:51.505Z"
   },
   {
    "duration": 13,
    "start_time": "2022-06-09T16:03:51.675Z"
   },
   {
    "duration": 7,
    "start_time": "2022-06-09T16:03:51.690Z"
   },
   {
    "duration": 30,
    "start_time": "2022-06-09T16:03:51.698Z"
   },
   {
    "duration": 9,
    "start_time": "2022-06-09T16:03:51.729Z"
   },
   {
    "duration": 12,
    "start_time": "2022-06-09T16:03:51.739Z"
   },
   {
    "duration": 13,
    "start_time": "2022-06-09T16:03:51.752Z"
   },
   {
    "duration": 9393,
    "start_time": "2022-06-09T16:03:51.766Z"
   },
   {
    "duration": 22,
    "start_time": "2022-06-09T16:04:01.161Z"
   },
   {
    "duration": 418,
    "start_time": "2022-06-09T16:04:01.185Z"
   },
   {
    "duration": 9,
    "start_time": "2022-06-09T16:04:01.605Z"
   },
   {
    "duration": 215,
    "start_time": "2022-06-09T16:04:01.625Z"
   },
   {
    "duration": 226,
    "start_time": "2022-06-09T16:04:01.842Z"
   },
   {
    "duration": 144,
    "start_time": "2022-06-09T16:04:02.069Z"
   },
   {
    "duration": 143,
    "start_time": "2022-06-09T16:04:02.214Z"
   },
   {
    "duration": 147,
    "start_time": "2022-06-09T16:04:02.359Z"
   },
   {
    "duration": 4,
    "start_time": "2022-06-09T16:04:02.508Z"
   },
   {
    "duration": 12,
    "start_time": "2022-06-09T16:04:02.514Z"
   },
   {
    "duration": 15,
    "start_time": "2022-06-09T16:04:02.527Z"
   },
   {
    "duration": 10,
    "start_time": "2022-06-09T16:04:02.543Z"
   },
   {
    "duration": 6,
    "start_time": "2022-06-09T16:04:02.555Z"
   },
   {
    "duration": 7,
    "start_time": "2022-06-09T16:04:02.563Z"
   },
   {
    "duration": 150,
    "start_time": "2022-06-09T16:04:02.572Z"
   },
   {
    "duration": 3,
    "start_time": "2022-06-09T16:04:02.725Z"
   },
   {
    "duration": 36,
    "start_time": "2022-06-09T16:04:02.730Z"
   },
   {
    "duration": 191,
    "start_time": "2022-06-09T16:04:02.768Z"
   },
   {
    "duration": 42,
    "start_time": "2022-06-09T16:04:02.960Z"
   },
   {
    "duration": 230,
    "start_time": "2022-06-09T16:04:48.126Z"
   },
   {
    "duration": 216,
    "start_time": "2022-06-09T16:05:11.637Z"
   },
   {
    "duration": 9,
    "start_time": "2022-06-09T16:07:24.619Z"
   },
   {
    "duration": 330,
    "start_time": "2022-06-09T16:08:38.964Z"
   },
   {
    "duration": 91,
    "start_time": "2022-06-09T16:08:39.295Z"
   },
   {
    "duration": 162,
    "start_time": "2022-06-09T16:08:39.388Z"
   },
   {
    "duration": 12,
    "start_time": "2022-06-09T16:08:39.552Z"
   },
   {
    "duration": 11,
    "start_time": "2022-06-09T16:08:39.565Z"
   },
   {
    "duration": 48,
    "start_time": "2022-06-09T16:08:39.577Z"
   },
   {
    "duration": 37,
    "start_time": "2022-06-09T16:08:39.626Z"
   },
   {
    "duration": 38,
    "start_time": "2022-06-09T16:08:39.664Z"
   },
   {
    "duration": 38,
    "start_time": "2022-06-09T16:08:39.704Z"
   },
   {
    "duration": 9597,
    "start_time": "2022-06-09T16:08:39.744Z"
   },
   {
    "duration": 22,
    "start_time": "2022-06-09T16:08:49.343Z"
   },
   {
    "duration": 388,
    "start_time": "2022-06-09T16:08:49.366Z"
   },
   {
    "duration": 3,
    "start_time": "2022-06-09T16:08:49.755Z"
   },
   {
    "duration": 212,
    "start_time": "2022-06-09T16:08:49.759Z"
   },
   {
    "duration": 200,
    "start_time": "2022-06-09T16:08:49.973Z"
   },
   {
    "duration": 136,
    "start_time": "2022-06-09T16:08:50.175Z"
   },
   {
    "duration": 150,
    "start_time": "2022-06-09T16:08:50.312Z"
   },
   {
    "duration": 149,
    "start_time": "2022-06-09T16:08:50.464Z"
   },
   {
    "duration": 11,
    "start_time": "2022-06-09T16:08:50.615Z"
   },
   {
    "duration": 4,
    "start_time": "2022-06-09T16:08:50.628Z"
   },
   {
    "duration": 11,
    "start_time": "2022-06-09T16:08:50.633Z"
   },
   {
    "duration": 5,
    "start_time": "2022-06-09T16:08:50.645Z"
   },
   {
    "duration": 6,
    "start_time": "2022-06-09T16:08:50.651Z"
   },
   {
    "duration": 5,
    "start_time": "2022-06-09T16:08:50.658Z"
   },
   {
    "duration": 167,
    "start_time": "2022-06-09T16:08:50.664Z"
   },
   {
    "duration": 3,
    "start_time": "2022-06-09T16:08:50.832Z"
   },
   {
    "duration": 28,
    "start_time": "2022-06-09T16:08:50.836Z"
   },
   {
    "duration": 182,
    "start_time": "2022-06-09T16:08:50.866Z"
   },
   {
    "duration": 35,
    "start_time": "2022-06-09T16:08:51.050Z"
   },
   {
    "duration": 130,
    "start_time": "2022-06-09T16:12:45.711Z"
   },
   {
    "duration": 66,
    "start_time": "2022-06-09T16:13:29.388Z"
   },
   {
    "duration": 13,
    "start_time": "2022-06-09T16:13:54.997Z"
   },
   {
    "duration": 8,
    "start_time": "2022-06-09T16:14:17.039Z"
   },
   {
    "duration": 136,
    "start_time": "2022-06-09T16:14:28.665Z"
   },
   {
    "duration": 2,
    "start_time": "2022-06-09T16:26:11.524Z"
   },
   {
    "duration": 375,
    "start_time": "2022-06-09T16:26:17.928Z"
   },
   {
    "duration": 95,
    "start_time": "2022-06-09T16:26:18.305Z"
   },
   {
    "duration": 165,
    "start_time": "2022-06-09T16:26:18.402Z"
   },
   {
    "duration": 13,
    "start_time": "2022-06-09T16:26:18.569Z"
   },
   {
    "duration": 6,
    "start_time": "2022-06-09T16:26:18.584Z"
   },
   {
    "duration": 8,
    "start_time": "2022-06-09T16:26:18.591Z"
   },
   {
    "duration": 27,
    "start_time": "2022-06-09T16:26:18.600Z"
   },
   {
    "duration": 11,
    "start_time": "2022-06-09T16:26:18.628Z"
   },
   {
    "duration": 11,
    "start_time": "2022-06-09T16:26:18.641Z"
   },
   {
    "duration": 9488,
    "start_time": "2022-06-09T16:26:18.653Z"
   },
   {
    "duration": 21,
    "start_time": "2022-06-09T16:26:28.142Z"
   },
   {
    "duration": 408,
    "start_time": "2022-06-09T16:26:28.165Z"
   },
   {
    "duration": 224,
    "start_time": "2022-06-09T16:26:28.575Z"
   },
   {
    "duration": 192,
    "start_time": "2022-06-09T16:26:28.802Z"
   },
   {
    "duration": 2,
    "start_time": "2022-06-09T16:26:28.996Z"
   },
   {
    "duration": 144,
    "start_time": "2022-06-09T16:26:29.000Z"
   },
   {
    "duration": 145,
    "start_time": "2022-06-09T16:26:29.146Z"
   },
   {
    "duration": 5,
    "start_time": "2022-06-09T16:26:29.292Z"
   },
   {
    "duration": 28,
    "start_time": "2022-06-09T16:26:29.298Z"
   },
   {
    "duration": 16,
    "start_time": "2022-06-09T16:26:29.327Z"
   },
   {
    "duration": 9,
    "start_time": "2022-06-09T16:26:29.344Z"
   },
   {
    "duration": 19,
    "start_time": "2022-06-09T16:26:29.354Z"
   },
   {
    "duration": 8,
    "start_time": "2022-06-09T16:26:29.374Z"
   },
   {
    "duration": 144,
    "start_time": "2022-06-09T16:26:29.384Z"
   },
   {
    "duration": 3,
    "start_time": "2022-06-09T16:26:29.530Z"
   },
   {
    "duration": 40,
    "start_time": "2022-06-09T16:26:29.535Z"
   },
   {
    "duration": 183,
    "start_time": "2022-06-09T16:26:29.576Z"
   },
   {
    "duration": 35,
    "start_time": "2022-06-09T16:26:29.761Z"
   },
   {
    "duration": 158,
    "start_time": "2022-06-09T16:27:14.079Z"
   },
   {
    "duration": 194,
    "start_time": "2022-06-09T16:27:28.720Z"
   },
   {
    "duration": 157,
    "start_time": "2022-06-09T16:27:49.478Z"
   },
   {
    "duration": 144,
    "start_time": "2022-06-09T16:30:11.881Z"
   },
   {
    "duration": 125,
    "start_time": "2022-06-09T16:30:21.545Z"
   },
   {
    "duration": 303,
    "start_time": "2022-06-09T16:30:28.823Z"
   },
   {
    "duration": 267,
    "start_time": "2022-06-09T16:32:22.607Z"
   },
   {
    "duration": 230,
    "start_time": "2022-06-09T16:32:38.426Z"
   },
   {
    "duration": 225,
    "start_time": "2022-06-09T16:33:43.526Z"
   },
   {
    "duration": 123,
    "start_time": "2022-06-09T16:33:48.039Z"
   },
   {
    "duration": 149,
    "start_time": "2022-06-09T16:33:55.640Z"
   },
   {
    "duration": 128,
    "start_time": "2022-06-09T16:34:14.055Z"
   },
   {
    "duration": 121,
    "start_time": "2022-06-09T16:34:21.174Z"
   },
   {
    "duration": 228,
    "start_time": "2022-06-09T16:34:30.070Z"
   },
   {
    "duration": 131,
    "start_time": "2022-06-09T16:34:35.745Z"
   },
   {
    "duration": 137,
    "start_time": "2022-06-09T16:35:09.542Z"
   },
   {
    "duration": 122,
    "start_time": "2022-06-09T16:36:53.123Z"
   },
   {
    "duration": 106,
    "start_time": "2022-06-09T16:37:15.573Z"
   },
   {
    "duration": 139,
    "start_time": "2022-06-09T16:37:22.631Z"
   },
   {
    "duration": 168,
    "start_time": "2022-06-09T16:38:00.721Z"
   },
   {
    "duration": 145,
    "start_time": "2022-06-09T16:38:08.221Z"
   },
   {
    "duration": 242,
    "start_time": "2022-06-09T16:44:06.835Z"
   },
   {
    "duration": 237,
    "start_time": "2022-06-09T16:44:30.983Z"
   },
   {
    "duration": 387,
    "start_time": "2022-06-09T16:45:51.220Z"
   },
   {
    "duration": 95,
    "start_time": "2022-06-09T16:45:51.609Z"
   },
   {
    "duration": 167,
    "start_time": "2022-06-09T16:45:51.706Z"
   },
   {
    "duration": 13,
    "start_time": "2022-06-09T16:45:51.875Z"
   },
   {
    "duration": 6,
    "start_time": "2022-06-09T16:45:51.890Z"
   },
   {
    "duration": 8,
    "start_time": "2022-06-09T16:45:51.897Z"
   },
   {
    "duration": 7,
    "start_time": "2022-06-09T16:45:51.925Z"
   },
   {
    "duration": 65,
    "start_time": "2022-06-09T16:45:51.934Z"
   },
   {
    "duration": 0,
    "start_time": "2022-06-09T16:45:52.001Z"
   },
   {
    "duration": 0,
    "start_time": "2022-06-09T16:45:52.003Z"
   },
   {
    "duration": 0,
    "start_time": "2022-06-09T16:45:52.004Z"
   },
   {
    "duration": 0,
    "start_time": "2022-06-09T16:45:52.005Z"
   },
   {
    "duration": 0,
    "start_time": "2022-06-09T16:45:52.005Z"
   },
   {
    "duration": 0,
    "start_time": "2022-06-09T16:45:52.006Z"
   },
   {
    "duration": 0,
    "start_time": "2022-06-09T16:45:52.025Z"
   },
   {
    "duration": 0,
    "start_time": "2022-06-09T16:45:52.026Z"
   },
   {
    "duration": 0,
    "start_time": "2022-06-09T16:45:52.027Z"
   },
   {
    "duration": 0,
    "start_time": "2022-06-09T16:45:52.028Z"
   },
   {
    "duration": 0,
    "start_time": "2022-06-09T16:45:52.029Z"
   },
   {
    "duration": 0,
    "start_time": "2022-06-09T16:45:52.030Z"
   },
   {
    "duration": 0,
    "start_time": "2022-06-09T16:45:52.031Z"
   },
   {
    "duration": 0,
    "start_time": "2022-06-09T16:45:52.032Z"
   },
   {
    "duration": 0,
    "start_time": "2022-06-09T16:45:52.033Z"
   },
   {
    "duration": 0,
    "start_time": "2022-06-09T16:45:52.034Z"
   },
   {
    "duration": 0,
    "start_time": "2022-06-09T16:45:52.035Z"
   },
   {
    "duration": 0,
    "start_time": "2022-06-09T16:45:52.036Z"
   },
   {
    "duration": 0,
    "start_time": "2022-06-09T16:45:52.037Z"
   },
   {
    "duration": 7,
    "start_time": "2022-06-09T16:46:54.448Z"
   },
   {
    "duration": 386,
    "start_time": "2022-06-09T16:46:58.095Z"
   },
   {
    "duration": 99,
    "start_time": "2022-06-09T16:46:58.483Z"
   },
   {
    "duration": 189,
    "start_time": "2022-06-09T16:46:58.584Z"
   },
   {
    "duration": 18,
    "start_time": "2022-06-09T16:46:58.775Z"
   },
   {
    "duration": 29,
    "start_time": "2022-06-09T16:46:58.796Z"
   },
   {
    "duration": 9,
    "start_time": "2022-06-09T16:46:58.827Z"
   },
   {
    "duration": 18,
    "start_time": "2022-06-09T16:46:58.838Z"
   },
   {
    "duration": 23,
    "start_time": "2022-06-09T16:46:58.858Z"
   },
   {
    "duration": 12,
    "start_time": "2022-06-09T16:46:58.883Z"
   },
   {
    "duration": 9445,
    "start_time": "2022-06-09T16:46:58.896Z"
   },
   {
    "duration": 24,
    "start_time": "2022-06-09T16:47:08.342Z"
   },
   {
    "duration": 484,
    "start_time": "2022-06-09T16:47:08.367Z"
   },
   {
    "duration": 248,
    "start_time": "2022-06-09T16:47:08.852Z"
   },
   {
    "duration": 315,
    "start_time": "2022-06-09T16:47:09.104Z"
   },
   {
    "duration": 131,
    "start_time": "2022-06-09T16:47:09.421Z"
   },
   {
    "duration": 267,
    "start_time": "2022-06-09T16:47:09.554Z"
   },
   {
    "duration": 5,
    "start_time": "2022-06-09T16:47:09.825Z"
   },
   {
    "duration": 13,
    "start_time": "2022-06-09T16:47:09.832Z"
   },
   {
    "duration": 15,
    "start_time": "2022-06-09T16:47:09.846Z"
   },
   {
    "duration": 6,
    "start_time": "2022-06-09T16:47:09.863Z"
   },
   {
    "duration": 6,
    "start_time": "2022-06-09T16:47:09.870Z"
   },
   {
    "duration": 10,
    "start_time": "2022-06-09T16:47:09.878Z"
   },
   {
    "duration": 172,
    "start_time": "2022-06-09T16:47:09.890Z"
   },
   {
    "duration": 3,
    "start_time": "2022-06-09T16:47:10.063Z"
   },
   {
    "duration": 29,
    "start_time": "2022-06-09T16:47:10.067Z"
   },
   {
    "duration": 209,
    "start_time": "2022-06-09T16:47:10.097Z"
   },
   {
    "duration": 55,
    "start_time": "2022-06-09T16:47:10.308Z"
   },
   {
    "duration": 168,
    "start_time": "2022-06-09T16:47:39.707Z"
   },
   {
    "duration": 445,
    "start_time": "2022-06-09T16:48:08.504Z"
   },
   {
    "duration": 111,
    "start_time": "2022-06-09T16:48:08.951Z"
   },
   {
    "duration": 187,
    "start_time": "2022-06-09T16:48:09.064Z"
   },
   {
    "duration": 14,
    "start_time": "2022-06-09T16:48:09.253Z"
   },
   {
    "duration": 7,
    "start_time": "2022-06-09T16:48:09.269Z"
   },
   {
    "duration": 8,
    "start_time": "2022-06-09T16:48:09.278Z"
   },
   {
    "duration": 38,
    "start_time": "2022-06-09T16:48:09.288Z"
   },
   {
    "duration": 16,
    "start_time": "2022-06-09T16:48:09.329Z"
   },
   {
    "duration": 15,
    "start_time": "2022-06-09T16:48:09.347Z"
   },
   {
    "duration": 9822,
    "start_time": "2022-06-09T16:48:09.365Z"
   },
   {
    "duration": 22,
    "start_time": "2022-06-09T16:48:19.188Z"
   },
   {
    "duration": 479,
    "start_time": "2022-06-09T16:48:19.212Z"
   },
   {
    "duration": 264,
    "start_time": "2022-06-09T16:48:19.692Z"
   },
   {
    "duration": 284,
    "start_time": "2022-06-09T16:48:19.957Z"
   },
   {
    "duration": 158,
    "start_time": "2022-06-09T16:48:20.243Z"
   },
   {
    "duration": 168,
    "start_time": "2022-06-09T16:48:20.403Z"
   },
   {
    "duration": 5,
    "start_time": "2022-06-09T16:48:20.572Z"
   },
   {
    "duration": 30,
    "start_time": "2022-06-09T16:48:20.578Z"
   },
   {
    "duration": 26,
    "start_time": "2022-06-09T16:48:20.609Z"
   },
   {
    "duration": 18,
    "start_time": "2022-06-09T16:48:20.637Z"
   },
   {
    "duration": 18,
    "start_time": "2022-06-09T16:48:20.657Z"
   },
   {
    "duration": 9,
    "start_time": "2022-06-09T16:48:20.676Z"
   },
   {
    "duration": 183,
    "start_time": "2022-06-09T16:48:20.686Z"
   },
   {
    "duration": 3,
    "start_time": "2022-06-09T16:48:20.871Z"
   },
   {
    "duration": 40,
    "start_time": "2022-06-09T16:48:20.875Z"
   },
   {
    "duration": 239,
    "start_time": "2022-06-09T16:48:20.916Z"
   },
   {
    "duration": 34,
    "start_time": "2022-06-09T16:48:21.156Z"
   },
   {
    "duration": 120,
    "start_time": "2022-06-09T16:51:19.367Z"
   },
   {
    "duration": 164,
    "start_time": "2022-06-09T16:51:40.417Z"
   },
   {
    "duration": 1235,
    "start_time": "2022-06-09T17:51:16.266Z"
   },
   {
    "duration": 1135,
    "start_time": "2022-06-09T17:53:27.299Z"
   },
   {
    "duration": 1225,
    "start_time": "2022-06-09T17:54:31.959Z"
   },
   {
    "duration": 1881,
    "start_time": "2022-06-09T17:56:20.814Z"
   },
   {
    "duration": 49,
    "start_time": "2022-06-09T17:59:11.889Z"
   },
   {
    "duration": 23,
    "start_time": "2022-06-09T17:59:54.481Z"
   },
   {
    "duration": 9,
    "start_time": "2022-06-09T17:59:56.401Z"
   },
   {
    "duration": 485,
    "start_time": "2022-06-09T19:40:30.754Z"
   },
   {
    "duration": 458,
    "start_time": "2022-06-09T19:40:31.241Z"
   },
   {
    "duration": 235,
    "start_time": "2022-06-09T19:40:31.705Z"
   },
   {
    "duration": 29,
    "start_time": "2022-06-09T19:40:31.943Z"
   },
   {
    "duration": 58,
    "start_time": "2022-06-09T19:40:31.974Z"
   },
   {
    "duration": 11,
    "start_time": "2022-06-09T19:40:32.035Z"
   },
   {
    "duration": 40,
    "start_time": "2022-06-09T19:40:32.047Z"
   },
   {
    "duration": 73,
    "start_time": "2022-06-09T19:40:32.089Z"
   },
   {
    "duration": 71,
    "start_time": "2022-06-09T19:40:32.164Z"
   },
   {
    "duration": 11759,
    "start_time": "2022-06-09T19:40:32.238Z"
   },
   {
    "duration": 31,
    "start_time": "2022-06-09T19:40:43.998Z"
   },
   {
    "duration": 781,
    "start_time": "2022-06-09T19:40:44.031Z"
   },
   {
    "duration": 320,
    "start_time": "2022-06-09T19:40:44.824Z"
   },
   {
    "duration": 383,
    "start_time": "2022-06-09T19:40:45.147Z"
   },
   {
    "duration": 169,
    "start_time": "2022-06-09T19:40:45.532Z"
   },
   {
    "duration": 195,
    "start_time": "2022-06-09T19:40:45.705Z"
   },
   {
    "duration": 21,
    "start_time": "2022-06-09T19:40:45.906Z"
   },
   {
    "duration": 9,
    "start_time": "2022-06-09T19:40:45.928Z"
   },
   {
    "duration": 14,
    "start_time": "2022-06-09T19:40:45.938Z"
   },
   {
    "duration": 0,
    "start_time": "2022-06-09T19:40:45.953Z"
   },
   {
    "duration": 0,
    "start_time": "2022-06-09T19:40:45.955Z"
   },
   {
    "duration": 0,
    "start_time": "2022-06-09T19:40:45.956Z"
   },
   {
    "duration": 0,
    "start_time": "2022-06-09T19:40:45.957Z"
   },
   {
    "duration": 0,
    "start_time": "2022-06-09T19:40:45.958Z"
   },
   {
    "duration": 0,
    "start_time": "2022-06-09T19:40:45.960Z"
   },
   {
    "duration": 2529,
    "start_time": "2022-06-09T19:47:23.410Z"
   },
   {
    "duration": 7,
    "start_time": "2022-06-09T19:54:04.120Z"
   },
   {
    "duration": 2947,
    "start_time": "2022-06-09T19:54:26.942Z"
   },
   {
    "duration": 329,
    "start_time": "2022-06-09T19:55:12.608Z"
   },
   {
    "duration": 15,
    "start_time": "2022-06-09T19:57:16.420Z"
   },
   {
    "duration": 3927,
    "start_time": "2022-06-09T19:57:19.427Z"
   },
   {
    "duration": 10,
    "start_time": "2022-06-09T20:01:01.007Z"
   },
   {
    "duration": 3704,
    "start_time": "2022-06-09T20:01:04.324Z"
   },
   {
    "duration": 413,
    "start_time": "2022-06-10T13:44:40.504Z"
   },
   {
    "duration": 312,
    "start_time": "2022-06-10T13:44:40.919Z"
   },
   {
    "duration": 167,
    "start_time": "2022-06-10T13:44:41.232Z"
   },
   {
    "duration": 26,
    "start_time": "2022-06-10T13:44:41.401Z"
   },
   {
    "duration": 7,
    "start_time": "2022-06-10T13:44:41.429Z"
   },
   {
    "duration": 8,
    "start_time": "2022-06-10T13:44:41.437Z"
   },
   {
    "duration": 7,
    "start_time": "2022-06-10T13:44:41.447Z"
   },
   {
    "duration": 12,
    "start_time": "2022-06-10T13:44:41.455Z"
   },
   {
    "duration": 12,
    "start_time": "2022-06-10T13:44:41.468Z"
   },
   {
    "duration": 9617,
    "start_time": "2022-06-10T13:44:41.481Z"
   },
   {
    "duration": 31,
    "start_time": "2022-06-10T13:44:51.100Z"
   },
   {
    "duration": 588,
    "start_time": "2022-06-10T13:44:51.133Z"
   },
   {
    "duration": 215,
    "start_time": "2022-06-10T13:44:51.728Z"
   },
   {
    "duration": 279,
    "start_time": "2022-06-10T13:44:51.946Z"
   },
   {
    "duration": 137,
    "start_time": "2022-06-10T13:44:52.226Z"
   },
   {
    "duration": 152,
    "start_time": "2022-06-10T13:44:52.365Z"
   },
   {
    "duration": 10,
    "start_time": "2022-06-10T13:44:52.519Z"
   },
   {
    "duration": 17,
    "start_time": "2022-06-10T13:44:52.531Z"
   },
   {
    "duration": 17,
    "start_time": "2022-06-10T13:44:52.550Z"
   },
   {
    "duration": 2212,
    "start_time": "2022-06-10T13:44:52.568Z"
   },
   {
    "duration": 9,
    "start_time": "2022-06-10T13:44:54.784Z"
   },
   {
    "duration": 13,
    "start_time": "2022-06-10T13:44:54.795Z"
   },
   {
    "duration": 32,
    "start_time": "2022-06-10T13:44:54.810Z"
   },
   {
    "duration": 184,
    "start_time": "2022-06-10T13:44:54.844Z"
   },
   {
    "duration": 36,
    "start_time": "2022-06-10T13:44:55.030Z"
   },
   {
    "duration": 4,
    "start_time": "2022-06-10T13:49:34.446Z"
   },
   {
    "duration": 394,
    "start_time": "2022-06-12T22:27:54.227Z"
   },
   {
    "duration": 178,
    "start_time": "2022-06-12T22:27:54.624Z"
   },
   {
    "duration": 200,
    "start_time": "2022-06-12T22:27:54.804Z"
   },
   {
    "duration": 17,
    "start_time": "2022-06-12T22:27:55.006Z"
   },
   {
    "duration": 8,
    "start_time": "2022-06-12T22:27:55.025Z"
   },
   {
    "duration": 42,
    "start_time": "2022-06-12T22:27:55.035Z"
   },
   {
    "duration": 10,
    "start_time": "2022-06-12T22:27:55.079Z"
   },
   {
    "duration": 15,
    "start_time": "2022-06-12T22:27:55.090Z"
   },
   {
    "duration": 14,
    "start_time": "2022-06-12T22:27:55.106Z"
   },
   {
    "duration": 10429,
    "start_time": "2022-06-12T22:27:55.122Z"
   },
   {
    "duration": 34,
    "start_time": "2022-06-12T22:28:05.553Z"
   },
   {
    "duration": 691,
    "start_time": "2022-06-12T22:28:05.588Z"
   },
   {
    "duration": 257,
    "start_time": "2022-06-12T22:28:06.281Z"
   },
   {
    "duration": 356,
    "start_time": "2022-06-12T22:28:06.540Z"
   },
   {
    "duration": 151,
    "start_time": "2022-06-12T22:28:06.898Z"
   },
   {
    "duration": 170,
    "start_time": "2022-06-12T22:28:07.050Z"
   },
   {
    "duration": 7,
    "start_time": "2022-06-12T22:28:07.221Z"
   },
   {
    "duration": 5,
    "start_time": "2022-06-12T22:28:07.230Z"
   },
   {
    "duration": 35,
    "start_time": "2022-06-12T22:28:07.237Z"
   },
   {
    "duration": 2709,
    "start_time": "2022-06-12T22:28:07.274Z"
   },
   {
    "duration": 8,
    "start_time": "2022-06-12T22:28:09.985Z"
   },
   {
    "duration": 7,
    "start_time": "2022-06-12T22:28:09.994Z"
   },
   {
    "duration": 34,
    "start_time": "2022-06-12T22:28:10.002Z"
   },
   {
    "duration": 238,
    "start_time": "2022-06-12T22:28:10.038Z"
   },
   {
    "duration": 43,
    "start_time": "2022-06-12T22:28:10.278Z"
   },
   {
    "duration": 373,
    "start_time": "2022-06-13T14:26:10.628Z"
   },
   {
    "duration": 153,
    "start_time": "2022-06-13T14:26:11.004Z"
   },
   {
    "duration": 167,
    "start_time": "2022-06-13T14:26:11.158Z"
   },
   {
    "duration": 14,
    "start_time": "2022-06-13T14:26:11.327Z"
   },
   {
    "duration": 7,
    "start_time": "2022-06-13T14:26:11.342Z"
   },
   {
    "duration": 8,
    "start_time": "2022-06-13T14:26:11.350Z"
   },
   {
    "duration": 40,
    "start_time": "2022-06-13T14:26:11.360Z"
   },
   {
    "duration": 18,
    "start_time": "2022-06-13T14:26:11.402Z"
   },
   {
    "duration": 12,
    "start_time": "2022-06-13T14:26:11.422Z"
   },
   {
    "duration": 9892,
    "start_time": "2022-06-13T14:26:11.437Z"
   },
   {
    "duration": 22,
    "start_time": "2022-06-13T14:26:21.331Z"
   },
   {
    "duration": 567,
    "start_time": "2022-06-13T14:26:21.354Z"
   },
   {
    "duration": 226,
    "start_time": "2022-06-13T14:26:21.923Z"
   },
   {
    "duration": 338,
    "start_time": "2022-06-13T14:26:22.151Z"
   },
   {
    "duration": 161,
    "start_time": "2022-06-13T14:26:22.499Z"
   },
   {
    "duration": 191,
    "start_time": "2022-06-13T14:26:22.662Z"
   },
   {
    "duration": 7,
    "start_time": "2022-06-13T14:26:22.855Z"
   },
   {
    "duration": 5,
    "start_time": "2022-06-13T14:26:22.864Z"
   },
   {
    "duration": 32,
    "start_time": "2022-06-13T14:26:22.871Z"
   },
   {
    "duration": 2808,
    "start_time": "2022-06-13T14:26:22.906Z"
   },
   {
    "duration": 9,
    "start_time": "2022-06-13T14:26:25.717Z"
   },
   {
    "duration": 9,
    "start_time": "2022-06-13T14:26:25.727Z"
   },
   {
    "duration": 33,
    "start_time": "2022-06-13T14:26:25.737Z"
   },
   {
    "duration": 270,
    "start_time": "2022-06-13T14:26:25.773Z"
   },
   {
    "duration": 41,
    "start_time": "2022-06-13T14:26:26.045Z"
   },
   {
    "duration": 6,
    "start_time": "2022-06-13T14:37:08.640Z"
   },
   {
    "duration": 171,
    "start_time": "2022-06-13T14:41:30.278Z"
   },
   {
    "duration": 78,
    "start_time": "2022-06-13T14:42:54.234Z"
   },
   {
    "duration": 490,
    "start_time": "2022-06-13T14:44:17.347Z"
   },
   {
    "duration": 229,
    "start_time": "2022-06-13T14:44:40.734Z"
   },
   {
    "duration": 147,
    "start_time": "2022-06-13T14:45:41.141Z"
   },
   {
    "duration": 166,
    "start_time": "2022-06-13T14:46:00.006Z"
   },
   {
    "duration": 150,
    "start_time": "2022-06-13T14:46:12.586Z"
   },
   {
    "duration": 206,
    "start_time": "2022-06-13T14:47:04.843Z"
   },
   {
    "duration": 387,
    "start_time": "2022-06-13T14:47:12.920Z"
   },
   {
    "duration": 97,
    "start_time": "2022-06-13T14:47:13.309Z"
   },
   {
    "duration": 180,
    "start_time": "2022-06-13T14:47:13.407Z"
   },
   {
    "duration": 19,
    "start_time": "2022-06-13T14:47:13.589Z"
   },
   {
    "duration": 12,
    "start_time": "2022-06-13T14:47:13.611Z"
   },
   {
    "duration": 12,
    "start_time": "2022-06-13T14:47:13.624Z"
   },
   {
    "duration": 7,
    "start_time": "2022-06-13T14:47:13.638Z"
   },
   {
    "duration": 12,
    "start_time": "2022-06-13T14:47:13.646Z"
   },
   {
    "duration": 12,
    "start_time": "2022-06-13T14:47:13.659Z"
   },
   {
    "duration": 10112,
    "start_time": "2022-06-13T14:47:13.673Z"
   },
   {
    "duration": 42,
    "start_time": "2022-06-13T14:47:23.787Z"
   },
   {
    "duration": 457,
    "start_time": "2022-06-13T14:47:23.831Z"
   },
   {
    "duration": 236,
    "start_time": "2022-06-13T14:47:24.289Z"
   },
   {
    "duration": 283,
    "start_time": "2022-06-13T14:47:24.527Z"
   },
   {
    "duration": 141,
    "start_time": "2022-06-13T14:47:24.812Z"
   },
   {
    "duration": 168,
    "start_time": "2022-06-13T14:47:24.954Z"
   },
   {
    "duration": 5,
    "start_time": "2022-06-13T14:47:25.124Z"
   },
   {
    "duration": 10,
    "start_time": "2022-06-13T14:47:25.130Z"
   },
   {
    "duration": 31,
    "start_time": "2022-06-13T14:47:25.141Z"
   },
   {
    "duration": 180,
    "start_time": "2022-06-13T14:47:25.173Z"
   },
   {
    "duration": 109,
    "start_time": "2022-06-13T14:47:25.355Z"
   },
   {
    "duration": 0,
    "start_time": "2022-06-13T14:47:25.465Z"
   },
   {
    "duration": 0,
    "start_time": "2022-06-13T14:47:25.467Z"
   },
   {
    "duration": 0,
    "start_time": "2022-06-13T14:47:25.468Z"
   },
   {
    "duration": 0,
    "start_time": "2022-06-13T14:47:25.469Z"
   },
   {
    "duration": 0,
    "start_time": "2022-06-13T14:47:25.470Z"
   },
   {
    "duration": 227,
    "start_time": "2022-06-13T14:48:00.222Z"
   },
   {
    "duration": 160,
    "start_time": "2022-06-13T14:56:48.691Z"
   },
   {
    "duration": 156,
    "start_time": "2022-06-13T15:08:37.355Z"
   },
   {
    "duration": 155,
    "start_time": "2022-06-13T15:09:58.106Z"
   },
   {
    "duration": 10,
    "start_time": "2022-06-13T15:11:14.487Z"
   },
   {
    "duration": 20,
    "start_time": "2022-06-13T15:11:28.590Z"
   },
   {
    "duration": 32,
    "start_time": "2022-06-13T15:13:37.398Z"
   },
   {
    "duration": 150,
    "start_time": "2022-06-13T15:13:49.492Z"
   },
   {
    "duration": 30,
    "start_time": "2022-06-13T15:16:16.143Z"
   },
   {
    "duration": 220,
    "start_time": "2022-06-13T15:16:41.192Z"
   },
   {
    "duration": 403,
    "start_time": "2022-06-13T15:17:26.870Z"
   },
   {
    "duration": 99,
    "start_time": "2022-06-13T15:17:27.274Z"
   },
   {
    "duration": 235,
    "start_time": "2022-06-13T15:17:27.376Z"
   },
   {
    "duration": 19,
    "start_time": "2022-06-13T15:17:27.614Z"
   },
   {
    "duration": 10,
    "start_time": "2022-06-13T15:17:27.635Z"
   },
   {
    "duration": 12,
    "start_time": "2022-06-13T15:17:27.648Z"
   },
   {
    "duration": 38,
    "start_time": "2022-06-13T15:17:27.663Z"
   },
   {
    "duration": 13,
    "start_time": "2022-06-13T15:17:27.703Z"
   },
   {
    "duration": 13,
    "start_time": "2022-06-13T15:17:27.717Z"
   },
   {
    "duration": 9509,
    "start_time": "2022-06-13T15:17:27.733Z"
   },
   {
    "duration": 22,
    "start_time": "2022-06-13T15:17:37.243Z"
   },
   {
    "duration": 457,
    "start_time": "2022-06-13T15:17:37.267Z"
   },
   {
    "duration": 213,
    "start_time": "2022-06-13T15:17:37.726Z"
   },
   {
    "duration": 304,
    "start_time": "2022-06-13T15:17:37.941Z"
   },
   {
    "duration": 138,
    "start_time": "2022-06-13T15:17:38.247Z"
   },
   {
    "duration": 139,
    "start_time": "2022-06-13T15:17:38.394Z"
   },
   {
    "duration": 5,
    "start_time": "2022-06-13T15:17:38.534Z"
   },
   {
    "duration": 7,
    "start_time": "2022-06-13T15:17:38.541Z"
   },
   {
    "duration": 8,
    "start_time": "2022-06-13T15:17:38.549Z"
   },
   {
    "duration": 162,
    "start_time": "2022-06-13T15:17:38.559Z"
   },
   {
    "duration": 153,
    "start_time": "2022-06-13T15:17:38.722Z"
   },
   {
    "duration": 7,
    "start_time": "2022-06-13T15:17:38.876Z"
   },
   {
    "duration": 3,
    "start_time": "2022-06-13T15:17:38.894Z"
   },
   {
    "duration": 31,
    "start_time": "2022-06-13T15:17:38.898Z"
   },
   {
    "duration": 201,
    "start_time": "2022-06-13T15:17:38.931Z"
   },
   {
    "duration": 38,
    "start_time": "2022-06-13T15:17:39.136Z"
   },
   {
    "duration": 117,
    "start_time": "2022-06-13T15:20:53.219Z"
   },
   {
    "duration": 29,
    "start_time": "2022-06-13T15:21:21.076Z"
   },
   {
    "duration": 161,
    "start_time": "2022-06-13T15:21:34.849Z"
   },
   {
    "duration": 393,
    "start_time": "2022-06-13T15:22:29.171Z"
   },
   {
    "duration": 94,
    "start_time": "2022-06-13T15:22:29.566Z"
   },
   {
    "duration": 185,
    "start_time": "2022-06-13T15:22:29.662Z"
   },
   {
    "duration": 13,
    "start_time": "2022-06-13T15:22:29.849Z"
   },
   {
    "duration": 7,
    "start_time": "2022-06-13T15:22:29.863Z"
   },
   {
    "duration": 29,
    "start_time": "2022-06-13T15:22:29.871Z"
   },
   {
    "duration": 7,
    "start_time": "2022-06-13T15:22:29.903Z"
   },
   {
    "duration": 11,
    "start_time": "2022-06-13T15:22:29.912Z"
   },
   {
    "duration": 12,
    "start_time": "2022-06-13T15:22:29.924Z"
   },
   {
    "duration": 9315,
    "start_time": "2022-06-13T15:22:29.938Z"
   },
   {
    "duration": 21,
    "start_time": "2022-06-13T15:22:39.255Z"
   },
   {
    "duration": 460,
    "start_time": "2022-06-13T15:22:39.277Z"
   },
   {
    "duration": 223,
    "start_time": "2022-06-13T15:22:39.738Z"
   },
   {
    "duration": 287,
    "start_time": "2022-06-13T15:22:39.963Z"
   },
   {
    "duration": 124,
    "start_time": "2022-06-13T15:22:40.251Z"
   },
   {
    "duration": 143,
    "start_time": "2022-06-13T15:22:40.377Z"
   },
   {
    "duration": 4,
    "start_time": "2022-06-13T15:22:40.522Z"
   },
   {
    "duration": 15,
    "start_time": "2022-06-13T15:22:40.527Z"
   },
   {
    "duration": 11,
    "start_time": "2022-06-13T15:22:40.544Z"
   },
   {
    "duration": 140,
    "start_time": "2022-06-13T15:22:40.556Z"
   },
   {
    "duration": 156,
    "start_time": "2022-06-13T15:22:40.697Z"
   },
   {
    "duration": 7,
    "start_time": "2022-06-13T15:22:40.854Z"
   },
   {
    "duration": 17,
    "start_time": "2022-06-13T15:22:40.863Z"
   },
   {
    "duration": 39,
    "start_time": "2022-06-13T15:22:40.881Z"
   },
   {
    "duration": 172,
    "start_time": "2022-06-13T15:22:40.921Z"
   },
   {
    "duration": 34,
    "start_time": "2022-06-13T15:22:41.095Z"
   },
   {
    "duration": 167,
    "start_time": "2022-06-13T15:24:25.711Z"
   },
   {
    "duration": 143,
    "start_time": "2022-06-13T15:24:42.233Z"
   },
   {
    "duration": 149,
    "start_time": "2022-06-13T16:07:15.250Z"
   },
   {
    "duration": 369,
    "start_time": "2022-06-13T16:07:30.302Z"
   },
   {
    "duration": 95,
    "start_time": "2022-06-13T16:07:30.673Z"
   },
   {
    "duration": 167,
    "start_time": "2022-06-13T16:07:30.769Z"
   },
   {
    "duration": 14,
    "start_time": "2022-06-13T16:07:30.939Z"
   },
   {
    "duration": 7,
    "start_time": "2022-06-13T16:07:30.955Z"
   },
   {
    "duration": 12,
    "start_time": "2022-06-13T16:07:30.964Z"
   },
   {
    "duration": 9,
    "start_time": "2022-06-13T16:07:30.994Z"
   },
   {
    "duration": 37,
    "start_time": "2022-06-13T16:07:31.005Z"
   },
   {
    "duration": 35,
    "start_time": "2022-06-13T16:07:31.044Z"
   },
   {
    "duration": 9015,
    "start_time": "2022-06-13T16:07:31.082Z"
   },
   {
    "duration": 21,
    "start_time": "2022-06-13T16:07:40.099Z"
   },
   {
    "duration": 404,
    "start_time": "2022-06-13T16:07:40.121Z"
   },
   {
    "duration": 205,
    "start_time": "2022-06-13T16:07:40.527Z"
   },
   {
    "duration": 258,
    "start_time": "2022-06-13T16:07:40.733Z"
   },
   {
    "duration": 123,
    "start_time": "2022-06-13T16:07:40.994Z"
   },
   {
    "duration": 128,
    "start_time": "2022-06-13T16:07:41.118Z"
   },
   {
    "duration": 5,
    "start_time": "2022-06-13T16:07:41.247Z"
   },
   {
    "duration": 7,
    "start_time": "2022-06-13T16:07:41.253Z"
   },
   {
    "duration": 10,
    "start_time": "2022-06-13T16:07:41.262Z"
   },
   {
    "duration": 154,
    "start_time": "2022-06-13T16:07:41.273Z"
   },
   {
    "duration": 156,
    "start_time": "2022-06-13T16:07:41.429Z"
   },
   {
    "duration": 12,
    "start_time": "2022-06-13T16:07:41.586Z"
   },
   {
    "duration": 4,
    "start_time": "2022-06-13T16:07:41.599Z"
   },
   {
    "duration": 22,
    "start_time": "2022-06-13T16:07:41.605Z"
   },
   {
    "duration": 186,
    "start_time": "2022-06-13T16:07:41.628Z"
   },
   {
    "duration": 36,
    "start_time": "2022-06-13T16:07:41.816Z"
   },
   {
    "duration": 139,
    "start_time": "2022-06-13T16:08:04.375Z"
   },
   {
    "duration": 152,
    "start_time": "2022-06-13T16:08:15.607Z"
   },
   {
    "duration": 142,
    "start_time": "2022-06-13T16:08:36.495Z"
   },
   {
    "duration": 140,
    "start_time": "2022-06-13T16:09:14.373Z"
   },
   {
    "duration": 353,
    "start_time": "2022-06-13T16:09:39.126Z"
   },
   {
    "duration": 93,
    "start_time": "2022-06-13T16:09:39.481Z"
   },
   {
    "duration": 156,
    "start_time": "2022-06-13T16:09:39.576Z"
   },
   {
    "duration": 13,
    "start_time": "2022-06-13T16:09:39.734Z"
   },
   {
    "duration": 7,
    "start_time": "2022-06-13T16:09:39.748Z"
   },
   {
    "duration": 10,
    "start_time": "2022-06-13T16:09:39.756Z"
   },
   {
    "duration": 30,
    "start_time": "2022-06-13T16:09:39.767Z"
   },
   {
    "duration": 11,
    "start_time": "2022-06-13T16:09:39.799Z"
   },
   {
    "duration": 12,
    "start_time": "2022-06-13T16:09:39.811Z"
   },
   {
    "duration": 9012,
    "start_time": "2022-06-13T16:09:39.825Z"
   },
   {
    "duration": 21,
    "start_time": "2022-06-13T16:09:48.839Z"
   },
   {
    "duration": 404,
    "start_time": "2022-06-13T16:09:48.862Z"
   },
   {
    "duration": 210,
    "start_time": "2022-06-13T16:09:49.267Z"
   },
   {
    "duration": 263,
    "start_time": "2022-06-13T16:09:49.478Z"
   },
   {
    "duration": 122,
    "start_time": "2022-06-13T16:09:49.743Z"
   },
   {
    "duration": 133,
    "start_time": "2022-06-13T16:09:49.866Z"
   },
   {
    "duration": 6,
    "start_time": "2022-06-13T16:09:50.000Z"
   },
   {
    "duration": 6,
    "start_time": "2022-06-13T16:09:50.007Z"
   },
   {
    "duration": 8,
    "start_time": "2022-06-13T16:09:50.014Z"
   },
   {
    "duration": 175,
    "start_time": "2022-06-13T16:09:50.024Z"
   },
   {
    "duration": 147,
    "start_time": "2022-06-13T16:09:50.201Z"
   },
   {
    "duration": 7,
    "start_time": "2022-06-13T16:09:50.350Z"
   },
   {
    "duration": 6,
    "start_time": "2022-06-13T16:09:50.358Z"
   },
   {
    "duration": 35,
    "start_time": "2022-06-13T16:09:50.366Z"
   },
   {
    "duration": 176,
    "start_time": "2022-06-13T16:09:50.403Z"
   },
   {
    "duration": 44,
    "start_time": "2022-06-13T16:09:50.581Z"
   },
   {
    "duration": 393,
    "start_time": "2022-06-13T16:11:28.195Z"
   },
   {
    "duration": 104,
    "start_time": "2022-06-13T16:11:28.590Z"
   },
   {
    "duration": 182,
    "start_time": "2022-06-13T16:11:28.696Z"
   },
   {
    "duration": 23,
    "start_time": "2022-06-13T16:11:28.880Z"
   },
   {
    "duration": 6,
    "start_time": "2022-06-13T16:11:28.904Z"
   },
   {
    "duration": 10,
    "start_time": "2022-06-13T16:11:28.912Z"
   },
   {
    "duration": 13,
    "start_time": "2022-06-13T16:11:28.923Z"
   },
   {
    "duration": 22,
    "start_time": "2022-06-13T16:11:28.937Z"
   },
   {
    "duration": 12,
    "start_time": "2022-06-13T16:11:28.961Z"
   },
   {
    "duration": 9480,
    "start_time": "2022-06-13T16:11:28.975Z"
   },
   {
    "duration": 21,
    "start_time": "2022-06-13T16:11:38.456Z"
   },
   {
    "duration": 411,
    "start_time": "2022-06-13T16:11:38.479Z"
   },
   {
    "duration": 225,
    "start_time": "2022-06-13T16:11:38.894Z"
   },
   {
    "duration": 281,
    "start_time": "2022-06-13T16:11:39.121Z"
   },
   {
    "duration": 124,
    "start_time": "2022-06-13T16:11:39.404Z"
   },
   {
    "duration": 143,
    "start_time": "2022-06-13T16:11:39.529Z"
   },
   {
    "duration": 5,
    "start_time": "2022-06-13T16:11:39.673Z"
   },
   {
    "duration": 16,
    "start_time": "2022-06-13T16:11:39.680Z"
   },
   {
    "duration": 9,
    "start_time": "2022-06-13T16:11:39.698Z"
   },
   {
    "duration": 172,
    "start_time": "2022-06-13T16:11:39.709Z"
   },
   {
    "duration": 166,
    "start_time": "2022-06-13T16:11:39.883Z"
   },
   {
    "duration": 9,
    "start_time": "2022-06-13T16:11:40.051Z"
   },
   {
    "duration": 11,
    "start_time": "2022-06-13T16:11:40.061Z"
   },
   {
    "duration": 34,
    "start_time": "2022-06-13T16:11:40.074Z"
   },
   {
    "duration": 183,
    "start_time": "2022-06-13T16:11:40.109Z"
   },
   {
    "duration": 39,
    "start_time": "2022-06-13T16:11:40.296Z"
   },
   {
    "duration": 153,
    "start_time": "2022-06-13T16:13:25.936Z"
   },
   {
    "duration": 140,
    "start_time": "2022-06-13T16:13:59.406Z"
   },
   {
    "duration": 159,
    "start_time": "2022-06-13T16:15:37.027Z"
   },
   {
    "duration": 160,
    "start_time": "2022-06-13T16:16:02.132Z"
   },
   {
    "duration": 226,
    "start_time": "2022-06-13T16:16:26.911Z"
   },
   {
    "duration": 7,
    "start_time": "2022-06-13T16:16:59.172Z"
   },
   {
    "duration": 146,
    "start_time": "2022-06-13T16:17:03.404Z"
   },
   {
    "duration": 159,
    "start_time": "2022-06-13T16:17:09.402Z"
   },
   {
    "duration": 8,
    "start_time": "2022-06-13T16:17:53.233Z"
   },
   {
    "duration": 154,
    "start_time": "2022-06-13T16:17:55.531Z"
   },
   {
    "duration": 177,
    "start_time": "2022-06-13T16:18:31.646Z"
   },
   {
    "duration": 9,
    "start_time": "2022-06-13T16:19:02.107Z"
   },
   {
    "duration": 153,
    "start_time": "2022-06-13T16:19:04.121Z"
   },
   {
    "duration": 182,
    "start_time": "2022-06-13T16:19:07.644Z"
   },
   {
    "duration": 5,
    "start_time": "2022-06-13T16:19:29.323Z"
   },
   {
    "duration": 167,
    "start_time": "2022-06-13T16:19:31.730Z"
   },
   {
    "duration": 168,
    "start_time": "2022-06-13T16:19:35.345Z"
   },
   {
    "duration": 5,
    "start_time": "2022-06-13T16:19:42.415Z"
   },
   {
    "duration": 152,
    "start_time": "2022-06-13T16:19:44.728Z"
   },
   {
    "duration": 179,
    "start_time": "2022-06-13T16:19:47.990Z"
   },
   {
    "duration": 357,
    "start_time": "2022-06-13T16:19:55.023Z"
   },
   {
    "duration": 105,
    "start_time": "2022-06-13T16:19:55.382Z"
   },
   {
    "duration": 176,
    "start_time": "2022-06-13T16:19:55.489Z"
   },
   {
    "duration": 24,
    "start_time": "2022-06-13T16:19:55.667Z"
   },
   {
    "duration": 8,
    "start_time": "2022-06-13T16:19:55.694Z"
   },
   {
    "duration": 18,
    "start_time": "2022-06-13T16:19:55.704Z"
   },
   {
    "duration": 7,
    "start_time": "2022-06-13T16:19:55.723Z"
   },
   {
    "duration": 12,
    "start_time": "2022-06-13T16:19:55.731Z"
   },
   {
    "duration": 11,
    "start_time": "2022-06-13T16:19:55.744Z"
   },
   {
    "duration": 10163,
    "start_time": "2022-06-13T16:19:55.757Z"
   },
   {
    "duration": 24,
    "start_time": "2022-06-13T16:20:05.921Z"
   },
   {
    "duration": 521,
    "start_time": "2022-06-13T16:20:05.946Z"
   },
   {
    "duration": 220,
    "start_time": "2022-06-13T16:20:06.469Z"
   },
   {
    "duration": 286,
    "start_time": "2022-06-13T16:20:06.696Z"
   },
   {
    "duration": 141,
    "start_time": "2022-06-13T16:20:06.984Z"
   },
   {
    "duration": 142,
    "start_time": "2022-06-13T16:20:07.126Z"
   },
   {
    "duration": 4,
    "start_time": "2022-06-13T16:20:07.270Z"
   },
   {
    "duration": 18,
    "start_time": "2022-06-13T16:20:07.276Z"
   },
   {
    "duration": 15,
    "start_time": "2022-06-13T16:20:07.296Z"
   },
   {
    "duration": 204,
    "start_time": "2022-06-13T16:20:07.313Z"
   },
   {
    "duration": 202,
    "start_time": "2022-06-13T16:20:07.520Z"
   },
   {
    "duration": 7,
    "start_time": "2022-06-13T16:20:07.724Z"
   },
   {
    "duration": 5,
    "start_time": "2022-06-13T16:20:07.733Z"
   },
   {
    "duration": 23,
    "start_time": "2022-06-13T16:20:07.739Z"
   },
   {
    "duration": 215,
    "start_time": "2022-06-13T16:20:07.764Z"
   },
   {
    "duration": 54,
    "start_time": "2022-06-13T16:20:07.981Z"
   },
   {
    "duration": 7,
    "start_time": "2022-06-13T16:21:10.320Z"
   },
   {
    "duration": 152,
    "start_time": "2022-06-13T16:21:12.751Z"
   },
   {
    "duration": 6,
    "start_time": "2022-06-13T16:21:32.363Z"
   },
   {
    "duration": 172,
    "start_time": "2022-06-13T16:21:34.645Z"
   },
   {
    "duration": 178,
    "start_time": "2022-06-13T16:21:40.990Z"
   },
   {
    "duration": 168,
    "start_time": "2022-06-13T16:21:44.091Z"
   },
   {
    "duration": 373,
    "start_time": "2022-06-13T16:21:52.508Z"
   },
   {
    "duration": 101,
    "start_time": "2022-06-13T16:21:52.883Z"
   },
   {
    "duration": 172,
    "start_time": "2022-06-13T16:21:52.985Z"
   },
   {
    "duration": 13,
    "start_time": "2022-06-13T16:21:53.158Z"
   },
   {
    "duration": 22,
    "start_time": "2022-06-13T16:21:53.173Z"
   },
   {
    "duration": 11,
    "start_time": "2022-06-13T16:21:53.197Z"
   },
   {
    "duration": 11,
    "start_time": "2022-06-13T16:21:53.210Z"
   },
   {
    "duration": 11,
    "start_time": "2022-06-13T16:21:53.222Z"
   },
   {
    "duration": 12,
    "start_time": "2022-06-13T16:21:53.235Z"
   },
   {
    "duration": 9998,
    "start_time": "2022-06-13T16:21:53.248Z"
   },
   {
    "duration": 22,
    "start_time": "2022-06-13T16:22:03.247Z"
   },
   {
    "duration": 444,
    "start_time": "2022-06-13T16:22:03.271Z"
   },
   {
    "duration": 267,
    "start_time": "2022-06-13T16:22:03.716Z"
   },
   {
    "duration": 296,
    "start_time": "2022-06-13T16:22:03.986Z"
   },
   {
    "duration": 148,
    "start_time": "2022-06-13T16:22:04.283Z"
   },
   {
    "duration": 137,
    "start_time": "2022-06-13T16:22:04.433Z"
   },
   {
    "duration": 5,
    "start_time": "2022-06-13T16:22:04.572Z"
   },
   {
    "duration": 18,
    "start_time": "2022-06-13T16:22:04.578Z"
   },
   {
    "duration": 9,
    "start_time": "2022-06-13T16:22:04.598Z"
   },
   {
    "duration": 161,
    "start_time": "2022-06-13T16:22:04.609Z"
   },
   {
    "duration": 172,
    "start_time": "2022-06-13T16:22:04.773Z"
   },
   {
    "duration": 7,
    "start_time": "2022-06-13T16:22:04.947Z"
   },
   {
    "duration": 6,
    "start_time": "2022-06-13T16:22:04.956Z"
   },
   {
    "duration": 33,
    "start_time": "2022-06-13T16:22:04.964Z"
   },
   {
    "duration": 192,
    "start_time": "2022-06-13T16:22:04.998Z"
   },
   {
    "duration": 42,
    "start_time": "2022-06-13T16:22:05.191Z"
   },
   {
    "duration": 212,
    "start_time": "2022-06-13T16:24:38.623Z"
   },
   {
    "duration": 9,
    "start_time": "2022-06-13T16:25:21.932Z"
   },
   {
    "duration": 410,
    "start_time": "2022-06-13T16:25:28.773Z"
   },
   {
    "duration": 92,
    "start_time": "2022-06-13T16:25:29.185Z"
   },
   {
    "duration": 159,
    "start_time": "2022-06-13T16:25:29.278Z"
   },
   {
    "duration": 13,
    "start_time": "2022-06-13T16:25:29.439Z"
   },
   {
    "duration": 8,
    "start_time": "2022-06-13T16:25:29.453Z"
   },
   {
    "duration": 13,
    "start_time": "2022-06-13T16:25:29.463Z"
   },
   {
    "duration": 21,
    "start_time": "2022-06-13T16:25:29.478Z"
   },
   {
    "duration": 28,
    "start_time": "2022-06-13T16:25:29.501Z"
   },
   {
    "duration": 17,
    "start_time": "2022-06-13T16:25:29.531Z"
   },
   {
    "duration": 9274,
    "start_time": "2022-06-13T16:25:29.551Z"
   },
   {
    "duration": 22,
    "start_time": "2022-06-13T16:25:38.827Z"
   },
   {
    "duration": 419,
    "start_time": "2022-06-13T16:25:38.851Z"
   },
   {
    "duration": 207,
    "start_time": "2022-06-13T16:25:39.272Z"
   },
   {
    "duration": 269,
    "start_time": "2022-06-13T16:25:39.481Z"
   },
   {
    "duration": 123,
    "start_time": "2022-06-13T16:25:39.752Z"
   },
   {
    "duration": 142,
    "start_time": "2022-06-13T16:25:39.877Z"
   },
   {
    "duration": 5,
    "start_time": "2022-06-13T16:25:40.020Z"
   },
   {
    "duration": 5,
    "start_time": "2022-06-13T16:25:40.027Z"
   },
   {
    "duration": 10,
    "start_time": "2022-06-13T16:25:40.033Z"
   },
   {
    "duration": 177,
    "start_time": "2022-06-13T16:25:40.045Z"
   },
   {
    "duration": 160,
    "start_time": "2022-06-13T16:25:40.223Z"
   },
   {
    "duration": 13,
    "start_time": "2022-06-13T16:25:40.384Z"
   },
   {
    "duration": 7,
    "start_time": "2022-06-13T16:25:40.399Z"
   },
   {
    "duration": 23,
    "start_time": "2022-06-13T16:25:40.408Z"
   },
   {
    "duration": 180,
    "start_time": "2022-06-13T16:25:40.432Z"
   },
   {
    "duration": 38,
    "start_time": "2022-06-13T16:25:40.613Z"
   },
   {
    "duration": 74,
    "start_time": "2022-06-13T16:27:20.179Z"
   },
   {
    "duration": 17,
    "start_time": "2022-06-13T16:29:20.900Z"
   },
   {
    "duration": 9,
    "start_time": "2022-06-13T16:31:24.030Z"
   },
   {
    "duration": 11,
    "start_time": "2022-06-13T16:31:36.160Z"
   },
   {
    "duration": 4,
    "start_time": "2022-06-13T16:34:07.834Z"
   },
   {
    "duration": 32,
    "start_time": "2022-06-13T16:34:13.944Z"
   },
   {
    "duration": 8,
    "start_time": "2022-06-13T16:34:19.326Z"
   },
   {
    "duration": 20,
    "start_time": "2022-06-13T16:35:55.532Z"
   },
   {
    "duration": 139,
    "start_time": "2022-06-13T16:36:15.891Z"
   },
   {
    "duration": 18,
    "start_time": "2022-06-13T16:36:50.224Z"
   },
   {
    "duration": 11,
    "start_time": "2022-06-13T16:37:09.444Z"
   },
   {
    "duration": 344,
    "start_time": "2022-06-13T16:37:13.440Z"
   },
   {
    "duration": 116,
    "start_time": "2022-06-13T16:37:13.786Z"
   },
   {
    "duration": 172,
    "start_time": "2022-06-13T16:37:13.905Z"
   },
   {
    "duration": 28,
    "start_time": "2022-06-13T16:37:14.078Z"
   },
   {
    "duration": 7,
    "start_time": "2022-06-13T16:37:14.107Z"
   },
   {
    "duration": 8,
    "start_time": "2022-06-13T16:37:14.116Z"
   },
   {
    "duration": 7,
    "start_time": "2022-06-13T16:37:14.125Z"
   },
   {
    "duration": 12,
    "start_time": "2022-06-13T16:37:14.134Z"
   },
   {
    "duration": 12,
    "start_time": "2022-06-13T16:37:14.147Z"
   },
   {
    "duration": 9479,
    "start_time": "2022-06-13T16:37:14.161Z"
   },
   {
    "duration": 20,
    "start_time": "2022-06-13T16:37:23.642Z"
   },
   {
    "duration": 455,
    "start_time": "2022-06-13T16:37:23.664Z"
   },
   {
    "duration": 217,
    "start_time": "2022-06-13T16:37:24.120Z"
   },
   {
    "duration": 273,
    "start_time": "2022-06-13T16:37:24.339Z"
   },
   {
    "duration": 133,
    "start_time": "2022-06-13T16:37:24.614Z"
   },
   {
    "duration": 161,
    "start_time": "2022-06-13T16:37:24.749Z"
   },
   {
    "duration": 5,
    "start_time": "2022-06-13T16:37:24.912Z"
   },
   {
    "duration": 5,
    "start_time": "2022-06-13T16:37:24.919Z"
   },
   {
    "duration": 26,
    "start_time": "2022-06-13T16:37:24.925Z"
   },
   {
    "duration": 156,
    "start_time": "2022-06-13T16:37:24.954Z"
   },
   {
    "duration": 150,
    "start_time": "2022-06-13T16:37:25.111Z"
   },
   {
    "duration": 7,
    "start_time": "2022-06-13T16:37:25.263Z"
   },
   {
    "duration": 6,
    "start_time": "2022-06-13T16:37:25.271Z"
   },
   {
    "duration": 35,
    "start_time": "2022-06-13T16:37:25.278Z"
   },
   {
    "duration": 192,
    "start_time": "2022-06-13T16:37:25.314Z"
   },
   {
    "duration": 36,
    "start_time": "2022-06-13T16:37:25.508Z"
   },
   {
    "duration": 156,
    "start_time": "2022-06-13T16:39:14.385Z"
   },
   {
    "duration": 144,
    "start_time": "2022-06-13T16:39:34.084Z"
   },
   {
    "duration": 149,
    "start_time": "2022-06-13T16:40:06.869Z"
   },
   {
    "duration": 147,
    "start_time": "2022-06-13T16:40:26.025Z"
   },
   {
    "duration": 3,
    "start_time": "2022-06-13T16:41:06.711Z"
   },
   {
    "duration": 81,
    "start_time": "2022-06-13T16:42:33.560Z"
   },
   {
    "duration": 21,
    "start_time": "2022-06-13T16:42:51.971Z"
   },
   {
    "duration": 12,
    "start_time": "2022-06-13T16:42:56.452Z"
   },
   {
    "duration": 12,
    "start_time": "2022-06-13T16:43:01.839Z"
   },
   {
    "duration": 375,
    "start_time": "2022-06-13T16:43:08.407Z"
   },
   {
    "duration": 94,
    "start_time": "2022-06-13T16:43:08.784Z"
   },
   {
    "duration": 166,
    "start_time": "2022-06-13T16:43:08.880Z"
   },
   {
    "duration": 12,
    "start_time": "2022-06-13T16:43:09.048Z"
   },
   {
    "duration": 6,
    "start_time": "2022-06-13T16:43:09.062Z"
   },
   {
    "duration": 33,
    "start_time": "2022-06-13T16:43:09.070Z"
   },
   {
    "duration": 7,
    "start_time": "2022-06-13T16:43:09.105Z"
   },
   {
    "duration": 12,
    "start_time": "2022-06-13T16:43:09.114Z"
   },
   {
    "duration": 11,
    "start_time": "2022-06-13T16:43:09.128Z"
   },
   {
    "duration": 9276,
    "start_time": "2022-06-13T16:43:09.140Z"
   },
   {
    "duration": 21,
    "start_time": "2022-06-13T16:43:18.418Z"
   },
   {
    "duration": 406,
    "start_time": "2022-06-13T16:43:18.440Z"
   },
   {
    "duration": 212,
    "start_time": "2022-06-13T16:43:18.847Z"
   },
   {
    "duration": 265,
    "start_time": "2022-06-13T16:43:19.062Z"
   },
   {
    "duration": 120,
    "start_time": "2022-06-13T16:43:19.329Z"
   },
   {
    "duration": 133,
    "start_time": "2022-06-13T16:43:19.450Z"
   },
   {
    "duration": 23,
    "start_time": "2022-06-13T16:43:19.585Z"
   },
   {
    "duration": 4,
    "start_time": "2022-06-13T16:43:19.609Z"
   },
   {
    "duration": 21,
    "start_time": "2022-06-13T16:43:19.615Z"
   },
   {
    "duration": 154,
    "start_time": "2022-06-13T16:43:19.637Z"
   },
   {
    "duration": 5,
    "start_time": "2022-06-13T16:43:19.794Z"
   },
   {
    "duration": 9,
    "start_time": "2022-06-13T16:43:19.808Z"
   },
   {
    "duration": 3,
    "start_time": "2022-06-13T16:43:19.819Z"
   },
   {
    "duration": 21,
    "start_time": "2022-06-13T16:43:19.823Z"
   },
   {
    "duration": 176,
    "start_time": "2022-06-13T16:43:19.845Z"
   },
   {
    "duration": 40,
    "start_time": "2022-06-13T16:43:20.023Z"
   },
   {
    "duration": 145,
    "start_time": "2022-06-13T16:43:31.020Z"
   },
   {
    "duration": 22,
    "start_time": "2022-06-13T16:44:45.821Z"
   },
   {
    "duration": 344,
    "start_time": "2022-06-13T16:44:53.066Z"
   },
   {
    "duration": 96,
    "start_time": "2022-06-13T16:44:53.412Z"
   },
   {
    "duration": 170,
    "start_time": "2022-06-13T16:44:53.510Z"
   },
   {
    "duration": 24,
    "start_time": "2022-06-13T16:44:53.682Z"
   },
   {
    "duration": 8,
    "start_time": "2022-06-13T16:44:53.709Z"
   },
   {
    "duration": 10,
    "start_time": "2022-06-13T16:44:53.718Z"
   },
   {
    "duration": 12,
    "start_time": "2022-06-13T16:44:53.729Z"
   },
   {
    "duration": 12,
    "start_time": "2022-06-13T16:44:53.743Z"
   },
   {
    "duration": 13,
    "start_time": "2022-06-13T16:44:53.757Z"
   },
   {
    "duration": 9556,
    "start_time": "2022-06-13T16:44:53.799Z"
   },
   {
    "duration": 24,
    "start_time": "2022-06-13T16:45:03.358Z"
   },
   {
    "duration": 450,
    "start_time": "2022-06-13T16:45:03.383Z"
   },
   {
    "duration": 237,
    "start_time": "2022-06-13T16:45:03.834Z"
   },
   {
    "duration": 290,
    "start_time": "2022-06-13T16:45:04.073Z"
   },
   {
    "duration": 142,
    "start_time": "2022-06-13T16:45:04.364Z"
   },
   {
    "duration": 123,
    "start_time": "2022-06-13T16:45:04.508Z"
   },
   {
    "duration": 5,
    "start_time": "2022-06-13T16:45:04.632Z"
   },
   {
    "duration": 7,
    "start_time": "2022-06-13T16:45:04.638Z"
   },
   {
    "duration": 28,
    "start_time": "2022-06-13T16:45:04.646Z"
   },
   {
    "duration": 182,
    "start_time": "2022-06-13T16:45:04.675Z"
   },
   {
    "duration": 3,
    "start_time": "2022-06-13T16:45:04.859Z"
   },
   {
    "duration": 9,
    "start_time": "2022-06-13T16:45:04.863Z"
   },
   {
    "duration": 5,
    "start_time": "2022-06-13T16:45:04.874Z"
   },
   {
    "duration": 45,
    "start_time": "2022-06-13T16:45:04.899Z"
   },
   {
    "duration": 171,
    "start_time": "2022-06-13T16:45:04.946Z"
   },
   {
    "duration": 36,
    "start_time": "2022-06-13T16:45:05.119Z"
   },
   {
    "duration": 150,
    "start_time": "2022-06-13T16:45:24.230Z"
   },
   {
    "duration": 37,
    "start_time": "2022-06-13T16:46:01.924Z"
   },
   {
    "duration": 403,
    "start_time": "2022-06-13T16:46:33.726Z"
   },
   {
    "duration": 95,
    "start_time": "2022-06-13T16:46:34.131Z"
   },
   {
    "duration": 180,
    "start_time": "2022-06-13T16:46:34.230Z"
   },
   {
    "duration": 12,
    "start_time": "2022-06-13T16:46:34.412Z"
   },
   {
    "duration": 6,
    "start_time": "2022-06-13T16:46:34.426Z"
   },
   {
    "duration": 8,
    "start_time": "2022-06-13T16:46:34.433Z"
   },
   {
    "duration": 7,
    "start_time": "2022-06-13T16:46:34.442Z"
   },
   {
    "duration": 11,
    "start_time": "2022-06-13T16:46:34.451Z"
   },
   {
    "duration": 44,
    "start_time": "2022-06-13T16:46:34.464Z"
   },
   {
    "duration": 9399,
    "start_time": "2022-06-13T16:46:34.510Z"
   },
   {
    "duration": 22,
    "start_time": "2022-06-13T16:46:43.911Z"
   },
   {
    "duration": 500,
    "start_time": "2022-06-13T16:46:43.935Z"
   },
   {
    "duration": 241,
    "start_time": "2022-06-13T16:46:44.438Z"
   },
   {
    "duration": 282,
    "start_time": "2022-06-13T16:46:44.681Z"
   },
   {
    "duration": 129,
    "start_time": "2022-06-13T16:46:44.965Z"
   },
   {
    "duration": 129,
    "start_time": "2022-06-13T16:46:45.100Z"
   },
   {
    "duration": 4,
    "start_time": "2022-06-13T16:46:45.230Z"
   },
   {
    "duration": 4,
    "start_time": "2022-06-13T16:46:45.236Z"
   },
   {
    "duration": 34,
    "start_time": "2022-06-13T16:46:45.242Z"
   },
   {
    "duration": 157,
    "start_time": "2022-06-13T16:46:45.294Z"
   },
   {
    "duration": 2,
    "start_time": "2022-06-13T16:46:45.452Z"
   },
   {
    "duration": 12,
    "start_time": "2022-06-13T16:46:45.456Z"
   },
   {
    "duration": 5,
    "start_time": "2022-06-13T16:46:45.470Z"
   },
   {
    "duration": 33,
    "start_time": "2022-06-13T16:46:45.476Z"
   },
   {
    "duration": 201,
    "start_time": "2022-06-13T16:46:45.511Z"
   },
   {
    "duration": 43,
    "start_time": "2022-06-13T16:46:45.715Z"
   },
   {
    "duration": 35,
    "start_time": "2022-06-13T16:47:56.705Z"
   },
   {
    "duration": 145,
    "start_time": "2022-06-13T16:48:00.173Z"
   },
   {
    "duration": 264,
    "start_time": "2022-06-13T16:57:08.263Z"
   },
   {
    "duration": 468,
    "start_time": "2022-06-13T17:00:26.846Z"
   },
   {
    "duration": 633,
    "start_time": "2022-06-13T17:02:24.472Z"
   },
   {
    "duration": 34,
    "start_time": "2022-06-13T17:09:00.658Z"
   },
   {
    "duration": 551,
    "start_time": "2022-06-13T17:09:14.460Z"
   },
   {
    "duration": 37,
    "start_time": "2022-06-13T17:10:38.306Z"
   },
   {
    "duration": 542,
    "start_time": "2022-06-13T17:10:40.963Z"
   },
   {
    "duration": 363,
    "start_time": "2022-06-13T17:10:49.442Z"
   },
   {
    "duration": 114,
    "start_time": "2022-06-13T17:10:49.811Z"
   },
   {
    "duration": 182,
    "start_time": "2022-06-13T17:10:49.927Z"
   },
   {
    "duration": 13,
    "start_time": "2022-06-13T17:10:50.111Z"
   },
   {
    "duration": 24,
    "start_time": "2022-06-13T17:10:50.125Z"
   },
   {
    "duration": 22,
    "start_time": "2022-06-13T17:10:50.151Z"
   },
   {
    "duration": 15,
    "start_time": "2022-06-13T17:10:50.175Z"
   },
   {
    "duration": 43,
    "start_time": "2022-06-13T17:10:50.192Z"
   },
   {
    "duration": 23,
    "start_time": "2022-06-13T17:10:50.237Z"
   },
   {
    "duration": 9441,
    "start_time": "2022-06-13T17:10:50.262Z"
   },
   {
    "duration": 21,
    "start_time": "2022-06-13T17:10:59.705Z"
   },
   {
    "duration": 422,
    "start_time": "2022-06-13T17:10:59.728Z"
   },
   {
    "duration": 229,
    "start_time": "2022-06-13T17:11:00.151Z"
   },
   {
    "duration": 296,
    "start_time": "2022-06-13T17:11:00.381Z"
   },
   {
    "duration": 141,
    "start_time": "2022-06-13T17:11:00.679Z"
   },
   {
    "duration": 140,
    "start_time": "2022-06-13T17:11:00.822Z"
   },
   {
    "duration": 6,
    "start_time": "2022-06-13T17:11:00.963Z"
   },
   {
    "duration": 13,
    "start_time": "2022-06-13T17:11:00.971Z"
   },
   {
    "duration": 54,
    "start_time": "2022-06-13T17:11:00.986Z"
   },
   {
    "duration": 584,
    "start_time": "2022-06-13T17:11:01.042Z"
   },
   {
    "duration": 3,
    "start_time": "2022-06-13T17:11:01.627Z"
   },
   {
    "duration": 9,
    "start_time": "2022-06-13T17:11:01.632Z"
   },
   {
    "duration": 10,
    "start_time": "2022-06-13T17:11:01.642Z"
   },
   {
    "duration": 23,
    "start_time": "2022-06-13T17:11:01.653Z"
   },
   {
    "duration": 247,
    "start_time": "2022-06-13T17:11:01.677Z"
   },
   {
    "duration": 41,
    "start_time": "2022-06-13T17:11:01.926Z"
   },
   {
    "duration": 39,
    "start_time": "2022-06-13T17:11:24.738Z"
   },
   {
    "duration": 590,
    "start_time": "2022-06-13T17:11:27.704Z"
   },
   {
    "duration": 614,
    "start_time": "2022-06-13T17:12:05.841Z"
   },
   {
    "duration": 549,
    "start_time": "2022-06-13T17:12:25.130Z"
   },
   {
    "duration": 748,
    "start_time": "2022-06-13T17:13:08.306Z"
   },
   {
    "duration": 524,
    "start_time": "2022-06-13T17:13:53.660Z"
   },
   {
    "duration": 389,
    "start_time": "2022-06-13T17:14:09.965Z"
   },
   {
    "duration": 101,
    "start_time": "2022-06-13T17:14:10.356Z"
   },
   {
    "duration": 169,
    "start_time": "2022-06-13T17:14:10.459Z"
   },
   {
    "duration": 12,
    "start_time": "2022-06-13T17:14:10.630Z"
   },
   {
    "duration": 6,
    "start_time": "2022-06-13T17:14:10.644Z"
   },
   {
    "duration": 8,
    "start_time": "2022-06-13T17:14:10.651Z"
   },
   {
    "duration": 7,
    "start_time": "2022-06-13T17:14:10.660Z"
   },
   {
    "duration": 22,
    "start_time": "2022-06-13T17:14:10.695Z"
   },
   {
    "duration": 11,
    "start_time": "2022-06-13T17:14:10.718Z"
   },
   {
    "duration": 9501,
    "start_time": "2022-06-13T17:14:10.731Z"
   },
   {
    "duration": 21,
    "start_time": "2022-06-13T17:14:20.233Z"
   },
   {
    "duration": 465,
    "start_time": "2022-06-13T17:14:20.256Z"
   },
   {
    "duration": 244,
    "start_time": "2022-06-13T17:14:20.723Z"
   },
   {
    "duration": 291,
    "start_time": "2022-06-13T17:14:20.969Z"
   },
   {
    "duration": 142,
    "start_time": "2022-06-13T17:14:21.261Z"
   },
   {
    "duration": 137,
    "start_time": "2022-06-13T17:14:21.412Z"
   },
   {
    "duration": 6,
    "start_time": "2022-06-13T17:14:21.550Z"
   },
   {
    "duration": 4,
    "start_time": "2022-06-13T17:14:21.557Z"
   },
   {
    "duration": 62,
    "start_time": "2022-06-13T17:14:21.562Z"
   },
   {
    "duration": 691,
    "start_time": "2022-06-13T17:14:21.625Z"
   },
   {
    "duration": 2,
    "start_time": "2022-06-13T17:14:22.317Z"
   },
   {
    "duration": 11,
    "start_time": "2022-06-13T17:14:22.321Z"
   },
   {
    "duration": 3,
    "start_time": "2022-06-13T17:14:22.334Z"
   },
   {
    "duration": 24,
    "start_time": "2022-06-13T17:14:22.339Z"
   },
   {
    "duration": 219,
    "start_time": "2022-06-13T17:14:22.365Z"
   },
   {
    "duration": 53,
    "start_time": "2022-06-13T17:14:22.586Z"
   },
   {
    "duration": 1195,
    "start_time": "2022-06-13T17:15:53.188Z"
   },
   {
    "duration": 920,
    "start_time": "2022-06-13T17:18:26.454Z"
   },
   {
    "duration": 34,
    "start_time": "2022-06-13T17:20:43.195Z"
   },
   {
    "duration": 380,
    "start_time": "2022-06-15T10:42:35.444Z"
   },
   {
    "duration": 324,
    "start_time": "2022-06-15T10:42:35.826Z"
   },
   {
    "duration": 202,
    "start_time": "2022-06-15T10:42:36.152Z"
   },
   {
    "duration": 21,
    "start_time": "2022-06-15T10:42:36.358Z"
   },
   {
    "duration": 24,
    "start_time": "2022-06-15T10:42:36.380Z"
   },
   {
    "duration": 11,
    "start_time": "2022-06-15T10:42:36.407Z"
   },
   {
    "duration": 12,
    "start_time": "2022-06-15T10:42:36.419Z"
   },
   {
    "duration": 16,
    "start_time": "2022-06-15T10:42:36.433Z"
   },
   {
    "duration": 14,
    "start_time": "2022-06-15T10:42:36.450Z"
   },
   {
    "duration": 10362,
    "start_time": "2022-06-15T10:42:36.466Z"
   },
   {
    "duration": 23,
    "start_time": "2022-06-15T10:42:46.830Z"
   },
   {
    "duration": 637,
    "start_time": "2022-06-15T10:42:46.855Z"
   },
   {
    "duration": 245,
    "start_time": "2022-06-15T10:42:47.496Z"
   },
   {
    "duration": 309,
    "start_time": "2022-06-15T10:42:47.743Z"
   },
   {
    "duration": 163,
    "start_time": "2022-06-15T10:42:48.054Z"
   },
   {
    "duration": 159,
    "start_time": "2022-06-15T10:42:48.219Z"
   },
   {
    "duration": 16,
    "start_time": "2022-06-15T10:42:48.380Z"
   },
   {
    "duration": 11,
    "start_time": "2022-06-15T10:42:48.398Z"
   },
   {
    "duration": 59,
    "start_time": "2022-06-15T10:42:48.411Z"
   },
   {
    "duration": 1216,
    "start_time": "2022-06-15T10:42:48.472Z"
   },
   {
    "duration": 3,
    "start_time": "2022-06-15T10:42:49.693Z"
   },
   {
    "duration": 34,
    "start_time": "2022-06-15T10:42:49.698Z"
   },
   {
    "duration": 8,
    "start_time": "2022-06-15T10:42:49.733Z"
   },
   {
    "duration": 29,
    "start_time": "2022-06-15T10:42:49.742Z"
   },
   {
    "duration": 192,
    "start_time": "2022-06-15T10:42:49.772Z"
   },
   {
    "duration": 51,
    "start_time": "2022-06-15T10:42:49.965Z"
   },
   {
    "duration": 169,
    "start_time": "2022-06-15T10:54:58.618Z"
   },
   {
    "duration": 172,
    "start_time": "2022-06-15T10:55:01.014Z"
   },
   {
    "duration": 255,
    "start_time": "2022-06-15T10:55:03.225Z"
   },
   {
    "duration": 167,
    "start_time": "2022-06-15T10:55:05.610Z"
   },
   {
    "duration": 182,
    "start_time": "2022-06-15T10:55:07.813Z"
   },
   {
    "duration": 152,
    "start_time": "2022-06-15T10:55:10.420Z"
   },
   {
    "duration": 137,
    "start_time": "2022-06-15T10:55:13.406Z"
   },
   {
    "duration": 182,
    "start_time": "2022-06-15T10:56:04.655Z"
   },
   {
    "duration": 177,
    "start_time": "2022-06-15T10:56:13.554Z"
   },
   {
    "duration": 6,
    "start_time": "2022-06-15T10:57:57.206Z"
   },
   {
    "duration": 5,
    "start_time": "2022-06-15T10:58:15.144Z"
   },
   {
    "duration": 5,
    "start_time": "2022-06-15T10:59:03.787Z"
   },
   {
    "duration": 7,
    "start_time": "2022-06-15T10:59:06.106Z"
   },
   {
    "duration": 16,
    "start_time": "2022-06-15T10:59:15.327Z"
   },
   {
    "duration": 3,
    "start_time": "2022-06-15T10:59:53.244Z"
   },
   {
    "duration": 22,
    "start_time": "2022-06-15T10:59:55.440Z"
   },
   {
    "duration": 383,
    "start_time": "2022-06-15T11:00:48.461Z"
   },
   {
    "duration": 220,
    "start_time": "2022-06-15T11:00:54.418Z"
   },
   {
    "duration": 35,
    "start_time": "2022-06-15T12:12:21.879Z"
   },
   {
    "duration": 362,
    "start_time": "2022-06-15T23:04:29.694Z"
   },
   {
    "duration": 319,
    "start_time": "2022-06-15T23:04:30.058Z"
   },
   {
    "duration": 196,
    "start_time": "2022-06-15T23:04:30.379Z"
   },
   {
    "duration": 17,
    "start_time": "2022-06-15T23:04:30.577Z"
   },
   {
    "duration": 22,
    "start_time": "2022-06-15T23:04:30.595Z"
   },
   {
    "duration": 18,
    "start_time": "2022-06-15T23:04:30.619Z"
   },
   {
    "duration": 23,
    "start_time": "2022-06-15T23:04:30.639Z"
   },
   {
    "duration": 49,
    "start_time": "2022-06-15T23:04:30.663Z"
   },
   {
    "duration": 13,
    "start_time": "2022-06-15T23:04:30.713Z"
   },
   {
    "duration": 9356,
    "start_time": "2022-06-15T23:04:30.729Z"
   },
   {
    "duration": 22,
    "start_time": "2022-06-15T23:04:40.086Z"
   },
   {
    "duration": 577,
    "start_time": "2022-06-15T23:04:40.109Z"
   },
   {
    "duration": 212,
    "start_time": "2022-06-15T23:04:40.688Z"
   },
   {
    "duration": 278,
    "start_time": "2022-06-15T23:04:40.901Z"
   },
   {
    "duration": 143,
    "start_time": "2022-06-15T23:04:41.181Z"
   },
   {
    "duration": 138,
    "start_time": "2022-06-15T23:04:41.325Z"
   },
   {
    "duration": 6,
    "start_time": "2022-06-15T23:04:41.464Z"
   },
   {
    "duration": 6,
    "start_time": "2022-06-15T23:04:41.471Z"
   },
   {
    "duration": 34,
    "start_time": "2022-06-15T23:04:41.478Z"
   },
   {
    "duration": 173,
    "start_time": "2022-06-15T23:04:41.514Z"
   },
   {
    "duration": 153,
    "start_time": "2022-06-15T23:04:41.689Z"
   },
   {
    "duration": 161,
    "start_time": "2022-06-15T23:04:41.843Z"
   },
   {
    "duration": 148,
    "start_time": "2022-06-15T23:04:42.005Z"
   },
   {
    "duration": 142,
    "start_time": "2022-06-15T23:04:42.154Z"
   },
   {
    "duration": 140,
    "start_time": "2022-06-15T23:04:42.297Z"
   },
   {
    "duration": 130,
    "start_time": "2022-06-15T23:04:42.438Z"
   },
   {
    "duration": 7,
    "start_time": "2022-06-15T23:04:42.570Z"
   },
   {
    "duration": 6,
    "start_time": "2022-06-15T23:04:42.579Z"
   },
   {
    "duration": 98,
    "start_time": "2022-06-15T23:04:42.586Z"
   },
   {
    "duration": 180,
    "start_time": "2022-06-15T23:04:42.686Z"
   },
   {
    "duration": 37,
    "start_time": "2022-06-15T23:04:42.868Z"
   },
   {
    "duration": 149,
    "start_time": "2022-06-15T23:06:23.331Z"
   },
   {
    "duration": 157,
    "start_time": "2022-06-15T23:06:28.462Z"
   },
   {
    "duration": 39,
    "start_time": "2022-06-15T23:10:25.572Z"
   },
   {
    "duration": 24,
    "start_time": "2022-06-15T23:25:35.716Z"
   },
   {
    "duration": 146,
    "start_time": "2022-06-15T23:25:41.644Z"
   },
   {
    "duration": 141,
    "start_time": "2022-06-15T23:30:33.398Z"
   },
   {
    "duration": 127,
    "start_time": "2022-06-15T23:30:56.996Z"
   },
   {
    "duration": 42,
    "start_time": "2022-06-15T23:39:09.207Z"
   },
   {
    "duration": 135,
    "start_time": "2022-06-15T23:39:35.344Z"
   },
   {
    "duration": 154,
    "start_time": "2022-06-15T23:40:50.462Z"
   },
   {
    "duration": 129,
    "start_time": "2022-06-15T23:43:44.792Z"
   },
   {
    "duration": 384,
    "start_time": "2022-06-18T18:17:34.781Z"
   },
   {
    "duration": 343,
    "start_time": "2022-06-18T18:17:35.167Z"
   },
   {
    "duration": 191,
    "start_time": "2022-06-18T18:17:35.511Z"
   },
   {
    "duration": 32,
    "start_time": "2022-06-18T18:17:35.704Z"
   },
   {
    "duration": 7,
    "start_time": "2022-06-18T18:17:35.739Z"
   },
   {
    "duration": 9,
    "start_time": "2022-06-18T18:17:35.748Z"
   },
   {
    "duration": 12,
    "start_time": "2022-06-18T18:17:35.760Z"
   },
   {
    "duration": 34,
    "start_time": "2022-06-18T18:17:35.774Z"
   },
   {
    "duration": 19,
    "start_time": "2022-06-18T18:17:35.811Z"
   },
   {
    "duration": 10018,
    "start_time": "2022-06-18T18:17:35.831Z"
   },
   {
    "duration": 22,
    "start_time": "2022-06-18T18:17:45.851Z"
   },
   {
    "duration": 666,
    "start_time": "2022-06-18T18:17:45.875Z"
   },
   {
    "duration": 235,
    "start_time": "2022-06-18T18:17:46.543Z"
   },
   {
    "duration": 325,
    "start_time": "2022-06-18T18:17:46.782Z"
   },
   {
    "duration": 173,
    "start_time": "2022-06-18T18:17:47.109Z"
   },
   {
    "duration": 186,
    "start_time": "2022-06-18T18:17:47.285Z"
   },
   {
    "duration": 6,
    "start_time": "2022-06-18T18:17:47.473Z"
   },
   {
    "duration": 8,
    "start_time": "2022-06-18T18:17:47.480Z"
   },
   {
    "duration": 73,
    "start_time": "2022-06-18T18:17:47.490Z"
   },
   {
    "duration": 187,
    "start_time": "2022-06-18T18:17:47.565Z"
   },
   {
    "duration": 253,
    "start_time": "2022-06-18T18:17:47.755Z"
   },
   {
    "duration": 202,
    "start_time": "2022-06-18T18:17:48.010Z"
   },
   {
    "duration": 175,
    "start_time": "2022-06-18T18:17:48.223Z"
   },
   {
    "duration": 165,
    "start_time": "2022-06-18T18:17:48.399Z"
   },
   {
    "duration": 179,
    "start_time": "2022-06-18T18:17:48.566Z"
   },
   {
    "duration": 151,
    "start_time": "2022-06-18T18:17:48.747Z"
   },
   {
    "duration": 8,
    "start_time": "2022-06-18T18:17:48.900Z"
   },
   {
    "duration": 143,
    "start_time": "2022-06-18T18:17:48.933Z"
   },
   {
    "duration": 188,
    "start_time": "2022-06-18T18:17:49.078Z"
   },
   {
    "duration": 286,
    "start_time": "2022-06-18T18:17:49.267Z"
   },
   {
    "duration": 367,
    "start_time": "2022-06-18T18:17:49.555Z"
   },
   {
    "duration": 277,
    "start_time": "2022-06-18T18:17:49.924Z"
   },
   {
    "duration": 280,
    "start_time": "2022-06-18T18:17:50.202Z"
   },
   {
    "duration": 273,
    "start_time": "2022-06-18T18:17:50.484Z"
   },
   {
    "duration": 402,
    "start_time": "2022-06-18T18:17:50.759Z"
   },
   {
    "duration": 147,
    "start_time": "2022-06-18T18:17:51.163Z"
   },
   {
    "duration": 163,
    "start_time": "2022-06-18T18:17:51.311Z"
   },
   {
    "duration": 384,
    "start_time": "2022-06-18T18:17:51.476Z"
   },
   {
    "duration": 156,
    "start_time": "2022-06-18T19:11:10.852Z"
   },
   {
    "duration": 177,
    "start_time": "2022-06-18T19:11:20.895Z"
   },
   {
    "duration": 373,
    "start_time": "2022-06-18T19:16:27.824Z"
   },
   {
    "duration": 3,
    "start_time": "2022-06-18T19:17:14.573Z"
   },
   {
    "duration": 335,
    "start_time": "2022-06-18T19:17:41.558Z"
   },
   {
    "duration": 357,
    "start_time": "2022-06-18T19:18:42.170Z"
   },
   {
    "duration": 345,
    "start_time": "2022-06-18T19:19:01.461Z"
   },
   {
    "duration": 466,
    "start_time": "2022-06-18T19:21:04.409Z"
   },
   {
    "duration": 179,
    "start_time": "2022-06-18T19:24:22.175Z"
   },
   {
    "duration": 452,
    "start_time": "2022-06-18T19:24:29.819Z"
   },
   {
    "duration": 114,
    "start_time": "2022-06-18T19:24:30.273Z"
   },
   {
    "duration": 202,
    "start_time": "2022-06-18T19:24:30.389Z"
   },
   {
    "duration": 15,
    "start_time": "2022-06-18T19:24:30.593Z"
   },
   {
    "duration": 28,
    "start_time": "2022-06-18T19:24:30.610Z"
   },
   {
    "duration": 30,
    "start_time": "2022-06-18T19:24:30.640Z"
   },
   {
    "duration": 30,
    "start_time": "2022-06-18T19:24:30.672Z"
   },
   {
    "duration": 58,
    "start_time": "2022-06-18T19:24:30.704Z"
   },
   {
    "duration": 21,
    "start_time": "2022-06-18T19:24:30.764Z"
   },
   {
    "duration": 10229,
    "start_time": "2022-06-18T19:24:30.788Z"
   },
   {
    "duration": 36,
    "start_time": "2022-06-18T19:24:41.019Z"
   },
   {
    "duration": 498,
    "start_time": "2022-06-18T19:24:41.057Z"
   },
   {
    "duration": 246,
    "start_time": "2022-06-18T19:24:41.557Z"
   },
   {
    "duration": 326,
    "start_time": "2022-06-18T19:24:41.806Z"
   },
   {
    "duration": 147,
    "start_time": "2022-06-18T19:24:42.134Z"
   },
   {
    "duration": 161,
    "start_time": "2022-06-18T19:24:42.282Z"
   },
   {
    "duration": 6,
    "start_time": "2022-06-18T19:24:42.445Z"
   },
   {
    "duration": 13,
    "start_time": "2022-06-18T19:24:42.453Z"
   },
   {
    "duration": 70,
    "start_time": "2022-06-18T19:24:42.467Z"
   },
   {
    "duration": 222,
    "start_time": "2022-06-18T19:24:42.542Z"
   },
   {
    "duration": 203,
    "start_time": "2022-06-18T19:24:42.767Z"
   },
   {
    "duration": 193,
    "start_time": "2022-06-18T19:24:42.974Z"
   },
   {
    "duration": 172,
    "start_time": "2022-06-18T19:24:43.169Z"
   },
   {
    "duration": 163,
    "start_time": "2022-06-18T19:24:43.342Z"
   },
   {
    "duration": 165,
    "start_time": "2022-06-18T19:24:43.507Z"
   },
   {
    "duration": 145,
    "start_time": "2022-06-18T19:24:43.673Z"
   },
   {
    "duration": 34,
    "start_time": "2022-06-18T19:24:43.820Z"
   },
   {
    "duration": 41,
    "start_time": "2022-06-18T19:24:43.857Z"
   },
   {
    "duration": 256,
    "start_time": "2022-06-18T19:24:43.900Z"
   },
   {
    "duration": 288,
    "start_time": "2022-06-18T19:24:44.157Z"
   },
   {
    "duration": 263,
    "start_time": "2022-06-18T19:24:44.446Z"
   },
   {
    "duration": 260,
    "start_time": "2022-06-18T19:24:44.710Z"
   },
   {
    "duration": 276,
    "start_time": "2022-06-18T19:24:44.972Z"
   },
   {
    "duration": 257,
    "start_time": "2022-06-18T19:24:45.250Z"
   },
   {
    "duration": 374,
    "start_time": "2022-06-18T19:24:45.509Z"
   },
   {
    "duration": 175,
    "start_time": "2022-06-18T19:24:45.885Z"
   },
   {
    "duration": 155,
    "start_time": "2022-06-18T19:24:46.062Z"
   },
   {
    "duration": 3,
    "start_time": "2022-06-18T19:24:46.222Z"
   },
   {
    "duration": 357,
    "start_time": "2022-06-18T19:24:46.227Z"
   },
   {
    "duration": 356,
    "start_time": "2022-06-18T19:24:46.585Z"
   },
   {
    "duration": 356,
    "start_time": "2022-06-18T19:24:46.943Z"
   },
   {
    "duration": 168,
    "start_time": "2022-06-18T19:24:47.302Z"
   },
   {
    "duration": 154,
    "start_time": "2022-06-18T19:24:47.472Z"
   },
   {
    "duration": 156,
    "start_time": "2022-06-18T19:24:47.629Z"
   },
   {
    "duration": 169,
    "start_time": "2022-06-18T19:25:28.562Z"
   },
   {
    "duration": 169,
    "start_time": "2022-06-18T19:25:37.471Z"
   },
   {
    "duration": 325,
    "start_time": "2022-06-18T19:28:25.348Z"
   },
   {
    "duration": 425,
    "start_time": "2022-06-18T19:29:47.259Z"
   },
   {
    "duration": 332,
    "start_time": "2022-06-18T19:30:14.890Z"
   },
   {
    "duration": 318,
    "start_time": "2022-06-18T19:31:48.054Z"
   },
   {
    "duration": 383,
    "start_time": "2022-06-18T19:32:43.390Z"
   },
   {
    "duration": 115,
    "start_time": "2022-06-18T19:32:43.774Z"
   },
   {
    "duration": 207,
    "start_time": "2022-06-18T19:32:43.891Z"
   },
   {
    "duration": 25,
    "start_time": "2022-06-18T19:32:44.100Z"
   },
   {
    "duration": 13,
    "start_time": "2022-06-18T19:32:44.126Z"
   },
   {
    "duration": 24,
    "start_time": "2022-06-18T19:32:44.141Z"
   },
   {
    "duration": 9,
    "start_time": "2022-06-18T19:32:44.167Z"
   },
   {
    "duration": 12,
    "start_time": "2022-06-18T19:32:44.178Z"
   },
   {
    "duration": 12,
    "start_time": "2022-06-18T19:32:44.191Z"
   },
   {
    "duration": 10855,
    "start_time": "2022-06-18T19:32:44.205Z"
   },
   {
    "duration": 26,
    "start_time": "2022-06-18T19:32:55.062Z"
   },
   {
    "duration": 550,
    "start_time": "2022-06-18T19:32:55.089Z"
   },
   {
    "duration": 245,
    "start_time": "2022-06-18T19:32:55.647Z"
   },
   {
    "duration": 354,
    "start_time": "2022-06-18T19:32:55.893Z"
   },
   {
    "duration": 135,
    "start_time": "2022-06-18T19:32:56.250Z"
   },
   {
    "duration": 175,
    "start_time": "2022-06-18T19:32:56.387Z"
   },
   {
    "duration": 5,
    "start_time": "2022-06-18T19:32:56.563Z"
   },
   {
    "duration": 6,
    "start_time": "2022-06-18T19:32:56.570Z"
   },
   {
    "duration": 75,
    "start_time": "2022-06-18T19:32:56.579Z"
   },
   {
    "duration": 195,
    "start_time": "2022-06-18T19:32:56.656Z"
   },
   {
    "duration": 177,
    "start_time": "2022-06-18T19:32:56.857Z"
   },
   {
    "duration": 186,
    "start_time": "2022-06-18T19:32:57.041Z"
   },
   {
    "duration": 188,
    "start_time": "2022-06-18T19:32:57.228Z"
   },
   {
    "duration": 193,
    "start_time": "2022-06-18T19:32:57.417Z"
   },
   {
    "duration": 162,
    "start_time": "2022-06-18T19:32:57.612Z"
   },
   {
    "duration": 144,
    "start_time": "2022-06-18T19:32:57.776Z"
   },
   {
    "duration": 38,
    "start_time": "2022-06-18T19:32:57.921Z"
   },
   {
    "duration": 48,
    "start_time": "2022-06-18T19:32:57.967Z"
   },
   {
    "duration": 262,
    "start_time": "2022-06-18T19:32:58.017Z"
   },
   {
    "duration": 256,
    "start_time": "2022-06-18T19:32:58.281Z"
   },
   {
    "duration": 305,
    "start_time": "2022-06-18T19:32:58.539Z"
   },
   {
    "duration": 280,
    "start_time": "2022-06-18T19:32:58.846Z"
   },
   {
    "duration": 285,
    "start_time": "2022-06-18T19:32:59.129Z"
   },
   {
    "duration": 283,
    "start_time": "2022-06-18T19:32:59.416Z"
   },
   {
    "duration": 387,
    "start_time": "2022-06-18T19:32:59.702Z"
   },
   {
    "duration": 187,
    "start_time": "2022-06-18T19:33:00.091Z"
   },
   {
    "duration": 180,
    "start_time": "2022-06-18T19:33:00.280Z"
   },
   {
    "duration": 3,
    "start_time": "2022-06-18T19:33:00.462Z"
   },
   {
    "duration": 351,
    "start_time": "2022-06-18T19:33:00.466Z"
   },
   {
    "duration": 345,
    "start_time": "2022-06-18T19:33:00.823Z"
   },
   {
    "duration": 370,
    "start_time": "2022-06-18T19:33:01.169Z"
   },
   {
    "duration": 328,
    "start_time": "2022-06-18T19:33:01.546Z"
   },
   {
    "duration": 375,
    "start_time": "2022-06-18T19:33:01.876Z"
   },
   {
    "duration": 294,
    "start_time": "2022-06-18T19:33:02.253Z"
   },
   {
    "duration": 424,
    "start_time": "2022-06-19T00:54:00.676Z"
   },
   {
    "duration": 311,
    "start_time": "2022-06-19T00:54:01.102Z"
   },
   {
    "duration": 195,
    "start_time": "2022-06-19T00:54:01.415Z"
   },
   {
    "duration": 14,
    "start_time": "2022-06-19T00:54:01.612Z"
   },
   {
    "duration": 12,
    "start_time": "2022-06-19T00:54:01.628Z"
   },
   {
    "duration": 10,
    "start_time": "2022-06-19T00:54:01.641Z"
   },
   {
    "duration": 7,
    "start_time": "2022-06-19T00:54:01.653Z"
   },
   {
    "duration": 32,
    "start_time": "2022-06-19T00:54:01.662Z"
   },
   {
    "duration": 13,
    "start_time": "2022-06-19T00:54:01.696Z"
   },
   {
    "duration": 9907,
    "start_time": "2022-06-19T00:54:01.711Z"
   },
   {
    "duration": 23,
    "start_time": "2022-06-19T00:54:11.619Z"
   },
   {
    "duration": 604,
    "start_time": "2022-06-19T00:54:11.643Z"
   },
   {
    "duration": 236,
    "start_time": "2022-06-19T00:54:12.249Z"
   },
   {
    "duration": 290,
    "start_time": "2022-06-19T00:54:12.487Z"
   },
   {
    "duration": 146,
    "start_time": "2022-06-19T00:54:12.779Z"
   },
   {
    "duration": 152,
    "start_time": "2022-06-19T00:54:12.927Z"
   },
   {
    "duration": 14,
    "start_time": "2022-06-19T00:54:13.081Z"
   },
   {
    "duration": 5,
    "start_time": "2022-06-19T00:54:13.096Z"
   },
   {
    "duration": 52,
    "start_time": "2022-06-19T00:54:13.102Z"
   },
   {
    "duration": 174,
    "start_time": "2022-06-19T00:54:13.155Z"
   },
   {
    "duration": 157,
    "start_time": "2022-06-19T00:54:13.331Z"
   },
   {
    "duration": 168,
    "start_time": "2022-06-19T00:54:13.489Z"
   },
   {
    "duration": 156,
    "start_time": "2022-06-19T00:54:13.658Z"
   },
   {
    "duration": 154,
    "start_time": "2022-06-19T00:54:13.815Z"
   },
   {
    "duration": 157,
    "start_time": "2022-06-19T00:54:13.971Z"
   },
   {
    "duration": 140,
    "start_time": "2022-06-19T00:54:14.130Z"
   },
   {
    "duration": 8,
    "start_time": "2022-06-19T00:54:14.272Z"
   },
   {
    "duration": 37,
    "start_time": "2022-06-19T00:54:14.295Z"
   },
   {
    "duration": 244,
    "start_time": "2022-06-19T00:54:14.334Z"
   },
   {
    "duration": 248,
    "start_time": "2022-06-19T00:54:14.580Z"
   },
   {
    "duration": 243,
    "start_time": "2022-06-19T00:54:14.830Z"
   },
   {
    "duration": 241,
    "start_time": "2022-06-19T00:54:15.075Z"
   },
   {
    "duration": 240,
    "start_time": "2022-06-19T00:54:15.318Z"
   },
   {
    "duration": 248,
    "start_time": "2022-06-19T00:54:15.560Z"
   },
   {
    "duration": 336,
    "start_time": "2022-06-19T00:54:15.810Z"
   },
   {
    "duration": 148,
    "start_time": "2022-06-19T00:54:16.148Z"
   },
   {
    "duration": 140,
    "start_time": "2022-06-19T00:54:16.298Z"
   },
   {
    "duration": 309,
    "start_time": "2022-06-19T00:54:16.439Z"
   },
   {
    "duration": 293,
    "start_time": "2022-06-19T00:54:16.749Z"
   },
   {
    "duration": 320,
    "start_time": "2022-06-19T00:54:17.044Z"
   },
   {
    "duration": 290,
    "start_time": "2022-06-19T00:54:17.366Z"
   },
   {
    "duration": 283,
    "start_time": "2022-06-19T00:54:17.657Z"
   },
   {
    "duration": 277,
    "start_time": "2022-06-19T00:54:17.942Z"
   },
   {
    "duration": 402,
    "start_time": "2022-06-19T01:09:03.768Z"
   },
   {
    "duration": 319,
    "start_time": "2022-06-19T01:22:15.728Z"
   },
   {
    "duration": 311,
    "start_time": "2022-06-19T01:22:22.469Z"
   },
   {
    "duration": 110,
    "start_time": "2022-06-19T02:54:58.204Z"
   },
   {
    "duration": 27,
    "start_time": "2022-06-19T02:55:07.080Z"
   },
   {
    "duration": 35,
    "start_time": "2022-06-19T02:55:56.718Z"
   },
   {
    "duration": 441,
    "start_time": "2022-06-19T07:46:39.286Z"
   },
   {
    "duration": 180,
    "start_time": "2022-06-19T07:46:39.729Z"
   },
   {
    "duration": 186,
    "start_time": "2022-06-19T07:46:39.910Z"
   },
   {
    "duration": 52,
    "start_time": "2022-06-19T07:46:40.097Z"
   },
   {
    "duration": 8,
    "start_time": "2022-06-19T07:46:40.152Z"
   },
   {
    "duration": 10,
    "start_time": "2022-06-19T07:46:40.161Z"
   },
   {
    "duration": 9,
    "start_time": "2022-06-19T07:46:40.173Z"
   },
   {
    "duration": 43,
    "start_time": "2022-06-19T07:46:40.184Z"
   },
   {
    "duration": 19,
    "start_time": "2022-06-19T07:46:40.229Z"
   },
   {
    "duration": 10079,
    "start_time": "2022-06-19T07:46:40.251Z"
   },
   {
    "duration": 24,
    "start_time": "2022-06-19T07:46:50.332Z"
   },
   {
    "duration": 499,
    "start_time": "2022-06-19T07:46:50.358Z"
   },
   {
    "duration": 241,
    "start_time": "2022-06-19T07:46:50.859Z"
   },
   {
    "duration": 297,
    "start_time": "2022-06-19T07:46:51.104Z"
   },
   {
    "duration": 156,
    "start_time": "2022-06-19T07:46:51.403Z"
   },
   {
    "duration": 190,
    "start_time": "2022-06-19T07:46:51.561Z"
   },
   {
    "duration": 5,
    "start_time": "2022-06-19T07:46:51.753Z"
   },
   {
    "duration": 9,
    "start_time": "2022-06-19T07:46:51.759Z"
   },
   {
    "duration": 69,
    "start_time": "2022-06-19T07:46:51.770Z"
   },
   {
    "duration": 168,
    "start_time": "2022-06-19T07:46:51.840Z"
   },
   {
    "duration": 171,
    "start_time": "2022-06-19T07:46:52.010Z"
   },
   {
    "duration": 178,
    "start_time": "2022-06-19T07:46:52.183Z"
   },
   {
    "duration": 186,
    "start_time": "2022-06-19T07:46:52.364Z"
   },
   {
    "duration": 157,
    "start_time": "2022-06-19T07:46:52.552Z"
   },
   {
    "duration": 201,
    "start_time": "2022-06-19T07:46:52.710Z"
   },
   {
    "duration": 169,
    "start_time": "2022-06-19T07:46:52.913Z"
   },
   {
    "duration": 8,
    "start_time": "2022-06-19T07:46:53.083Z"
   },
   {
    "duration": 118,
    "start_time": "2022-06-19T07:46:53.093Z"
   },
   {
    "duration": 169,
    "start_time": "2022-06-19T07:46:53.213Z"
   },
   {
    "duration": 295,
    "start_time": "2022-06-19T07:46:53.384Z"
   },
   {
    "duration": 284,
    "start_time": "2022-06-19T07:46:53.681Z"
   },
   {
    "duration": 296,
    "start_time": "2022-06-19T07:46:53.966Z"
   },
   {
    "duration": 320,
    "start_time": "2022-06-19T07:46:54.264Z"
   },
   {
    "duration": 268,
    "start_time": "2022-06-19T07:46:54.587Z"
   },
   {
    "duration": 352,
    "start_time": "2022-06-19T07:46:54.858Z"
   },
   {
    "duration": 160,
    "start_time": "2022-06-19T07:46:55.211Z"
   },
   {
    "duration": 186,
    "start_time": "2022-06-19T07:46:55.372Z"
   },
   {
    "duration": 343,
    "start_time": "2022-06-19T07:46:55.560Z"
   },
   {
    "duration": 326,
    "start_time": "2022-06-19T07:46:55.904Z"
   },
   {
    "duration": 394,
    "start_time": "2022-06-19T07:46:56.233Z"
   },
   {
    "duration": 339,
    "start_time": "2022-06-19T07:46:56.632Z"
   },
   {
    "duration": 284,
    "start_time": "2022-06-19T07:46:56.972Z"
   },
   {
    "duration": 296,
    "start_time": "2022-06-19T07:46:57.258Z"
   },
   {
    "duration": 7,
    "start_time": "2022-06-19T07:49:43.954Z"
   },
   {
    "duration": 101,
    "start_time": "2022-06-19T07:51:27.515Z"
   },
   {
    "duration": 87,
    "start_time": "2022-06-19T07:53:25.453Z"
   },
   {
    "duration": 13,
    "start_time": "2022-06-19T07:57:20.072Z"
   },
   {
    "duration": 7,
    "start_time": "2022-06-19T07:58:08.555Z"
   },
   {
    "duration": 52,
    "start_time": "2022-06-19T14:57:54.047Z"
   },
   {
    "duration": 79,
    "start_time": "2022-06-20T16:28:16.662Z"
   },
   {
    "duration": 51,
    "start_time": "2022-06-20T16:29:12.634Z"
   },
   {
    "duration": 76,
    "start_time": "2022-06-20T16:31:04.263Z"
   },
   {
    "duration": 113,
    "start_time": "2022-06-20T16:31:39.282Z"
   },
   {
    "duration": 90,
    "start_time": "2022-06-20T16:31:53.064Z"
   },
   {
    "duration": 0,
    "start_time": "2022-06-20T16:31:53.157Z"
   },
   {
    "duration": 0,
    "start_time": "2022-06-20T16:31:53.158Z"
   },
   {
    "duration": 0,
    "start_time": "2022-06-20T16:31:53.160Z"
   },
   {
    "duration": 1,
    "start_time": "2022-06-20T16:31:53.161Z"
   },
   {
    "duration": 0,
    "start_time": "2022-06-20T16:31:53.163Z"
   },
   {
    "duration": 0,
    "start_time": "2022-06-20T16:31:53.165Z"
   },
   {
    "duration": 0,
    "start_time": "2022-06-20T16:31:53.166Z"
   },
   {
    "duration": 0,
    "start_time": "2022-06-20T16:31:53.168Z"
   },
   {
    "duration": 0,
    "start_time": "2022-06-20T16:31:53.169Z"
   },
   {
    "duration": 0,
    "start_time": "2022-06-20T16:31:53.171Z"
   },
   {
    "duration": 0,
    "start_time": "2022-06-20T16:31:53.172Z"
   },
   {
    "duration": 0,
    "start_time": "2022-06-20T16:31:53.173Z"
   },
   {
    "duration": 0,
    "start_time": "2022-06-20T16:31:53.174Z"
   },
   {
    "duration": 0,
    "start_time": "2022-06-20T16:31:53.176Z"
   },
   {
    "duration": 0,
    "start_time": "2022-06-20T16:31:53.177Z"
   },
   {
    "duration": 0,
    "start_time": "2022-06-20T16:31:53.178Z"
   },
   {
    "duration": 0,
    "start_time": "2022-06-20T16:31:53.179Z"
   },
   {
    "duration": 0,
    "start_time": "2022-06-20T16:31:53.181Z"
   },
   {
    "duration": 0,
    "start_time": "2022-06-20T16:31:53.182Z"
   },
   {
    "duration": 0,
    "start_time": "2022-06-20T16:31:53.184Z"
   },
   {
    "duration": 0,
    "start_time": "2022-06-20T16:31:53.186Z"
   },
   {
    "duration": 0,
    "start_time": "2022-06-20T16:31:53.187Z"
   },
   {
    "duration": 0,
    "start_time": "2022-06-20T16:31:53.197Z"
   },
   {
    "duration": 109,
    "start_time": "2022-06-20T16:31:53.200Z"
   },
   {
    "duration": 0,
    "start_time": "2022-06-20T16:31:53.312Z"
   },
   {
    "duration": 0,
    "start_time": "2022-06-20T16:31:53.313Z"
   },
   {
    "duration": 0,
    "start_time": "2022-06-20T16:31:53.315Z"
   },
   {
    "duration": 0,
    "start_time": "2022-06-20T16:31:53.317Z"
   },
   {
    "duration": 0,
    "start_time": "2022-06-20T16:31:53.319Z"
   },
   {
    "duration": 0,
    "start_time": "2022-06-20T16:31:53.320Z"
   },
   {
    "duration": 0,
    "start_time": "2022-06-20T16:31:53.321Z"
   },
   {
    "duration": 0,
    "start_time": "2022-06-20T16:31:53.323Z"
   },
   {
    "duration": 0,
    "start_time": "2022-06-20T16:31:53.325Z"
   },
   {
    "duration": 0,
    "start_time": "2022-06-20T16:31:53.326Z"
   },
   {
    "duration": 0,
    "start_time": "2022-06-20T16:31:53.328Z"
   },
   {
    "duration": 0,
    "start_time": "2022-06-20T16:31:53.329Z"
   },
   {
    "duration": 0,
    "start_time": "2022-06-20T16:31:53.331Z"
   },
   {
    "duration": 0,
    "start_time": "2022-06-20T16:31:53.332Z"
   },
   {
    "duration": 0,
    "start_time": "2022-06-20T16:31:53.334Z"
   },
   {
    "duration": 0,
    "start_time": "2022-06-20T16:31:53.335Z"
   },
   {
    "duration": 0,
    "start_time": "2022-06-20T16:31:53.337Z"
   },
   {
    "duration": 0,
    "start_time": "2022-06-20T16:31:53.339Z"
   },
   {
    "duration": 0,
    "start_time": "2022-06-20T16:31:53.340Z"
   },
   {
    "duration": 0,
    "start_time": "2022-06-20T16:31:53.342Z"
   },
   {
    "duration": 540,
    "start_time": "2022-06-20T16:47:55.413Z"
   },
   {
    "duration": 530,
    "start_time": "2022-06-20T16:47:55.956Z"
   },
   {
    "duration": 377,
    "start_time": "2022-06-20T16:47:56.494Z"
   },
   {
    "duration": 77,
    "start_time": "2022-06-20T16:47:56.880Z"
   },
   {
    "duration": 30,
    "start_time": "2022-06-20T16:47:56.965Z"
   },
   {
    "duration": 116,
    "start_time": "2022-06-20T16:47:56.997Z"
   },
   {
    "duration": 83,
    "start_time": "2022-06-20T16:47:57.122Z"
   },
   {
    "duration": 186,
    "start_time": "2022-06-20T16:47:57.213Z"
   },
   {
    "duration": 0,
    "start_time": "2022-06-20T16:47:57.410Z"
   },
   {
    "duration": 0,
    "start_time": "2022-06-20T16:47:57.416Z"
   },
   {
    "duration": 0,
    "start_time": "2022-06-20T16:47:57.422Z"
   },
   {
    "duration": 0,
    "start_time": "2022-06-20T16:47:57.428Z"
   },
   {
    "duration": 0,
    "start_time": "2022-06-20T16:47:57.430Z"
   },
   {
    "duration": 0,
    "start_time": "2022-06-20T16:47:57.437Z"
   },
   {
    "duration": 0,
    "start_time": "2022-06-20T16:47:57.439Z"
   },
   {
    "duration": 0,
    "start_time": "2022-06-20T16:47:57.440Z"
   },
   {
    "duration": 0,
    "start_time": "2022-06-20T16:47:57.441Z"
   },
   {
    "duration": 0,
    "start_time": "2022-06-20T16:47:57.443Z"
   },
   {
    "duration": 0,
    "start_time": "2022-06-20T16:47:57.444Z"
   },
   {
    "duration": 0,
    "start_time": "2022-06-20T16:47:57.446Z"
   },
   {
    "duration": 0,
    "start_time": "2022-06-20T16:47:57.457Z"
   },
   {
    "duration": 0,
    "start_time": "2022-06-20T16:47:57.459Z"
   },
   {
    "duration": 0,
    "start_time": "2022-06-20T16:47:57.461Z"
   },
   {
    "duration": 0,
    "start_time": "2022-06-20T16:47:57.462Z"
   },
   {
    "duration": 0,
    "start_time": "2022-06-20T16:47:57.464Z"
   },
   {
    "duration": 0,
    "start_time": "2022-06-20T16:47:57.465Z"
   },
   {
    "duration": 0,
    "start_time": "2022-06-20T16:47:57.467Z"
   },
   {
    "duration": 0,
    "start_time": "2022-06-20T16:47:57.468Z"
   },
   {
    "duration": 0,
    "start_time": "2022-06-20T16:47:57.469Z"
   },
   {
    "duration": 0,
    "start_time": "2022-06-20T16:47:57.471Z"
   },
   {
    "duration": 0,
    "start_time": "2022-06-20T16:47:57.488Z"
   },
   {
    "duration": 0,
    "start_time": "2022-06-20T16:47:57.490Z"
   },
   {
    "duration": 0,
    "start_time": "2022-06-20T16:47:57.492Z"
   },
   {
    "duration": 0,
    "start_time": "2022-06-20T16:47:57.494Z"
   },
   {
    "duration": 0,
    "start_time": "2022-06-20T16:47:57.505Z"
   },
   {
    "duration": 0,
    "start_time": "2022-06-20T16:47:57.508Z"
   },
   {
    "duration": 0,
    "start_time": "2022-06-20T16:47:57.510Z"
   },
   {
    "duration": 0,
    "start_time": "2022-06-20T16:47:57.512Z"
   },
   {
    "duration": 0,
    "start_time": "2022-06-20T16:47:57.513Z"
   },
   {
    "duration": 0,
    "start_time": "2022-06-20T16:47:57.514Z"
   },
   {
    "duration": 0,
    "start_time": "2022-06-20T16:47:57.520Z"
   },
   {
    "duration": 0,
    "start_time": "2022-06-20T16:47:57.521Z"
   },
   {
    "duration": 0,
    "start_time": "2022-06-20T16:47:57.523Z"
   },
   {
    "duration": 8,
    "start_time": "2022-06-20T16:50:36.128Z"
   },
   {
    "duration": 34,
    "start_time": "2022-06-20T16:50:40.795Z"
   },
   {
    "duration": 529,
    "start_time": "2022-06-20T16:51:10.133Z"
   },
   {
    "duration": 185,
    "start_time": "2022-06-20T16:51:10.665Z"
   },
   {
    "duration": 338,
    "start_time": "2022-06-20T16:51:10.853Z"
   },
   {
    "duration": 61,
    "start_time": "2022-06-20T16:51:11.194Z"
   },
   {
    "duration": 46,
    "start_time": "2022-06-20T16:51:11.259Z"
   },
   {
    "duration": 49,
    "start_time": "2022-06-20T16:51:11.314Z"
   },
   {
    "duration": 21,
    "start_time": "2022-06-20T16:51:11.366Z"
   },
   {
    "duration": 151,
    "start_time": "2022-06-20T16:51:11.392Z"
   },
   {
    "duration": 0,
    "start_time": "2022-06-20T16:51:11.547Z"
   },
   {
    "duration": 0,
    "start_time": "2022-06-20T16:51:11.549Z"
   },
   {
    "duration": 0,
    "start_time": "2022-06-20T16:51:11.550Z"
   },
   {
    "duration": 0,
    "start_time": "2022-06-20T16:51:11.551Z"
   },
   {
    "duration": 0,
    "start_time": "2022-06-20T16:51:11.552Z"
   },
   {
    "duration": 0,
    "start_time": "2022-06-20T16:51:11.553Z"
   },
   {
    "duration": 0,
    "start_time": "2022-06-20T16:51:11.555Z"
   },
   {
    "duration": 0,
    "start_time": "2022-06-20T16:51:11.556Z"
   },
   {
    "duration": 0,
    "start_time": "2022-06-20T16:51:11.558Z"
   },
   {
    "duration": 0,
    "start_time": "2022-06-20T16:51:11.559Z"
   },
   {
    "duration": 0,
    "start_time": "2022-06-20T16:51:11.561Z"
   },
   {
    "duration": 1,
    "start_time": "2022-06-20T16:51:11.562Z"
   },
   {
    "duration": 0,
    "start_time": "2022-06-20T16:51:11.564Z"
   },
   {
    "duration": 0,
    "start_time": "2022-06-20T16:51:11.566Z"
   },
   {
    "duration": 1,
    "start_time": "2022-06-20T16:51:11.593Z"
   },
   {
    "duration": 0,
    "start_time": "2022-06-20T16:51:11.600Z"
   },
   {
    "duration": 0,
    "start_time": "2022-06-20T16:51:11.602Z"
   },
   {
    "duration": 0,
    "start_time": "2022-06-20T16:51:11.603Z"
   },
   {
    "duration": 0,
    "start_time": "2022-06-20T16:51:11.604Z"
   },
   {
    "duration": 1,
    "start_time": "2022-06-20T16:51:11.605Z"
   },
   {
    "duration": 0,
    "start_time": "2022-06-20T16:51:11.607Z"
   },
   {
    "duration": 0,
    "start_time": "2022-06-20T16:51:11.609Z"
   },
   {
    "duration": 0,
    "start_time": "2022-06-20T16:51:11.610Z"
   },
   {
    "duration": 0,
    "start_time": "2022-06-20T16:51:11.612Z"
   },
   {
    "duration": 0,
    "start_time": "2022-06-20T16:51:11.613Z"
   },
   {
    "duration": 0,
    "start_time": "2022-06-20T16:51:11.615Z"
   },
   {
    "duration": 0,
    "start_time": "2022-06-20T16:51:11.617Z"
   },
   {
    "duration": 0,
    "start_time": "2022-06-20T16:51:11.620Z"
   },
   {
    "duration": 0,
    "start_time": "2022-06-20T16:51:11.621Z"
   },
   {
    "duration": 0,
    "start_time": "2022-06-20T16:51:11.623Z"
   },
   {
    "duration": 0,
    "start_time": "2022-06-20T16:51:11.625Z"
   },
   {
    "duration": 0,
    "start_time": "2022-06-20T16:51:11.627Z"
   },
   {
    "duration": 0,
    "start_time": "2022-06-20T16:51:11.628Z"
   },
   {
    "duration": 0,
    "start_time": "2022-06-20T16:51:11.630Z"
   },
   {
    "duration": 0,
    "start_time": "2022-06-20T16:51:11.631Z"
   },
   {
    "duration": 549,
    "start_time": "2022-06-20T16:51:39.966Z"
   },
   {
    "duration": 167,
    "start_time": "2022-06-20T16:51:40.523Z"
   },
   {
    "duration": 269,
    "start_time": "2022-06-20T16:51:40.695Z"
   },
   {
    "duration": 77,
    "start_time": "2022-06-20T16:51:40.968Z"
   },
   {
    "duration": 14,
    "start_time": "2022-06-20T16:51:41.047Z"
   },
   {
    "duration": 37,
    "start_time": "2022-06-20T16:51:41.063Z"
   },
   {
    "duration": 52,
    "start_time": "2022-06-20T16:51:41.102Z"
   },
   {
    "duration": 118,
    "start_time": "2022-06-20T16:51:41.157Z"
   },
   {
    "duration": 0,
    "start_time": "2022-06-20T16:51:41.280Z"
   },
   {
    "duration": 0,
    "start_time": "2022-06-20T16:51:41.282Z"
   },
   {
    "duration": 0,
    "start_time": "2022-06-20T16:51:41.286Z"
   },
   {
    "duration": 0,
    "start_time": "2022-06-20T16:51:41.294Z"
   },
   {
    "duration": 0,
    "start_time": "2022-06-20T16:51:41.296Z"
   },
   {
    "duration": 0,
    "start_time": "2022-06-20T16:51:41.297Z"
   },
   {
    "duration": 0,
    "start_time": "2022-06-20T16:51:41.299Z"
   },
   {
    "duration": 0,
    "start_time": "2022-06-20T16:51:41.300Z"
   },
   {
    "duration": 0,
    "start_time": "2022-06-20T16:51:41.302Z"
   },
   {
    "duration": 0,
    "start_time": "2022-06-20T16:51:41.304Z"
   },
   {
    "duration": 0,
    "start_time": "2022-06-20T16:51:41.306Z"
   },
   {
    "duration": 0,
    "start_time": "2022-06-20T16:51:41.307Z"
   },
   {
    "duration": 0,
    "start_time": "2022-06-20T16:51:41.309Z"
   },
   {
    "duration": 0,
    "start_time": "2022-06-20T16:51:41.311Z"
   },
   {
    "duration": 0,
    "start_time": "2022-06-20T16:51:41.312Z"
   },
   {
    "duration": 0,
    "start_time": "2022-06-20T16:51:41.314Z"
   },
   {
    "duration": 0,
    "start_time": "2022-06-20T16:51:41.316Z"
   },
   {
    "duration": 0,
    "start_time": "2022-06-20T16:51:41.318Z"
   },
   {
    "duration": 0,
    "start_time": "2022-06-20T16:51:41.319Z"
   },
   {
    "duration": 0,
    "start_time": "2022-06-20T16:51:41.321Z"
   },
   {
    "duration": 0,
    "start_time": "2022-06-20T16:51:41.323Z"
   },
   {
    "duration": 0,
    "start_time": "2022-06-20T16:51:41.324Z"
   },
   {
    "duration": 0,
    "start_time": "2022-06-20T16:51:41.326Z"
   },
   {
    "duration": 0,
    "start_time": "2022-06-20T16:51:41.328Z"
   },
   {
    "duration": 0,
    "start_time": "2022-06-20T16:51:41.330Z"
   },
   {
    "duration": 0,
    "start_time": "2022-06-20T16:51:41.331Z"
   },
   {
    "duration": 0,
    "start_time": "2022-06-20T16:51:41.333Z"
   },
   {
    "duration": 0,
    "start_time": "2022-06-20T16:51:41.334Z"
   },
   {
    "duration": 0,
    "start_time": "2022-06-20T16:51:41.335Z"
   },
   {
    "duration": 0,
    "start_time": "2022-06-20T16:51:41.337Z"
   },
   {
    "duration": 0,
    "start_time": "2022-06-20T16:51:41.338Z"
   },
   {
    "duration": 0,
    "start_time": "2022-06-20T16:51:41.339Z"
   },
   {
    "duration": 0,
    "start_time": "2022-06-20T16:51:41.340Z"
   },
   {
    "duration": 0,
    "start_time": "2022-06-20T16:51:41.341Z"
   },
   {
    "duration": 0,
    "start_time": "2022-06-20T16:51:41.343Z"
   },
   {
    "duration": 22,
    "start_time": "2022-06-20T16:52:43.867Z"
   },
   {
    "duration": 16,
    "start_time": "2022-06-20T16:53:50.560Z"
   },
   {
    "duration": 9,
    "start_time": "2022-06-20T17:07:43.770Z"
   },
   {
    "duration": 21,
    "start_time": "2022-06-20T17:07:54.311Z"
   },
   {
    "duration": 11,
    "start_time": "2022-06-20T17:09:10.242Z"
   },
   {
    "duration": 18,
    "start_time": "2022-06-20T17:09:16.122Z"
   },
   {
    "duration": 89,
    "start_time": "2022-06-20T17:10:15.835Z"
   },
   {
    "duration": 18,
    "start_time": "2022-06-20T17:11:31.458Z"
   },
   {
    "duration": 32,
    "start_time": "2022-06-20T17:12:38.508Z"
   },
   {
    "duration": 21,
    "start_time": "2022-06-20T17:17:54.117Z"
   },
   {
    "duration": 25,
    "start_time": "2022-06-20T17:17:59.676Z"
   },
   {
    "duration": 16,
    "start_time": "2022-06-20T17:18:02.152Z"
   },
   {
    "duration": 20,
    "start_time": "2022-06-20T17:18:16.941Z"
   },
   {
    "duration": 20,
    "start_time": "2022-06-20T17:18:23.476Z"
   },
   {
    "duration": 21,
    "start_time": "2022-06-20T17:18:32.746Z"
   },
   {
    "duration": 17,
    "start_time": "2022-06-20T17:19:43.310Z"
   },
   {
    "duration": 22,
    "start_time": "2022-06-20T17:20:17.513Z"
   },
   {
    "duration": 17,
    "start_time": "2022-06-20T17:20:47.570Z"
   },
   {
    "duration": 13,
    "start_time": "2022-06-20T17:22:12.578Z"
   },
   {
    "duration": 429,
    "start_time": "2022-06-20T17:23:59.858Z"
   },
   {
    "duration": 133,
    "start_time": "2022-06-20T17:24:00.290Z"
   },
   {
    "duration": 218,
    "start_time": "2022-06-20T17:24:00.425Z"
   },
   {
    "duration": 58,
    "start_time": "2022-06-20T17:24:00.645Z"
   },
   {
    "duration": 13,
    "start_time": "2022-06-20T17:24:00.707Z"
   },
   {
    "duration": 36,
    "start_time": "2022-06-20T17:24:00.725Z"
   },
   {
    "duration": 11,
    "start_time": "2022-06-20T17:24:00.763Z"
   },
   {
    "duration": 24,
    "start_time": "2022-06-20T17:24:00.776Z"
   },
   {
    "duration": 37,
    "start_time": "2022-06-20T17:24:00.801Z"
   },
   {
    "duration": 11008,
    "start_time": "2022-06-20T17:24:00.840Z"
   },
   {
    "duration": 25,
    "start_time": "2022-06-20T17:24:11.850Z"
   },
   {
    "duration": 67,
    "start_time": "2022-06-20T17:24:11.895Z"
   },
   {
    "duration": 0,
    "start_time": "2022-06-20T17:24:11.964Z"
   },
   {
    "duration": 0,
    "start_time": "2022-06-20T17:24:11.966Z"
   },
   {
    "duration": 0,
    "start_time": "2022-06-20T17:24:11.967Z"
   },
   {
    "duration": 0,
    "start_time": "2022-06-20T17:24:11.968Z"
   },
   {
    "duration": 0,
    "start_time": "2022-06-20T17:24:11.969Z"
   },
   {
    "duration": 0,
    "start_time": "2022-06-20T17:24:11.970Z"
   },
   {
    "duration": 0,
    "start_time": "2022-06-20T17:24:11.971Z"
   },
   {
    "duration": 0,
    "start_time": "2022-06-20T17:24:11.972Z"
   },
   {
    "duration": 0,
    "start_time": "2022-06-20T17:24:11.973Z"
   },
   {
    "duration": 0,
    "start_time": "2022-06-20T17:24:11.975Z"
   },
   {
    "duration": 0,
    "start_time": "2022-06-20T17:24:11.976Z"
   },
   {
    "duration": 0,
    "start_time": "2022-06-20T17:24:11.977Z"
   },
   {
    "duration": 0,
    "start_time": "2022-06-20T17:24:11.978Z"
   },
   {
    "duration": 0,
    "start_time": "2022-06-20T17:24:11.979Z"
   },
   {
    "duration": 0,
    "start_time": "2022-06-20T17:24:11.980Z"
   },
   {
    "duration": 0,
    "start_time": "2022-06-20T17:24:11.981Z"
   },
   {
    "duration": 0,
    "start_time": "2022-06-20T17:24:11.982Z"
   },
   {
    "duration": 0,
    "start_time": "2022-06-20T17:24:11.983Z"
   },
   {
    "duration": 0,
    "start_time": "2022-06-20T17:24:11.984Z"
   },
   {
    "duration": 0,
    "start_time": "2022-06-20T17:24:11.985Z"
   },
   {
    "duration": 0,
    "start_time": "2022-06-20T17:24:11.986Z"
   },
   {
    "duration": 0,
    "start_time": "2022-06-20T17:24:11.987Z"
   },
   {
    "duration": 0,
    "start_time": "2022-06-20T17:24:11.989Z"
   },
   {
    "duration": 0,
    "start_time": "2022-06-20T17:24:11.990Z"
   },
   {
    "duration": 0,
    "start_time": "2022-06-20T17:24:11.990Z"
   },
   {
    "duration": 0,
    "start_time": "2022-06-20T17:24:11.991Z"
   },
   {
    "duration": 0,
    "start_time": "2022-06-20T17:24:11.992Z"
   },
   {
    "duration": 0,
    "start_time": "2022-06-20T17:24:11.995Z"
   },
   {
    "duration": 0,
    "start_time": "2022-06-20T17:24:11.997Z"
   },
   {
    "duration": 0,
    "start_time": "2022-06-20T17:24:11.998Z"
   },
   {
    "duration": 0,
    "start_time": "2022-06-20T17:24:11.999Z"
   },
   {
    "duration": 795,
    "start_time": "2022-06-20T17:25:04.264Z"
   },
   {
    "duration": 447,
    "start_time": "2022-06-20T17:25:44.400Z"
   },
   {
    "duration": 116,
    "start_time": "2022-06-20T17:25:44.849Z"
   },
   {
    "duration": 264,
    "start_time": "2022-06-20T17:25:44.967Z"
   },
   {
    "duration": 37,
    "start_time": "2022-06-20T17:25:45.240Z"
   },
   {
    "duration": 16,
    "start_time": "2022-06-20T17:25:45.280Z"
   },
   {
    "duration": 46,
    "start_time": "2022-06-20T17:25:45.297Z"
   },
   {
    "duration": 19,
    "start_time": "2022-06-20T17:25:45.346Z"
   },
   {
    "duration": 25,
    "start_time": "2022-06-20T17:25:45.368Z"
   },
   {
    "duration": 52,
    "start_time": "2022-06-20T17:25:45.399Z"
   },
   {
    "duration": 10963,
    "start_time": "2022-06-20T17:25:45.453Z"
   },
   {
    "duration": 38,
    "start_time": "2022-06-20T17:25:56.430Z"
   },
   {
    "duration": 534,
    "start_time": "2022-06-20T17:25:56.470Z"
   },
   {
    "duration": 275,
    "start_time": "2022-06-20T17:25:57.006Z"
   },
   {
    "duration": 345,
    "start_time": "2022-06-20T17:25:57.284Z"
   },
   {
    "duration": 162,
    "start_time": "2022-06-20T17:25:57.634Z"
   },
   {
    "duration": 169,
    "start_time": "2022-06-20T17:25:57.799Z"
   },
   {
    "duration": 7,
    "start_time": "2022-06-20T17:25:57.970Z"
   },
   {
    "duration": 53,
    "start_time": "2022-06-20T17:25:57.979Z"
   },
   {
    "duration": 59,
    "start_time": "2022-06-20T17:25:58.034Z"
   },
   {
    "duration": 201,
    "start_time": "2022-06-20T17:25:58.100Z"
   },
   {
    "duration": 186,
    "start_time": "2022-06-20T17:25:58.305Z"
   },
   {
    "duration": 192,
    "start_time": "2022-06-20T17:25:58.493Z"
   },
   {
    "duration": 200,
    "start_time": "2022-06-20T17:25:58.687Z"
   },
   {
    "duration": 258,
    "start_time": "2022-06-20T17:25:58.893Z"
   },
   {
    "duration": 193,
    "start_time": "2022-06-20T17:25:59.153Z"
   },
   {
    "duration": 194,
    "start_time": "2022-06-20T17:25:59.349Z"
   },
   {
    "duration": 13,
    "start_time": "2022-06-20T17:25:59.545Z"
   },
   {
    "duration": 75,
    "start_time": "2022-06-20T17:25:59.563Z"
   },
   {
    "duration": 258,
    "start_time": "2022-06-20T17:25:59.640Z"
   },
   {
    "duration": 319,
    "start_time": "2022-06-20T17:25:59.900Z"
   },
   {
    "duration": 301,
    "start_time": "2022-06-20T17:26:00.220Z"
   },
   {
    "duration": 310,
    "start_time": "2022-06-20T17:26:00.525Z"
   },
   {
    "duration": 322,
    "start_time": "2022-06-20T17:26:00.837Z"
   },
   {
    "duration": 352,
    "start_time": "2022-06-20T17:26:01.161Z"
   },
   {
    "duration": 410,
    "start_time": "2022-06-20T17:26:01.519Z"
   },
   {
    "duration": 230,
    "start_time": "2022-06-20T17:26:01.931Z"
   },
   {
    "duration": 199,
    "start_time": "2022-06-20T17:26:02.163Z"
   },
   {
    "duration": 473,
    "start_time": "2022-06-20T17:26:02.364Z"
   },
   {
    "duration": 433,
    "start_time": "2022-06-20T17:26:02.839Z"
   },
   {
    "duration": 440,
    "start_time": "2022-06-20T17:26:03.274Z"
   },
   {
    "duration": 340,
    "start_time": "2022-06-20T17:26:03.722Z"
   },
   {
    "duration": 365,
    "start_time": "2022-06-20T17:26:04.077Z"
   },
   {
    "duration": 414,
    "start_time": "2022-06-20T17:26:04.444Z"
   },
   {
    "duration": 123,
    "start_time": "2022-06-20T17:36:54.765Z"
   },
   {
    "duration": 9,
    "start_time": "2022-06-20T17:37:02.629Z"
   },
   {
    "duration": 44,
    "start_time": "2022-06-20T19:58:17.102Z"
   },
   {
    "duration": 379,
    "start_time": "2022-06-20T19:58:24.583Z"
   },
   {
    "duration": 308,
    "start_time": "2022-06-20T19:58:24.964Z"
   },
   {
    "duration": 180,
    "start_time": "2022-06-20T19:58:25.273Z"
   },
   {
    "duration": 32,
    "start_time": "2022-06-20T19:58:25.458Z"
   },
   {
    "duration": 8,
    "start_time": "2022-06-20T19:58:25.492Z"
   },
   {
    "duration": 8,
    "start_time": "2022-06-20T19:58:25.502Z"
   },
   {
    "duration": 7,
    "start_time": "2022-06-20T19:58:25.512Z"
   },
   {
    "duration": 49,
    "start_time": "2022-06-20T19:58:25.520Z"
   },
   {
    "duration": 12,
    "start_time": "2022-06-20T19:58:25.570Z"
   },
   {
    "duration": 9183,
    "start_time": "2022-06-20T19:58:25.585Z"
   },
   {
    "duration": 23,
    "start_time": "2022-06-20T19:58:34.770Z"
   },
   {
    "duration": 609,
    "start_time": "2022-06-20T19:58:34.795Z"
   },
   {
    "duration": 215,
    "start_time": "2022-06-20T19:58:35.405Z"
   },
   {
    "duration": 289,
    "start_time": "2022-06-20T19:58:35.622Z"
   },
   {
    "duration": 137,
    "start_time": "2022-06-20T19:58:35.913Z"
   },
   {
    "duration": 144,
    "start_time": "2022-06-20T19:58:36.052Z"
   },
   {
    "duration": 5,
    "start_time": "2022-06-20T19:58:36.197Z"
   },
   {
    "duration": 6,
    "start_time": "2022-06-20T19:58:36.203Z"
   },
   {
    "duration": 72,
    "start_time": "2022-06-20T19:58:36.210Z"
   },
   {
    "duration": 153,
    "start_time": "2022-06-20T19:58:36.284Z"
   },
   {
    "duration": 149,
    "start_time": "2022-06-20T19:58:36.438Z"
   },
   {
    "duration": 159,
    "start_time": "2022-06-20T19:58:36.588Z"
   },
   {
    "duration": 163,
    "start_time": "2022-06-20T19:58:36.749Z"
   },
   {
    "duration": 147,
    "start_time": "2022-06-20T19:58:36.913Z"
   },
   {
    "duration": 142,
    "start_time": "2022-06-20T19:58:37.062Z"
   },
   {
    "duration": 130,
    "start_time": "2022-06-20T19:58:37.206Z"
   },
   {
    "duration": 6,
    "start_time": "2022-06-20T19:58:37.338Z"
   },
   {
    "duration": 6,
    "start_time": "2022-06-20T19:58:37.360Z"
   },
   {
    "duration": 49,
    "start_time": "2022-06-20T19:58:37.368Z"
   },
   {
    "duration": 277,
    "start_time": "2022-06-20T19:58:37.419Z"
   },
   {
    "duration": 239,
    "start_time": "2022-06-20T19:58:37.698Z"
   },
   {
    "duration": 231,
    "start_time": "2022-06-20T19:58:37.939Z"
   },
   {
    "duration": 233,
    "start_time": "2022-06-20T19:58:38.172Z"
   },
   {
    "duration": 235,
    "start_time": "2022-06-20T19:58:38.407Z"
   },
   {
    "duration": 233,
    "start_time": "2022-06-20T19:58:38.644Z"
   },
   {
    "duration": 345,
    "start_time": "2022-06-20T19:58:38.878Z"
   },
   {
    "duration": 131,
    "start_time": "2022-06-20T19:58:39.224Z"
   },
   {
    "duration": 145,
    "start_time": "2022-06-20T19:58:39.359Z"
   },
   {
    "duration": 297,
    "start_time": "2022-06-20T19:58:39.506Z"
   },
   {
    "duration": 297,
    "start_time": "2022-06-20T19:58:39.805Z"
   },
   {
    "duration": 305,
    "start_time": "2022-06-20T19:58:40.104Z"
   },
   {
    "duration": 85,
    "start_time": "2022-06-20T19:58:40.411Z"
   },
   {
    "duration": 0,
    "start_time": "2022-06-20T19:58:40.499Z"
   },
   {
    "duration": 0,
    "start_time": "2022-06-20T19:58:40.500Z"
   },
   {
    "duration": 0,
    "start_time": "2022-06-20T19:58:40.501Z"
   },
   {
    "duration": 7,
    "start_time": "2022-06-20T21:03:17.224Z"
   },
   {
    "duration": 8,
    "start_time": "2022-06-20T21:03:59.963Z"
   },
   {
    "duration": 392,
    "start_time": "2022-06-20T21:07:02.683Z"
   },
   {
    "duration": 97,
    "start_time": "2022-06-20T21:07:03.077Z"
   },
   {
    "duration": 178,
    "start_time": "2022-06-20T21:07:03.176Z"
   },
   {
    "duration": 31,
    "start_time": "2022-06-20T21:07:03.359Z"
   },
   {
    "duration": 8,
    "start_time": "2022-06-20T21:07:03.392Z"
   },
   {
    "duration": 8,
    "start_time": "2022-06-20T21:07:03.402Z"
   },
   {
    "duration": 16,
    "start_time": "2022-06-20T21:07:03.411Z"
   },
   {
    "duration": 36,
    "start_time": "2022-06-20T21:07:03.428Z"
   },
   {
    "duration": 13,
    "start_time": "2022-06-20T21:07:03.466Z"
   },
   {
    "duration": 9433,
    "start_time": "2022-06-20T21:07:03.481Z"
   },
   {
    "duration": 25,
    "start_time": "2022-06-20T21:07:12.915Z"
   },
   {
    "duration": 485,
    "start_time": "2022-06-20T21:07:12.942Z"
   },
   {
    "duration": 228,
    "start_time": "2022-06-20T21:07:13.429Z"
   },
   {
    "duration": 288,
    "start_time": "2022-06-20T21:07:13.658Z"
   },
   {
    "duration": 135,
    "start_time": "2022-06-20T21:07:13.948Z"
   },
   {
    "duration": 145,
    "start_time": "2022-06-20T21:07:14.085Z"
   },
   {
    "duration": 6,
    "start_time": "2022-06-20T21:07:14.232Z"
   },
   {
    "duration": 19,
    "start_time": "2022-06-20T21:07:14.240Z"
   },
   {
    "duration": 45,
    "start_time": "2022-06-20T21:07:14.261Z"
   },
   {
    "duration": 175,
    "start_time": "2022-06-20T21:07:14.308Z"
   },
   {
    "duration": 150,
    "start_time": "2022-06-20T21:07:14.485Z"
   },
   {
    "duration": 172,
    "start_time": "2022-06-20T21:07:14.636Z"
   },
   {
    "duration": 166,
    "start_time": "2022-06-20T21:07:14.810Z"
   },
   {
    "duration": 159,
    "start_time": "2022-06-20T21:07:14.978Z"
   },
   {
    "duration": 146,
    "start_time": "2022-06-20T21:07:15.139Z"
   },
   {
    "duration": 137,
    "start_time": "2022-06-20T21:07:15.286Z"
   },
   {
    "duration": 8,
    "start_time": "2022-06-20T21:07:15.424Z"
   },
   {
    "duration": 24,
    "start_time": "2022-06-20T21:07:15.435Z"
   },
   {
    "duration": 36,
    "start_time": "2022-06-20T21:07:15.461Z"
   },
   {
    "duration": 246,
    "start_time": "2022-06-20T21:07:15.499Z"
   },
   {
    "duration": 14,
    "start_time": "2022-06-20T21:07:15.747Z"
   },
   {
    "duration": 235,
    "start_time": "2022-06-20T21:07:15.762Z"
   },
   {
    "duration": 240,
    "start_time": "2022-06-20T21:07:15.999Z"
   },
   {
    "duration": 220,
    "start_time": "2022-06-20T21:07:16.240Z"
   },
   {
    "duration": 236,
    "start_time": "2022-06-20T21:07:16.462Z"
   },
   {
    "duration": 230,
    "start_time": "2022-06-20T21:07:16.699Z"
   },
   {
    "duration": 339,
    "start_time": "2022-06-20T21:07:16.931Z"
   },
   {
    "duration": 195,
    "start_time": "2022-06-20T21:07:17.272Z"
   },
   {
    "duration": 148,
    "start_time": "2022-06-20T21:07:17.469Z"
   },
   {
    "duration": 310,
    "start_time": "2022-06-20T21:07:17.619Z"
   },
   {
    "duration": 292,
    "start_time": "2022-06-20T21:07:17.931Z"
   },
   {
    "duration": 312,
    "start_time": "2022-06-20T21:07:18.225Z"
   },
   {
    "duration": 23,
    "start_time": "2022-06-20T21:07:18.539Z"
   },
   {
    "duration": 297,
    "start_time": "2022-06-20T21:07:18.564Z"
   },
   {
    "duration": 286,
    "start_time": "2022-06-20T21:07:18.863Z"
   },
   {
    "duration": 278,
    "start_time": "2022-06-20T21:07:19.150Z"
   },
   {
    "duration": 393,
    "start_time": "2022-06-20T21:22:05.459Z"
   },
   {
    "duration": 100,
    "start_time": "2022-06-20T21:22:05.853Z"
   },
   {
    "duration": 175,
    "start_time": "2022-06-20T21:22:05.955Z"
   },
   {
    "duration": 46,
    "start_time": "2022-06-20T21:22:06.132Z"
   },
   {
    "duration": 9,
    "start_time": "2022-06-20T21:22:06.181Z"
   },
   {
    "duration": 12,
    "start_time": "2022-06-20T21:22:06.191Z"
   },
   {
    "duration": 11,
    "start_time": "2022-06-20T21:22:06.204Z"
   },
   {
    "duration": 30,
    "start_time": "2022-06-20T21:22:06.216Z"
   },
   {
    "duration": 20,
    "start_time": "2022-06-20T21:22:06.248Z"
   },
   {
    "duration": 401,
    "start_time": "2022-06-21T18:17:22.908Z"
   },
   {
    "duration": 155,
    "start_time": "2022-06-21T18:17:23.312Z"
   },
   {
    "duration": 229,
    "start_time": "2022-06-21T18:17:23.469Z"
   },
   {
    "duration": 38,
    "start_time": "2022-06-21T18:17:23.702Z"
   },
   {
    "duration": 26,
    "start_time": "2022-06-21T18:17:23.743Z"
   },
   {
    "duration": 56,
    "start_time": "2022-06-21T18:17:23.771Z"
   },
   {
    "duration": 9,
    "start_time": "2022-06-21T18:17:23.829Z"
   },
   {
    "duration": 15,
    "start_time": "2022-06-21T18:17:23.840Z"
   },
   {
    "duration": 19,
    "start_time": "2022-06-21T18:17:23.856Z"
   },
   {
    "duration": 11251,
    "start_time": "2022-06-21T18:17:23.878Z"
   },
   {
    "duration": 35,
    "start_time": "2022-06-21T18:17:35.131Z"
   },
   {
    "duration": 594,
    "start_time": "2022-06-21T18:17:35.168Z"
   },
   {
    "duration": 274,
    "start_time": "2022-06-21T18:17:35.765Z"
   },
   {
    "duration": 346,
    "start_time": "2022-06-21T18:17:36.043Z"
   },
   {
    "duration": 199,
    "start_time": "2022-06-21T18:17:36.391Z"
   },
   {
    "duration": 206,
    "start_time": "2022-06-21T18:17:36.592Z"
   },
   {
    "duration": 5,
    "start_time": "2022-06-21T18:17:36.800Z"
   },
   {
    "duration": 8,
    "start_time": "2022-06-21T18:17:36.807Z"
   },
   {
    "duration": 81,
    "start_time": "2022-06-21T18:17:36.817Z"
   },
   {
    "duration": 219,
    "start_time": "2022-06-21T18:17:36.900Z"
   },
   {
    "duration": 213,
    "start_time": "2022-06-21T18:17:37.121Z"
   },
   {
    "duration": 226,
    "start_time": "2022-06-21T18:17:37.336Z"
   },
   {
    "duration": 204,
    "start_time": "2022-06-21T18:17:37.564Z"
   },
   {
    "duration": 208,
    "start_time": "2022-06-21T18:17:37.770Z"
   },
   {
    "duration": 215,
    "start_time": "2022-06-21T18:17:37.980Z"
   },
   {
    "duration": 190,
    "start_time": "2022-06-21T18:17:38.198Z"
   },
   {
    "duration": 8,
    "start_time": "2022-06-21T18:17:38.390Z"
   },
   {
    "duration": 31,
    "start_time": "2022-06-21T18:17:38.400Z"
   },
   {
    "duration": 177,
    "start_time": "2022-06-21T18:17:38.434Z"
   },
   {
    "duration": 237,
    "start_time": "2022-06-21T18:17:38.614Z"
   },
   {
    "duration": 19,
    "start_time": "2022-06-21T18:17:38.853Z"
   },
   {
    "duration": 413,
    "start_time": "2022-06-21T18:17:38.874Z"
   },
   {
    "duration": 316,
    "start_time": "2022-06-21T18:17:39.290Z"
   },
   {
    "duration": 302,
    "start_time": "2022-06-21T18:17:39.607Z"
   },
   {
    "duration": 338,
    "start_time": "2022-06-21T18:17:39.911Z"
   },
   {
    "duration": 317,
    "start_time": "2022-06-21T18:17:40.262Z"
   },
   {
    "duration": 340,
    "start_time": "2022-06-21T18:17:40.585Z"
   },
   {
    "duration": 187,
    "start_time": "2022-06-21T18:17:40.926Z"
   },
   {
    "duration": 211,
    "start_time": "2022-06-21T18:17:41.115Z"
   },
   {
    "duration": 366,
    "start_time": "2022-06-21T18:17:41.328Z"
   },
   {
    "duration": 368,
    "start_time": "2022-06-21T18:17:41.698Z"
   },
   {
    "duration": 358,
    "start_time": "2022-06-21T18:17:42.068Z"
   },
   {
    "duration": 8,
    "start_time": "2022-06-21T18:17:42.428Z"
   },
   {
    "duration": 344,
    "start_time": "2022-06-21T18:17:42.438Z"
   },
   {
    "duration": 308,
    "start_time": "2022-06-21T18:17:42.784Z"
   },
   {
    "duration": 330,
    "start_time": "2022-06-21T18:17:43.093Z"
   },
   {
    "duration": 58,
    "start_time": "2022-06-21T18:27:39.890Z"
   },
   {
    "duration": 90,
    "start_time": "2022-06-21T18:28:02.310Z"
   },
   {
    "duration": 9,
    "start_time": "2022-06-21T18:30:27.027Z"
   },
   {
    "duration": 11,
    "start_time": "2022-06-21T18:33:08.714Z"
   },
   {
    "duration": 459,
    "start_time": "2022-10-09T20:26:59.769Z"
   },
   {
    "duration": 171,
    "start_time": "2022-10-09T20:27:00.231Z"
   },
   {
    "duration": 205,
    "start_time": "2022-10-09T20:27:00.404Z"
   },
   {
    "duration": 38,
    "start_time": "2022-10-09T20:27:00.611Z"
   },
   {
    "duration": 10,
    "start_time": "2022-10-09T20:27:00.651Z"
   },
   {
    "duration": 30,
    "start_time": "2022-10-09T20:27:00.663Z"
   },
   {
    "duration": 40,
    "start_time": "2022-10-09T20:27:00.694Z"
   },
   {
    "duration": 48,
    "start_time": "2022-10-09T20:27:00.737Z"
   },
   {
    "duration": 16,
    "start_time": "2022-10-09T20:27:00.787Z"
   },
   {
    "duration": 10780,
    "start_time": "2022-10-09T20:27:00.806Z"
   },
   {
    "duration": 30,
    "start_time": "2022-10-09T20:27:11.588Z"
   },
   {
    "duration": 765,
    "start_time": "2022-10-09T20:27:11.619Z"
   },
   {
    "duration": 250,
    "start_time": "2022-10-09T20:27:12.389Z"
   },
   {
    "duration": 321,
    "start_time": "2022-10-09T20:27:12.641Z"
   },
   {
    "duration": 153,
    "start_time": "2022-10-09T20:27:12.964Z"
   },
   {
    "duration": 170,
    "start_time": "2022-10-09T20:27:13.119Z"
   },
   {
    "duration": 6,
    "start_time": "2022-10-09T20:27:13.291Z"
   },
   {
    "duration": 5,
    "start_time": "2022-10-09T20:27:13.299Z"
   },
   {
    "duration": 91,
    "start_time": "2022-10-09T20:27:13.306Z"
   },
   {
    "duration": 197,
    "start_time": "2022-10-09T20:27:13.399Z"
   },
   {
    "duration": 194,
    "start_time": "2022-10-09T20:27:13.597Z"
   },
   {
    "duration": 187,
    "start_time": "2022-10-09T20:27:13.793Z"
   },
   {
    "duration": 194,
    "start_time": "2022-10-09T20:27:13.982Z"
   },
   {
    "duration": 182,
    "start_time": "2022-10-09T20:27:14.178Z"
   },
   {
    "duration": 176,
    "start_time": "2022-10-09T20:27:14.361Z"
   },
   {
    "duration": 163,
    "start_time": "2022-10-09T20:27:14.540Z"
   },
   {
    "duration": 9,
    "start_time": "2022-10-09T20:27:14.704Z"
   },
   {
    "duration": 13,
    "start_time": "2022-10-09T20:27:14.718Z"
   },
   {
    "duration": 9,
    "start_time": "2022-10-09T20:27:14.733Z"
   },
   {
    "duration": 156,
    "start_time": "2022-10-09T20:27:14.743Z"
   },
   {
    "duration": 192,
    "start_time": "2022-10-09T20:27:14.901Z"
   },
   {
    "duration": 11,
    "start_time": "2022-10-09T20:27:15.096Z"
   },
   {
    "duration": 300,
    "start_time": "2022-10-09T20:27:15.109Z"
   },
   {
    "duration": 285,
    "start_time": "2022-10-09T20:27:15.412Z"
   },
   {
    "duration": 272,
    "start_time": "2022-10-09T20:27:15.699Z"
   },
   {
    "duration": 271,
    "start_time": "2022-10-09T20:27:15.973Z"
   },
   {
    "duration": 308,
    "start_time": "2022-10-09T20:27:16.246Z"
   },
   {
    "duration": 382,
    "start_time": "2022-10-09T20:27:16.556Z"
   },
   {
    "duration": 168,
    "start_time": "2022-10-09T20:27:16.940Z"
   },
   {
    "duration": 173,
    "start_time": "2022-10-09T20:27:17.111Z"
   },
   {
    "duration": 381,
    "start_time": "2022-10-09T20:27:17.290Z"
   },
   {
    "duration": 364,
    "start_time": "2022-10-09T20:27:17.673Z"
   },
   {
    "duration": 391,
    "start_time": "2022-10-09T20:27:18.039Z"
   },
   {
    "duration": 9,
    "start_time": "2022-10-09T20:27:18.433Z"
   },
   {
    "duration": 377,
    "start_time": "2022-10-09T20:27:18.444Z"
   },
   {
    "duration": 349,
    "start_time": "2022-10-09T20:27:18.823Z"
   },
   {
    "duration": 339,
    "start_time": "2022-10-09T20:27:19.174Z"
   }
  ],
  "kernelspec": {
   "display_name": "Python 3 (ipykernel)",
   "language": "python",
   "name": "python3"
  },
  "language_info": {
   "codemirror_mode": {
    "name": "ipython",
    "version": 3
   },
   "file_extension": ".py",
   "mimetype": "text/x-python",
   "name": "python",
   "nbconvert_exporter": "python",
   "pygments_lexer": "ipython3",
   "version": "3.9.5"
  },
  "toc": {
   "base_numbering": 1,
   "nav_menu": {
    "height": "212px",
    "width": "245px"
   },
   "number_sections": true,
   "sideBar": true,
   "skip_h1_title": true,
   "title_cell": "Содержание",
   "title_sidebar": "Contents",
   "toc_cell": true,
   "toc_position": {
    "height": "calc(100% - 180px)",
    "left": "10px",
    "top": "150px",
    "width": "205.3px"
   },
   "toc_section_display": true,
   "toc_window_display": true
  }
 },
 "nbformat": 4,
 "nbformat_minor": 4
}
